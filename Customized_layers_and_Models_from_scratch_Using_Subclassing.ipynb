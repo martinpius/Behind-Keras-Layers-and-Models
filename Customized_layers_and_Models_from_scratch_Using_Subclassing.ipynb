{
  "nbformat": 4,
  "nbformat_minor": 0,
  "metadata": {
    "colab": {
      "name": "Customized_layers_and_Models_from_scratch_Using_Subclassing.ipynb",
      "provenance": [],
      "authorship_tag": "ABX9TyNIEijYP0Lbf7Eyb/ERC4I4",
      "include_colab_link": true
    },
    "kernelspec": {
      "name": "python3",
      "display_name": "Python 3"
    }
  },
  "cells": [
    {
      "cell_type": "markdown",
      "metadata": {
        "id": "view-in-github",
        "colab_type": "text"
      },
      "source": [
        "<a href=\"https://colab.research.google.com/github/martinpius/Behind-Keras-Layers-and-Models/blob/main/Customized_layers_and_Models_from_scratch_Using_Subclassing.ipynb\" target=\"_parent\"><img src=\"https://colab.research.google.com/assets/colab-badge.svg\" alt=\"Open In Colab\"/></a>"
      ]
    },
    {
      "cell_type": "code",
      "metadata": {
        "colab": {
          "base_uri": "https://localhost:8080/",
          "height": 69
        },
        "id": "j1Sy6zJHhGfj",
        "outputId": "be52547c-2986-46b2-e8ee-8c88ff1c8799"
      },
      "source": [
        "from google.colab import drive\n",
        "drive.mount(\"/content/drive\", force_remount = True)\n",
        "try:\n",
        "  COLAB = True\n",
        "  import tensorflow as tf\n",
        "  print(f\"You are using Google Colab with tensorflow version: {tf.__version__}\")\n",
        "except Exception as e:\n",
        "  COLAB = False\n",
        "  print(f\"{type(e)}: {e}\\n....Please Load Your Drive....\")\n",
        "\n",
        "def mytime_set(x):\n",
        "  h = int(x / (60 * 60))\n",
        "  m = int(x % (60 * 60) / 60)\n",
        "  s = int(x % 60)\n",
        "  return f\"{h}: {m:>02}: {s:>05.2f}\"\n",
        "\n",
        "mytime_set(134.874622)"
      ],
      "execution_count": 2,
      "outputs": [
        {
          "output_type": "stream",
          "text": [
            "Mounted at /content/drive\n",
            "You are using Google Colab with tensorflow version: 2.4.0\n"
          ],
          "name": "stdout"
        },
        {
          "output_type": "execute_result",
          "data": {
            "application/vnd.google.colaboratory.intrinsic+json": {
              "type": "string"
            },
            "text/plain": [
              "'0: 02: 14.00'"
            ]
          },
          "metadata": {
            "tags": []
          },
          "execution_count": 2
        }
      ]
    },
    {
      "cell_type": "code",
      "metadata": {
        "id": "jkcX1lf3jhRG"
      },
      "source": [
        "import tensorflow as tf\n",
        "from tensorflow import keras\n",
        "import numpy as np"
      ],
      "execution_count": 28,
      "outputs": []
    },
    {
      "cell_type": "code",
      "metadata": {
        "id": "Qp53MN6njqAC"
      },
      "source": [
        "#Layer subclassing is a usefull procedure\n",
        "#which enable construction or customization of any kera's layer to meet the user's demand\n"
      ],
      "execution_count": 5,
      "outputs": []
    },
    {
      "cell_type": "code",
      "metadata": {
        "id": "zADUlHdYkK5X"
      },
      "source": [
        "#An example of a dense layer from the scratch using layer-subclassing. We can do this in multiple ways as follows"
      ],
      "execution_count": 6,
      "outputs": []
    },
    {
      "cell_type": "code",
      "metadata": {
        "id": "UOt5C8Y0oDQJ"
      },
      "source": [
        "#Method 1.Define the inputs shape at the begining"
      ],
      "execution_count": 11,
      "outputs": []
    },
    {
      "cell_type": "code",
      "metadata": {
        "id": "HRRm0yhVqvrj"
      },
      "source": [
        "class MyLayer(keras.layers.Layer):\n",
        "  def __init__(self, units = 64, inputs_shape = (32,)):\n",
        "    super(MyLayer, self).__init__()\n",
        "    w_init = tf.random_normal_initializer()\n",
        "    b_init = tf.zeros_initializer()\n",
        "    self.w = tf.Variable(initial_value = w_init(shape = (units, inputs_shape)), dtype = 'float32', trainable = True, name = 'weights')\n",
        "    self.b = tf.Variable(initial_value = b_init(shape = (units,)), dtype = 'float32', trainable = True, name = 'bias')\n",
        "  \n",
        "  def call(self, inputs):\n",
        "    return tf.matmul(inputs, self.w) + self.b"
      ],
      "execution_count": 19,
      "outputs": []
    },
    {
      "cell_type": "code",
      "metadata": {
        "id": "tANJ4tmFsJPd"
      },
      "source": [
        "layer = MyLayer(32,32)\n",
        "x = tf.ones(shape = (5,32))\n",
        "out = layer(x)"
      ],
      "execution_count": 26,
      "outputs": []
    },
    {
      "cell_type": "code",
      "metadata": {
        "id": "oUX580dysgtM"
      },
      "source": [
        "assert layer.weights == [layer.w,layer.b]"
      ],
      "execution_count": 24,
      "outputs": []
    },
    {
      "cell_type": "code",
      "metadata": {
        "id": "OAWv36uhuJFn"
      },
      "source": [
        "#We can define the same layer in a shortcut way by adding weights directly using add_method"
      ],
      "execution_count": 28,
      "outputs": []
    },
    {
      "cell_type": "code",
      "metadata": {
        "id": "FzccVuVsum5j"
      },
      "source": [
        "class NewLayer(keras.layers.Layer):\n",
        "  def __init__(self, units = 32, inputs_shape = 32):\n",
        "    super(NewLayer, self).__init__()\n",
        "    self.w = self.add_weight(shape = (units, inputs_shape), initializer = 'random_normal', trainable = True)\n",
        "    self.b = self.add_weight(shape = (units,), initializer = 'zeros', trainable = True)\n",
        "  \n",
        "  def call(self, inputs):\n",
        "    return tf.matmul(inputs, self.w) + self.b"
      ],
      "execution_count": 35,
      "outputs": []
    },
    {
      "cell_type": "code",
      "metadata": {
        "id": "Sp9I__Ljv4Fn"
      },
      "source": [
        "x = tf.ones(shape = (10,32))\n",
        "layer1 = NewLayer(32,32)\n",
        "out1 = layer1(x)"
      ],
      "execution_count": 39,
      "outputs": []
    },
    {
      "cell_type": "code",
      "metadata": {
        "colab": {
          "base_uri": "https://localhost:8080/"
        },
        "id": "pxtVQVmnwP-H",
        "outputId": "a18cbb07-24be-4f66-c8a5-c798d4475ea3"
      },
      "source": [
        "out1.shape"
      ],
      "execution_count": 40,
      "outputs": [
        {
          "output_type": "execute_result",
          "data": {
            "text/plain": [
              "TensorShape([10, 32])"
            ]
          },
          "metadata": {
            "tags": []
          },
          "execution_count": 40
        }
      ]
    },
    {
      "cell_type": "code",
      "metadata": {
        "id": "FRcgxRoOx5pv"
      },
      "source": [
        "#The third method is to define the input shape later "
      ],
      "execution_count": 43,
      "outputs": []
    },
    {
      "cell_type": "code",
      "metadata": {
        "colab": {
          "base_uri": "https://localhost:8080/",
          "height": 34
        },
        "id": "kgE1Bhnb33rY",
        "outputId": "bc40c493-58fd-4ef4-e606-19838382620d"
      },
      "source": [
        "class Layer1(keras.layers.Layer):\n",
        "  def __init__(self, units = 32):\n",
        "    super(Layer1, self).__init__()\n",
        "    self.units = units\n",
        "  \n",
        "  def build(self, inputs_dim):\n",
        "    self.w = self.add_weight(shape = (inputs_dim[-1], self.units), initializer = 'random_normal',trainable = True)\n",
        "    self.b = self.add_weight(shape = (self.units,), initializer = 'zeros', trainable = True)\n",
        "  \n",
        "  def call(self, inputs):\n",
        "    return tf.matmul(inputs, self.w) + self.b\n",
        "\n",
        "layer2 = Layer1(32)\n",
        "out = layer2(x)\n",
        "display(out.shape)"
      ],
      "execution_count": 45,
      "outputs": [
        {
          "output_type": "display_data",
          "data": {
            "text/plain": [
              "TensorShape([10, 32])"
            ]
          },
          "metadata": {
            "tags": []
          }
        }
      ]
    },
    {
      "cell_type": "code",
      "metadata": {
        "id": "_55ml-ir5L4e"
      },
      "source": [
        "#We can have both trainable and no-trainable weights in a layer. Some weights may be\n",
        "#added just to enable specified computations and we might not want to train them.\n",
        "#We simply change the trainable argument to non-trainable"
      ],
      "execution_count": 46,
      "outputs": []
    },
    {
      "cell_type": "code",
      "metadata": {
        "id": "WPZf1XhXFl6U"
      },
      "source": [
        "class Weight_Adjust(keras.layers.Layer):\n",
        "  def __init__(self, units = 32, inputs_dim = 32, mask = 32):\n",
        "    super(Weight_Adjust, self).__init__()\n",
        "    self.mask = self.add_weight(shape = (mask, units), initializer = 'random_normal', trainable = False)\n",
        "    self.w = self.add_weight(shape = (inputs_dim, units), initializer = 'random_normal', trainable = True)\n",
        "    self.b = self.add_weight(shape = (units, ), initializer = 'zeros',trainable = True)\n",
        "  \n",
        "  def call(self, inputs):\n",
        "    out = tf.matmul(tf.matmul(inputs, self.mask), self.w) + self.b\n",
        "    return out\n",
        "  "
      ],
      "execution_count": 47,
      "outputs": []
    },
    {
      "cell_type": "code",
      "metadata": {
        "id": "KLJMqhKPI5q-"
      },
      "source": [
        "wt_adjust = Weight_Adjust(32,32)\n",
        "x1 = tf.ones((10,32))\n",
        "x2 = tf.ones((10,32))\n",
        "out2 = wt_adjust([x1,x2])"
      ],
      "execution_count": 48,
      "outputs": []
    },
    {
      "cell_type": "code",
      "metadata": {
        "colab": {
          "base_uri": "https://localhost:8080/"
        },
        "id": "7HlAg59sJd9S",
        "outputId": "d4f064cf-5931-4d05-d783-2827393de05b"
      },
      "source": [
        "out2.shape"
      ],
      "execution_count": 49,
      "outputs": [
        {
          "output_type": "execute_result",
          "data": {
            "text/plain": [
              "TensorShape([2, 10, 32])"
            ]
          },
          "metadata": {
            "tags": []
          },
          "execution_count": 49
        }
      ]
    },
    {
      "cell_type": "code",
      "metadata": {
        "colab": {
          "base_uri": "https://localhost:8080/"
        },
        "id": "MNRNWqAqJgot",
        "outputId": "01899b0c-f805-41ad-8a01-a2fe7d7f3475"
      },
      "source": [
        "out2"
      ],
      "execution_count": 50,
      "outputs": [
        {
          "output_type": "execute_result",
          "data": {
            "text/plain": [
              "<tf.Tensor: shape=(2, 10, 32), dtype=float32, numpy=\n",
              "array([[[ 0.02049323,  0.02542326,  0.03373767, -0.0011565 ,\n",
              "          0.06054437,  0.01168849, -0.09340455, -0.025712  ,\n",
              "          0.01951009,  0.02734433, -0.07522879,  0.00860099,\n",
              "         -0.0756005 ,  0.02798784,  0.07091984,  0.05057644,\n",
              "          0.1689526 , -0.03399925, -0.08270165,  0.16689663,\n",
              "          0.07483273, -0.02432632,  0.12009586,  0.01072896,\n",
              "         -0.02103187,  0.08050467, -0.03570008, -0.00499672,\n",
              "          0.09577608, -0.15050277,  0.05651817, -0.08321209],\n",
              "        [ 0.02049323,  0.02542326,  0.03373767, -0.0011565 ,\n",
              "          0.06054437,  0.01168849, -0.09340455, -0.025712  ,\n",
              "          0.01951009,  0.02734433, -0.07522879,  0.00860099,\n",
              "         -0.0756005 ,  0.02798784,  0.07091984,  0.05057644,\n",
              "          0.1689526 , -0.03399925, -0.08270165,  0.16689663,\n",
              "          0.07483273, -0.02432632,  0.12009586,  0.01072896,\n",
              "         -0.02103187,  0.08050467, -0.03570008, -0.00499672,\n",
              "          0.09577608, -0.15050277,  0.05651817, -0.08321209],\n",
              "        [ 0.02049323,  0.02542326,  0.03373767, -0.0011565 ,\n",
              "          0.06054437,  0.01168849, -0.09340455, -0.025712  ,\n",
              "          0.01951009,  0.02734433, -0.07522879,  0.00860099,\n",
              "         -0.0756005 ,  0.02798784,  0.07091984,  0.05057644,\n",
              "          0.1689526 , -0.03399925, -0.08270165,  0.16689663,\n",
              "          0.07483273, -0.02432632,  0.12009586,  0.01072896,\n",
              "         -0.02103187,  0.08050467, -0.03570008, -0.00499672,\n",
              "          0.09577608, -0.15050277,  0.05651817, -0.08321209],\n",
              "        [ 0.02049323,  0.02542326,  0.03373767, -0.0011565 ,\n",
              "          0.06054437,  0.01168849, -0.09340455, -0.025712  ,\n",
              "          0.01951009,  0.02734433, -0.07522879,  0.00860099,\n",
              "         -0.0756005 ,  0.02798784,  0.07091984,  0.05057644,\n",
              "          0.1689526 , -0.03399925, -0.08270165,  0.16689663,\n",
              "          0.07483273, -0.02432632,  0.12009586,  0.01072896,\n",
              "         -0.02103187,  0.08050467, -0.03570008, -0.00499672,\n",
              "          0.09577608, -0.15050277,  0.05651817, -0.08321209],\n",
              "        [ 0.02049323,  0.02542326,  0.03373767, -0.0011565 ,\n",
              "          0.06054437,  0.01168849, -0.09340455, -0.025712  ,\n",
              "          0.01951009,  0.02734433, -0.07522879,  0.00860099,\n",
              "         -0.0756005 ,  0.02798784,  0.07091984,  0.05057644,\n",
              "          0.1689526 , -0.03399925, -0.08270165,  0.16689663,\n",
              "          0.07483273, -0.02432632,  0.12009586,  0.01072896,\n",
              "         -0.02103187,  0.08050467, -0.03570008, -0.00499672,\n",
              "          0.09577608, -0.15050277,  0.05651817, -0.08321209],\n",
              "        [ 0.02049323,  0.02542326,  0.03373767, -0.0011565 ,\n",
              "          0.06054437,  0.01168849, -0.09340455, -0.025712  ,\n",
              "          0.01951009,  0.02734433, -0.07522879,  0.00860099,\n",
              "         -0.0756005 ,  0.02798784,  0.07091984,  0.05057644,\n",
              "          0.1689526 , -0.03399925, -0.08270165,  0.16689663,\n",
              "          0.07483273, -0.02432632,  0.12009586,  0.01072896,\n",
              "         -0.02103187,  0.08050467, -0.03570008, -0.00499672,\n",
              "          0.09577608, -0.15050277,  0.05651817, -0.08321209],\n",
              "        [ 0.02049323,  0.02542326,  0.03373767, -0.0011565 ,\n",
              "          0.06054437,  0.01168849, -0.09340455, -0.025712  ,\n",
              "          0.01951009,  0.02734433, -0.07522879,  0.00860099,\n",
              "         -0.0756005 ,  0.02798784,  0.07091984,  0.05057644,\n",
              "          0.1689526 , -0.03399925, -0.08270165,  0.16689663,\n",
              "          0.07483273, -0.02432632,  0.12009586,  0.01072896,\n",
              "         -0.02103187,  0.08050467, -0.03570008, -0.00499672,\n",
              "          0.09577608, -0.15050277,  0.05651817, -0.08321209],\n",
              "        [ 0.02049323,  0.02542326,  0.03373767, -0.0011565 ,\n",
              "          0.06054437,  0.01168849, -0.09340455, -0.025712  ,\n",
              "          0.01951009,  0.02734433, -0.07522879,  0.00860099,\n",
              "         -0.0756005 ,  0.02798784,  0.07091984,  0.05057644,\n",
              "          0.1689526 , -0.03399925, -0.08270165,  0.16689663,\n",
              "          0.07483273, -0.02432632,  0.12009586,  0.01072896,\n",
              "         -0.02103187,  0.08050467, -0.03570008, -0.00499672,\n",
              "          0.09577608, -0.15050277,  0.05651817, -0.08321209],\n",
              "        [ 0.02049323,  0.02542326,  0.03373767, -0.0011565 ,\n",
              "          0.06054438,  0.01168849, -0.09340455, -0.02571199,\n",
              "          0.01951009,  0.02734433, -0.0752288 ,  0.00860099,\n",
              "         -0.0756005 ,  0.02798784,  0.07091984,  0.05057643,\n",
              "          0.1689526 , -0.03399925, -0.08270165,  0.16689663,\n",
              "          0.07483273, -0.02432632,  0.12009586,  0.01072896,\n",
              "         -0.02103187,  0.08050465, -0.03570008, -0.00499672,\n",
              "          0.09577609, -0.15050274,  0.05651816, -0.08321209],\n",
              "        [ 0.02049323,  0.02542326,  0.03373767, -0.0011565 ,\n",
              "          0.06054438,  0.01168849, -0.09340455, -0.02571199,\n",
              "          0.01951009,  0.02734433, -0.0752288 ,  0.00860099,\n",
              "         -0.0756005 ,  0.02798784,  0.07091984,  0.05057643,\n",
              "          0.1689526 , -0.03399925, -0.08270165,  0.16689663,\n",
              "          0.07483273, -0.02432632,  0.12009586,  0.01072896,\n",
              "         -0.02103187,  0.08050465, -0.03570008, -0.00499672,\n",
              "          0.09577609, -0.15050274,  0.05651816, -0.08321209]],\n",
              "\n",
              "       [[ 0.02049323,  0.02542326,  0.03373767, -0.0011565 ,\n",
              "          0.06054437,  0.01168849, -0.09340455, -0.025712  ,\n",
              "          0.01951009,  0.02734433, -0.07522879,  0.00860099,\n",
              "         -0.0756005 ,  0.02798784,  0.07091984,  0.05057644,\n",
              "          0.1689526 , -0.03399925, -0.08270165,  0.16689663,\n",
              "          0.07483273, -0.02432632,  0.12009586,  0.01072896,\n",
              "         -0.02103187,  0.08050467, -0.03570008, -0.00499672,\n",
              "          0.09577608, -0.15050277,  0.05651817, -0.08321209],\n",
              "        [ 0.02049323,  0.02542326,  0.03373767, -0.0011565 ,\n",
              "          0.06054437,  0.01168849, -0.09340455, -0.025712  ,\n",
              "          0.01951009,  0.02734433, -0.07522879,  0.00860099,\n",
              "         -0.0756005 ,  0.02798784,  0.07091984,  0.05057644,\n",
              "          0.1689526 , -0.03399925, -0.08270165,  0.16689663,\n",
              "          0.07483273, -0.02432632,  0.12009586,  0.01072896,\n",
              "         -0.02103187,  0.08050467, -0.03570008, -0.00499672,\n",
              "          0.09577608, -0.15050277,  0.05651817, -0.08321209],\n",
              "        [ 0.02049323,  0.02542326,  0.03373767, -0.0011565 ,\n",
              "          0.06054437,  0.01168849, -0.09340455, -0.025712  ,\n",
              "          0.01951009,  0.02734433, -0.07522879,  0.00860099,\n",
              "         -0.0756005 ,  0.02798784,  0.07091984,  0.05057644,\n",
              "          0.1689526 , -0.03399925, -0.08270165,  0.16689663,\n",
              "          0.07483273, -0.02432632,  0.12009586,  0.01072896,\n",
              "         -0.02103187,  0.08050467, -0.03570008, -0.00499672,\n",
              "          0.09577608, -0.15050277,  0.05651817, -0.08321209],\n",
              "        [ 0.02049323,  0.02542326,  0.03373767, -0.0011565 ,\n",
              "          0.06054437,  0.01168849, -0.09340455, -0.025712  ,\n",
              "          0.01951009,  0.02734433, -0.07522879,  0.00860099,\n",
              "         -0.0756005 ,  0.02798784,  0.07091984,  0.05057644,\n",
              "          0.1689526 , -0.03399925, -0.08270165,  0.16689663,\n",
              "          0.07483273, -0.02432632,  0.12009586,  0.01072896,\n",
              "         -0.02103187,  0.08050467, -0.03570008, -0.00499672,\n",
              "          0.09577608, -0.15050277,  0.05651817, -0.08321209],\n",
              "        [ 0.02049323,  0.02542326,  0.03373767, -0.0011565 ,\n",
              "          0.06054437,  0.01168849, -0.09340455, -0.025712  ,\n",
              "          0.01951009,  0.02734433, -0.07522879,  0.00860099,\n",
              "         -0.0756005 ,  0.02798784,  0.07091984,  0.05057644,\n",
              "          0.1689526 , -0.03399925, -0.08270165,  0.16689663,\n",
              "          0.07483273, -0.02432632,  0.12009586,  0.01072896,\n",
              "         -0.02103187,  0.08050467, -0.03570008, -0.00499672,\n",
              "          0.09577608, -0.15050277,  0.05651817, -0.08321209],\n",
              "        [ 0.02049323,  0.02542326,  0.03373767, -0.0011565 ,\n",
              "          0.06054437,  0.01168849, -0.09340455, -0.025712  ,\n",
              "          0.01951009,  0.02734433, -0.07522879,  0.00860099,\n",
              "         -0.0756005 ,  0.02798784,  0.07091984,  0.05057644,\n",
              "          0.1689526 , -0.03399925, -0.08270165,  0.16689663,\n",
              "          0.07483273, -0.02432632,  0.12009586,  0.01072896,\n",
              "         -0.02103187,  0.08050467, -0.03570008, -0.00499672,\n",
              "          0.09577608, -0.15050277,  0.05651817, -0.08321209],\n",
              "        [ 0.02049323,  0.02542326,  0.03373767, -0.0011565 ,\n",
              "          0.06054437,  0.01168849, -0.09340455, -0.025712  ,\n",
              "          0.01951009,  0.02734433, -0.07522879,  0.00860099,\n",
              "         -0.0756005 ,  0.02798784,  0.07091984,  0.05057644,\n",
              "          0.1689526 , -0.03399925, -0.08270165,  0.16689663,\n",
              "          0.07483273, -0.02432632,  0.12009586,  0.01072896,\n",
              "         -0.02103187,  0.08050467, -0.03570008, -0.00499672,\n",
              "          0.09577608, -0.15050277,  0.05651817, -0.08321209],\n",
              "        [ 0.02049323,  0.02542326,  0.03373767, -0.0011565 ,\n",
              "          0.06054437,  0.01168849, -0.09340455, -0.025712  ,\n",
              "          0.01951009,  0.02734433, -0.07522879,  0.00860099,\n",
              "         -0.0756005 ,  0.02798784,  0.07091984,  0.05057644,\n",
              "          0.1689526 , -0.03399925, -0.08270165,  0.16689663,\n",
              "          0.07483273, -0.02432632,  0.12009586,  0.01072896,\n",
              "         -0.02103187,  0.08050467, -0.03570008, -0.00499672,\n",
              "          0.09577608, -0.15050277,  0.05651817, -0.08321209],\n",
              "        [ 0.02049323,  0.02542326,  0.03373767, -0.0011565 ,\n",
              "          0.06054438,  0.01168849, -0.09340455, -0.02571199,\n",
              "          0.01951009,  0.02734433, -0.0752288 ,  0.00860099,\n",
              "         -0.0756005 ,  0.02798784,  0.07091984,  0.05057643,\n",
              "          0.1689526 , -0.03399925, -0.08270165,  0.16689663,\n",
              "          0.07483273, -0.02432632,  0.12009586,  0.01072896,\n",
              "         -0.02103187,  0.08050465, -0.03570008, -0.00499672,\n",
              "          0.09577609, -0.15050274,  0.05651816, -0.08321209],\n",
              "        [ 0.02049323,  0.02542326,  0.03373767, -0.0011565 ,\n",
              "          0.06054438,  0.01168849, -0.09340455, -0.02571199,\n",
              "          0.01951009,  0.02734433, -0.0752288 ,  0.00860099,\n",
              "         -0.0756005 ,  0.02798784,  0.07091984,  0.05057643,\n",
              "          0.1689526 , -0.03399925, -0.08270165,  0.16689663,\n",
              "          0.07483273, -0.02432632,  0.12009586,  0.01072896,\n",
              "         -0.02103187,  0.08050465, -0.03570008, -0.00499672,\n",
              "          0.09577609, -0.15050274,  0.05651816, -0.08321209]]],\n",
              "      dtype=float32)>"
            ]
          },
          "metadata": {
            "tags": []
          },
          "execution_count": 50
        }
      ]
    },
    {
      "cell_type": "code",
      "metadata": {
        "id": "3TMSnoJSJjAi"
      },
      "source": [
        "#Calling a layer inside anothe layer: This is usefull when we want to use\n",
        "#features from a separate layer defined outside the main class"
      ],
      "execution_count": 51,
      "outputs": []
    },
    {
      "cell_type": "code",
      "metadata": {
        "id": "iOQn2IOKNst_"
      },
      "source": [
        "class Reusable(keras.layers.Layer):\n",
        "  def __init__(self, units = 32, **kwargs):\n",
        "    super(Reusable,self).__init__(**kwargs)\n",
        "    self.units = units\n",
        "  \n",
        "  def build(self, inputs_dim):\n",
        "    self.w = self.add_weight(shape = (inputs_dim[-1], self.units), initializer = 'random_normal', trainable = True)\n",
        "    self.b = self.add_weight(shape = (self.units,), initializer = 'random_normal', trainable = True)\n",
        "  \n",
        "  def call(self, inputs):\n",
        "    return tf.matmul(inputs, self.w) + self.b\n",
        "  "
      ],
      "execution_count": 52,
      "outputs": []
    },
    {
      "cell_type": "code",
      "metadata": {
        "id": "d1gbGVzVPm-c"
      },
      "source": [
        "class BigLayer(keras.layers.Layer):\n",
        "  def __init__(self, units = 32, **kwargs):\n",
        "    super(BigLayer, self).__init__(**kwargs)\n",
        "    self.dense1 = Reusable(units = 64, name = 'first_layer')\n",
        "    self.dense2 = Reusable(units = 32, name = 'second_layer')\n",
        "    self.dense3 = Reusable(units = 10, name = 'outputs')\n",
        "  \n",
        "  def call(self, inputs):\n",
        "    x = self.dense1(inputs)\n",
        "    x = tf.nn.relu(x)\n",
        "    x = self.dense2(x)\n",
        "    x = tf.nn.relu(x)\n",
        "    x = self.dense3(x)\n",
        "    out = tf.nn.softmax(x)\n",
        "    return out\n"
      ],
      "execution_count": 53,
      "outputs": []
    },
    {
      "cell_type": "code",
      "metadata": {
        "id": "iRm9L6VYRda_"
      },
      "source": [
        "biglayer = BigLayer(32)\n",
        "y = biglayer(x)\n"
      ],
      "execution_count": 54,
      "outputs": []
    },
    {
      "cell_type": "code",
      "metadata": {
        "colab": {
          "base_uri": "https://localhost:8080/"
        },
        "id": "-l9fF614R-ep",
        "outputId": "0e345a0f-d35c-4a6d-9709-93b56248b9f7"
      },
      "source": [
        "y.shape"
      ],
      "execution_count": 55,
      "outputs": [
        {
          "output_type": "execute_result",
          "data": {
            "text/plain": [
              "TensorShape([10, 10])"
            ]
          },
          "metadata": {
            "tags": []
          },
          "execution_count": 55
        }
      ]
    },
    {
      "cell_type": "code",
      "metadata": {
        "colab": {
          "base_uri": "https://localhost:8080/"
        },
        "id": "aCRRA2B2SA0T",
        "outputId": "8f448538-562c-4eb9-a1a0-00c061bc5906"
      },
      "source": [
        "#Check the number of parameters to know how many layers are stacked together\n",
        "print(f\"weights: {len(biglayer.weights)}: trainable weights: {len(biglayer.trainable_weights)}\")"
      ],
      "execution_count": 57,
      "outputs": [
        {
          "output_type": "stream",
          "text": [
            "weights: 6: trainable weights: 6\n"
          ],
          "name": "stdout"
        }
      ]
    },
    {
      "cell_type": "code",
      "metadata": {
        "id": "m7skr1rDSi_Q"
      },
      "source": [
        "#Adding the loss and metrics using add_loss and add_metrics\n",
        "#These quantities may be incorporated into the customized training loop "
      ],
      "execution_count": 58,
      "outputs": []
    },
    {
      "cell_type": "code",
      "metadata": {
        "id": "cXeYIDXrcmjx"
      },
      "source": [
        "#Consider a simple loss in term of regularization"
      ],
      "execution_count": 59,
      "outputs": []
    },
    {
      "cell_type": "code",
      "metadata": {
        "id": "Uskp1u31c8WZ"
      },
      "source": [
        "class LayerLoss(keras.layers.Layer):\n",
        "  def __init__(self, adj_rate = 0.25, units = 64, **kwargs):\n",
        "    super(LayerLoss, self).__init__(**kwargs)\n",
        "    self.adj_rate = adj_rate\n",
        "    self.units = units\n",
        "  \n",
        "  def call(self, inputs):\n",
        "    out = tf.reduce_mean(inputs * self.adj_rate)\n",
        "    self.add_loss(out)\n",
        "    return inputs\n",
        "    "
      ],
      "execution_count": 60,
      "outputs": []
    },
    {
      "cell_type": "code",
      "metadata": {
        "id": "HWis_z3lezCw"
      },
      "source": [
        "class UseLoss(keras.layers.Layer):\n",
        "  def __init__(self, **kwargs):\n",
        "    super(UseLoss, self).__init__(**kwargs)\n",
        "    self.myloss = LayerLoss()\n",
        "  \n",
        "  def call(self, inputs):\n",
        "    out_loss = self.myloss(inputs)\n",
        "    return out_loss\n",
        "  "
      ],
      "execution_count": 66,
      "outputs": []
    },
    {
      "cell_type": "code",
      "metadata": {
        "id": "cMwmll4LfrqL"
      },
      "source": [
        "loss_out = UseLoss()\n",
        "#The inner layer isnot used yet\n",
        "assert len(loss_out.losses) == 0"
      ],
      "execution_count": 67,
      "outputs": []
    },
    {
      "cell_type": "code",
      "metadata": {
        "id": "blk2ND2tgF1T"
      },
      "source": [
        "#We can assign the input to the outer layer and use our loss for the first time"
      ],
      "execution_count": 68,
      "outputs": []
    },
    {
      "cell_type": "code",
      "metadata": {
        "colab": {
          "base_uri": "https://localhost:8080/"
        },
        "id": "8WmivW6NgYhu",
        "outputId": "e275167c-7414-48ad-e8e2-6f4b92169813"
      },
      "source": [
        "loss_out(tf.ones(shape = (3,3)))"
      ],
      "execution_count": 69,
      "outputs": [
        {
          "output_type": "execute_result",
          "data": {
            "text/plain": [
              "<tf.Tensor: shape=(3, 3), dtype=float32, numpy=\n",
              "array([[1., 1., 1.],\n",
              "       [1., 1., 1.],\n",
              "       [1., 1., 1.]], dtype=float32)>"
            ]
          },
          "metadata": {
            "tags": []
          },
          "execution_count": 69
        }
      ]
    },
    {
      "cell_type": "code",
      "metadata": {
        "id": "j2h2akFngfCb"
      },
      "source": [
        "#Now we have one component as we have used the loss fn\n",
        "assert len(loss_out.losses) == 1"
      ],
      "execution_count": 71,
      "outputs": []
    },
    {
      "cell_type": "code",
      "metadata": {
        "id": "NgqyJPQ6g3YH"
      },
      "source": [
        "class Regularize(keras.layers.Layer):\n",
        "  def __init__(self, my_rate = 0.0025):\n",
        "    super(Regularize, self).__init__()\n",
        "    self.my_rate = my_rate\n",
        "  \n",
        "  def call(self, inputs):\n",
        "    out = tf.reduce_sum(inputs * self.my_rate)\n",
        "    self.add_loss(out)\n",
        "    return inputs\n",
        "\n",
        "class MyReg_Layer(keras.layers.Layer):\n",
        "  def __init__(self, units = 32, **kwargs):\n",
        "    super(MyReg_Layer, self).__init__(**kwargs)\n",
        "    self.units = units\n",
        "    self.regulate = Regularize()\n",
        "  \n",
        "  def call(self, inputs):\n",
        "    return self.regulate(inputs)\n",
        "\n",
        "\n",
        "my_regularized = MyReg_Layer()\n",
        "assert len(my_regularized.losses) == 0\n"
      ],
      "execution_count": 4,
      "outputs": []
    },
    {
      "cell_type": "code",
      "metadata": {
        "id": "dMYFPy1Klibi"
      },
      "source": [
        "out = my_regularized(tf.ones(3,2))"
      ],
      "execution_count": 15,
      "outputs": []
    },
    {
      "cell_type": "code",
      "metadata": {
        "id": "AGQZbCYeloPU"
      },
      "source": [
        "assert len(my_regularized.losses) == 1"
      ],
      "execution_count": 16,
      "outputs": []
    },
    {
      "cell_type": "code",
      "metadata": {
        "colab": {
          "base_uri": "https://localhost:8080/"
        },
        "id": "BCWyLxyZmVJF",
        "outputId": "b5fc3618-2769-4e8d-f5a3-a6e35b3bf5ae"
      },
      "source": [
        "out"
      ],
      "execution_count": 17,
      "outputs": [
        {
          "output_type": "execute_result",
          "data": {
            "text/plain": [
              "<tf.Tensor: shape=(3,), dtype=float32, numpy=array([1., 1., 1.], dtype=float32)>"
            ]
          },
          "metadata": {
            "tags": []
          },
          "execution_count": 17
        }
      ]
    },
    {
      "cell_type": "code",
      "metadata": {
        "id": "aWaYVHhimaYt"
      },
      "source": [
        "#We can also add l1 or l2 norm and into a custom layer\n",
        "#Lets build a dense layer with l1-regularization\n"
      ],
      "execution_count": 18,
      "outputs": []
    },
    {
      "cell_type": "code",
      "metadata": {
        "id": "bJJ0HEmEmr8B"
      },
      "source": [
        "class L1_Norm(keras.layers.Layer):\n",
        "  def __init__(self, units = 64, **kwargs):\n",
        "    super(L1_Norm, self).__init__(**kwargs)\n",
        "    self.units = units\n",
        "    self.dense_1 = tf.keras.layers.Dense(units = units,\n",
        "                                         activation = 'relu',\n",
        "                                         kernel_initializer = 'random_normal',\n",
        "                                         kernel_regularizer = tf.keras.regularizers.l1(1e-3))\n",
        "  \n",
        "  def call(self, inputs):\n",
        "    return self.dense_1(inputs)\n",
        "    "
      ],
      "execution_count": 19,
      "outputs": []
    },
    {
      "cell_type": "code",
      "metadata": {
        "id": "iCg3rbl5ofGQ"
      },
      "source": [
        "l1_norm = L1_Norm()\n",
        "out = l1_norm(tf.ones(shape = (2,2)))"
      ],
      "execution_count": 20,
      "outputs": []
    },
    {
      "cell_type": "code",
      "metadata": {
        "colab": {
          "base_uri": "https://localhost:8080/"
        },
        "id": "7wFHSizsoq0S",
        "outputId": "14ae6772-9857-4f55-a3a4-f45ea2ffeda4"
      },
      "source": [
        "out"
      ],
      "execution_count": 21,
      "outputs": [
        {
          "output_type": "execute_result",
          "data": {
            "text/plain": [
              "<tf.Tensor: shape=(2, 64), dtype=float32, numpy=\n",
              "array([[0.0864865 , 0.        , 0.        , 0.04331492, 0.09201752,\n",
              "        0.        , 0.        , 0.11194619, 0.06611573, 0.03948602,\n",
              "        0.0649175 , 0.        , 0.04465878, 0.09146149, 0.        ,\n",
              "        0.        , 0.03862193, 0.        , 0.        , 0.        ,\n",
              "        0.        , 0.01794118, 0.        , 0.00712905, 0.        ,\n",
              "        0.03994192, 0.        , 0.0616428 , 0.        , 0.00870519,\n",
              "        0.03962398, 0.04717988, 0.07840874, 0.        , 0.07658093,\n",
              "        0.        , 0.        , 0.        , 0.        , 0.        ,\n",
              "        0.00424338, 0.03877949, 0.08029762, 0.        , 0.17415181,\n",
              "        0.06788321, 0.09625886, 0.0585838 , 0.10838908, 0.12037892,\n",
              "        0.        , 0.02387283, 0.01737687, 0.04533543, 0.        ,\n",
              "        0.        , 0.04486705, 0.01031284, 0.00100743, 0.00591414,\n",
              "        0.05857783, 0.        , 0.04151004, 0.1365701 ],\n",
              "       [0.0864865 , 0.        , 0.        , 0.04331492, 0.09201752,\n",
              "        0.        , 0.        , 0.11194619, 0.06611573, 0.03948602,\n",
              "        0.0649175 , 0.        , 0.04465878, 0.09146149, 0.        ,\n",
              "        0.        , 0.03862193, 0.        , 0.        , 0.        ,\n",
              "        0.        , 0.01794118, 0.        , 0.00712905, 0.        ,\n",
              "        0.03994192, 0.        , 0.0616428 , 0.        , 0.00870519,\n",
              "        0.03962398, 0.04717988, 0.07840874, 0.        , 0.07658093,\n",
              "        0.        , 0.        , 0.        , 0.        , 0.        ,\n",
              "        0.00424338, 0.03877949, 0.08029762, 0.        , 0.17415181,\n",
              "        0.06788321, 0.09625886, 0.0585838 , 0.10838908, 0.12037892,\n",
              "        0.        , 0.02387283, 0.01737687, 0.04533543, 0.        ,\n",
              "        0.        , 0.04486705, 0.01031284, 0.00100743, 0.00591414,\n",
              "        0.05857783, 0.        , 0.04151004, 0.1365701 ]], dtype=float32)>"
            ]
          },
          "metadata": {
            "tags": []
          },
          "execution_count": 21
        }
      ]
    },
    {
      "cell_type": "code",
      "metadata": {
        "colab": {
          "base_uri": "https://localhost:8080/",
          "height": 34
        },
        "id": "jGOv7kSForvx",
        "outputId": "098a7583-8ea0-4ec8-e7ea-fb090b52395f"
      },
      "source": [
        "display(l1_norm.losses) #this print out the l1 norm wrt the dense_1 layer"
      ],
      "execution_count": 22,
      "outputs": [
        {
          "output_type": "display_data",
          "data": {
            "text/plain": [
              "[<tf.Tensor: shape=(), dtype=float32, numpy=0.0052457266>]"
            ]
          },
          "metadata": {
            "tags": []
          }
        }
      ]
    },
    {
      "cell_type": "code",
      "metadata": {
        "id": "JmeBwJbUpXJJ"
      },
      "source": [
        "#We can train the model using the above defined regularizers as losses or combined  them with the main loss"
      ],
      "execution_count": 23,
      "outputs": []
    },
    {
      "cell_type": "code",
      "metadata": {
        "id": "cRwZOxOYr2XM"
      },
      "source": [
        "#Consider a simple mlp\n",
        "inputs = keras.Input(shape = (10,))\n",
        "x = keras.layers.Dense(units = 64, activation = 'relu', kernel_initializer = 'random_normal')(inputs)\n",
        "x = MyReg_Layer()(x)\n",
        "outputs = keras.layers.Dense(units = 10, activation = 'softmax')(x)"
      ],
      "execution_count": 31,
      "outputs": []
    },
    {
      "cell_type": "code",
      "metadata": {
        "id": "U6mcZ55KsjfI"
      },
      "source": [
        "model = keras.Model(inputs = inputs, outputs = outputs, name = 'mlp')"
      ],
      "execution_count": 32,
      "outputs": []
    },
    {
      "cell_type": "code",
      "metadata": {
        "colab": {
          "base_uri": "https://localhost:8080/",
          "height": 694
        },
        "id": "vvbfNgbIsupA",
        "outputId": "89cff611-2ded-4301-d3d5-c308961c4933"
      },
      "source": [
        "model.summary()\n",
        "keras.utils.plot_model(model = model, to_file = 'mlp.png', show_shapes = True)"
      ],
      "execution_count": 26,
      "outputs": [
        {
          "output_type": "stream",
          "text": [
            "Model: \"mlp\"\n",
            "_________________________________________________________________\n",
            "Layer (type)                 Output Shape              Param #   \n",
            "=================================================================\n",
            "input_1 (InputLayer)         [(None, 10)]              0         \n",
            "_________________________________________________________________\n",
            "dense_1 (Dense)              (None, 64)                704       \n",
            "_________________________________________________________________\n",
            "my_reg__layer_2 (MyReg_Layer (None, 64)                0         \n",
            "_________________________________________________________________\n",
            "dense_2 (Dense)              (None, 10)                650       \n",
            "=================================================================\n",
            "Total params: 1,354\n",
            "Trainable params: 1,354\n",
            "Non-trainable params: 0\n",
            "_________________________________________________________________\n"
          ],
          "name": "stdout"
        },
        {
          "output_type": "execute_result",
          "data": {
            "image/png": "[encoded data removed]",
            "text/plain": [
              "<IPython.core.display.Image object>"
            ]
          },
          "metadata": {
            "tags": []
          },
          "execution_count": 26
        }
      ]
    },
    {
      "cell_type": "code",
      "metadata": {
        "id": "Gw_TnwG8s56M"
      },
      "source": [
        "#We can compile the above model with/without a loss function\n",
        "model.compile(optimizer = 'Adam', metrics = 'mse')\n"
      ],
      "execution_count": 27,
      "outputs": []
    },
    {
      "cell_type": "code",
      "metadata": {
        "colab": {
          "base_uri": "https://localhost:8080/"
        },
        "id": "U4Vvrl3QtL3D",
        "outputId": "20fbbcbc-8a76-4848-cf3d-7fac2c02911c"
      },
      "source": [
        "model.fit(np.random.random(size = (3,10)), np.random.random(size = (3,10)), epochs = 3, verbose = 2)"
      ],
      "execution_count": 30,
      "outputs": [
        {
          "output_type": "stream",
          "text": [
            "Epoch 1/3\n",
            "1/1 - 0s - loss: 0.0202 - mse: 0.2563\n",
            "Epoch 2/3\n",
            "1/1 - 0s - loss: 0.0187 - mse: 0.2563\n",
            "Epoch 3/3\n",
            "1/1 - 0s - loss: 0.0173 - mse: 0.2563\n"
          ],
          "name": "stdout"
        },
        {
          "output_type": "execute_result",
          "data": {
            "text/plain": [
              "<tensorflow.python.keras.callbacks.History at 0x7f7ad5f42470>"
            ]
          },
          "metadata": {
            "tags": []
          },
          "execution_count": 30
        }
      ]
    },
    {
      "cell_type": "code",
      "metadata": {
        "id": "G4ahNNp2tmrb"
      },
      "source": [
        "#We can add a main loss to the model as follows and there will be some improvement in the mse#\n",
        "model.compile(loss = 'MeanSquaredError', optimizer = 'RMSprop', metrics = ['mse'])"
      ],
      "execution_count": 33,
      "outputs": []
    },
    {
      "cell_type": "code",
      "metadata": {
        "colab": {
          "base_uri": "https://localhost:8080/"
        },
        "id": "EjNyRqt0uECd",
        "outputId": "f3a7269f-539d-4895-e1cd-ab865be54081"
      },
      "source": [
        "model.fit(np.random.random(size = (3,10)), np.random.random(size = (3,10)), epochs = 3, verbose = 2)"
      ],
      "execution_count": 34,
      "outputs": [
        {
          "output_type": "stream",
          "text": [
            "Epoch 1/3\n",
            "1/1 - 1s - loss: 0.2352 - mse: 0.2228\n",
            "Epoch 2/3\n",
            "1/1 - 0s - loss: 0.2314 - mse: 0.2223\n",
            "Epoch 3/3\n",
            "1/1 - 0s - loss: 0.2291 - mse: 0.2220\n"
          ],
          "name": "stdout"
        },
        {
          "output_type": "execute_result",
          "data": {
            "text/plain": [
              "<tensorflow.python.keras.callbacks.History at 0x7f7acd5b8908>"
            ]
          },
          "metadata": {
            "tags": []
          },
          "execution_count": 34
        }
      ]
    },
    {
      "cell_type": "code",
      "metadata": {
        "id": "U8BLIlc8uU3l"
      },
      "source": [
        "#The add_metric method can be included in a keras layer to track the performance of the model. \n",
        "#As an example, consider the following classification problem.\n",
        "#its inputs true labels and predictions. \n",
        "#Its then compute the (accuracy) and the loss and tracking them using (add_loss,add_metric) methods "
      ],
      "execution_count": 36,
      "outputs": []
    },
    {
      "cell_type": "code",
      "metadata": {
        "id": "Zx0ipync7d97"
      },
      "source": [
        "class MyClassifier(keras.layers.Layer):\n",
        "  def __init__(self,**kwargs):\n",
        "    super(MyClassifier, self).__init__(**kwargs)\n",
        "    self.loss_fn = tf.keras.losses.CategoricalCrossentropy(from_logits= True)\n",
        "    self.metric_fn = tf.keras.metrics.CategoricalAccuracy()\n",
        "  \n",
        "  def call(self, labels, preds, sample_weights = None):\n",
        "    loss1 = self.loss_fn(labels, preds, sample_weights)\n",
        "    self.add_loss(loss1)\n",
        "    acc1 = self.metric_fn(labels,preds,sample_weights)\n",
        "    self.add_metric(acc1)\n",
        "    return tf.nn.softmax(preds)"
      ],
      "execution_count": 37,
      "outputs": []
    },
    {
      "cell_type": "code",
      "metadata": {
        "id": "llsUYW7A-q8I"
      },
      "source": [
        "classifier = MyClassifier()\n",
        "labels = tf.ones(shape = (3,10))\n",
        "preds = tf.ones(shape = (3,10))\n",
        "out = classifier(labels, preds)"
      ],
      "execution_count": 38,
      "outputs": []
    },
    {
      "cell_type": "code",
      "metadata": {
        "colab": {
          "base_uri": "https://localhost:8080/"
        },
        "id": "qnvUqygc_Fyg",
        "outputId": "fde64de9-dc86-4781-dd0b-476248dd744d"
      },
      "source": [
        "out.shape\n",
        "classifier.metrics[0].result"
      ],
      "execution_count": 47,
      "outputs": [
        {
          "output_type": "execute_result",
          "data": {
            "text/plain": [
              "<bound method Metric.__new__.<locals>.result_fn of <tensorflow.python.keras.metrics.CategoricalAccuracy object at 0x7f7ad6886d68>>"
            ]
          },
          "metadata": {
            "tags": []
          },
          "execution_count": 47
        }
      ]
    },
    {
      "cell_type": "code",
      "metadata": {
        "colab": {
          "base_uri": "https://localhost:8080/"
        },
        "id": "AJhAL58x_H0T",
        "outputId": "c942ae3d-93b5-4d3c-f6fd-819d4bc3b7d4"
      },
      "source": [
        "print(f\"{out}\\ncurrent metric: {(classifier.metrics[0].result)}\")"
      ],
      "execution_count": 48,
      "outputs": [
        {
          "output_type": "stream",
          "text": [
            "[[0.1 0.1 0.1 0.1 0.1 0.1 0.1 0.1 0.1 0.1]\n",
            " [0.1 0.1 0.1 0.1 0.1 0.1 0.1 0.1 0.1 0.1]\n",
            " [0.1 0.1 0.1 0.1 0.1 0.1 0.1 0.1 0.1 0.1]]\n",
            "current metric: <bound method Metric.__new__.<locals>.result_fn of <tensorflow.python.keras.metrics.CategoricalAccuracy object at 0x7f7ad6886d68>>\n"
          ],
          "name": "stdout"
        }
      ]
    },
    {
      "cell_type": "code",
      "metadata": {
        "id": "0wGWGxv7_JSM"
      },
      "source": [
        "#We can also track this metric using fit method during training"
      ],
      "execution_count": 49,
      "outputs": []
    },
    {
      "cell_type": "code",
      "metadata": {
        "id": "vQ3LrKdvDz3g"
      },
      "source": [
        "inputs = keras.Input(shape = (10,))\n",
        "labels = keras.Input(shape = (10,))\n",
        "y_preds = keras.layers.Dense(units = 10)(inputs)\n",
        "outputs = MyClassifier()(labels, y_preds)\n",
        "model = keras.Model(inputs = [inputs, labels], outputs = outputs)"
      ],
      "execution_count": 66,
      "outputs": []
    },
    {
      "cell_type": "code",
      "metadata": {
        "colab": {
          "base_uri": "https://localhost:8080/",
          "height": 490
        },
        "id": "r3JP4xtJF8_w",
        "outputId": "4c372eb1-c0cc-4b3a-99f1-ae02b60b445d"
      },
      "source": [
        "model.summary()\n",
        "keras.utils.plot_model(model =  model, to_file = 'mym.png', show_shapes= True)"
      ],
      "execution_count": 67,
      "outputs": [
        {
          "output_type": "stream",
          "text": [
            "Model: \"model_3\"\n",
            "__________________________________________________________________________________________________\n",
            "Layer (type)                    Output Shape         Param #     Connected to                     \n",
            "==================================================================================================\n",
            "input_12 (InputLayer)           [(None, 10)]         0                                            \n",
            "__________________________________________________________________________________________________\n",
            "input_13 (InputLayer)           [(None, 10)]         0                                            \n",
            "__________________________________________________________________________________________________\n",
            "dense_9 (Dense)                 (None, 10)           110         input_12[0][0]                   \n",
            "__________________________________________________________________________________________________\n",
            "my_classifier_5 (MyClassifier)  (None, 10)           2           input_13[0][0]                   \n",
            "                                                                 dense_9[0][0]                    \n",
            "==================================================================================================\n",
            "Total params: 112\n",
            "Trainable params: 110\n",
            "Non-trainable params: 2\n",
            "__________________________________________________________________________________________________\n"
          ],
          "name": "stdout"
        },
        {
          "output_type": "execute_result",
          "data": {
            "image/png": "[encoded data removed]",
            "text/plain": [
              "<IPython.core.display.Image object>"
            ]
          },
          "metadata": {
            "tags": []
          },
          "execution_count": 67
        }
      ]
    },
    {
      "cell_type": "code",
      "metadata": {
        "id": "fwIfNnV2GhPq"
      },
      "source": [
        "dfm = {'input_12': np.random.random(size = (10,10)),\n",
        "       'input_13':np.random.random(size = (10,10))}"
      ],
      "execution_count": 68,
      "outputs": []
    },
    {
      "cell_type": "code",
      "metadata": {
        "id": "B48fppSkgKix"
      },
      "source": [
        "model.compile(optimizer = 'adam', metrics= ['accuracy'])"
      ],
      "execution_count": 69,
      "outputs": []
    },
    {
      "cell_type": "code",
      "metadata": {
        "id": "FgkdWmuMgeok"
      },
      "source": [
        "class BinLogistic(keras.layers.Layer):\n",
        "  def __init__(self, name = None):\n",
        "    super(BinLogistic, self).__init__(name = name)\n",
        "    self.metric_fn = tf.keras.metrics.BinaryAccuracy()\n",
        "    self.loss_fn = tf.keras.losses.BinaryCrossentropy(from_logits = True)\n",
        "  \n",
        "  def call(self, y_real, y_pred, sample_weights = None):\n",
        "    loss1 = self.loss_fn(y_real, y_pred, sample_weights)\n",
        "    self.add_loss(loss1)\n",
        "    acc1 = self.metric_fn(y_real, y_pred, sample_weights)\n",
        "    self.add_metric(acc1, name = 'accuracy')\n",
        "    return tf.nn.softmax(y_pred)\n",
        "  \n"
      ],
      "execution_count": 81,
      "outputs": []
    },
    {
      "cell_type": "code",
      "metadata": {
        "id": "8zsvP78FkRuv"
      },
      "source": [
        "#Tracking using fit method"
      ],
      "execution_count": 82,
      "outputs": []
    },
    {
      "cell_type": "code",
      "metadata": {
        "colab": {
          "base_uri": "https://localhost:8080/"
        },
        "id": "gcCLO9dKkVYP",
        "outputId": "cc8e3ea5-ad54-4bde-d929-17ff88a0f6ec"
      },
      "source": [
        "inputs = keras.Input(shape = (3,), name = 'inputs')\n",
        "y_real = keras.Input(shape = (10,), name = 'labels')\n",
        "y_pred = keras.layers.Dense(units = 10, name = 'predictions')(inputs)\n",
        "outs = BinLogistic()(y_pred, y_real)\n",
        "model = keras.Model(inputs = [inputs, y_real], outputs = outs)\n",
        "model.summary()"
      ],
      "execution_count": 83,
      "outputs": [
        {
          "output_type": "stream",
          "text": [
            "Model: \"model_8\"\n",
            "__________________________________________________________________________________________________\n",
            "Layer (type)                    Output Shape         Param #     Connected to                     \n",
            "==================================================================================================\n",
            "inputs (InputLayer)             [(None, 3)]          0                                            \n",
            "__________________________________________________________________________________________________\n",
            "predictions (Dense)             (None, 10)           40          inputs[0][0]                     \n",
            "__________________________________________________________________________________________________\n",
            "labels (InputLayer)             [(None, 10)]         0                                            \n",
            "__________________________________________________________________________________________________\n",
            "bin_logistic_6 (BinLogistic)    (None, 10)           2           predictions[0][0]                \n",
            "                                                                 labels[0][0]                     \n",
            "==================================================================================================\n",
            "Total params: 42\n",
            "Trainable params: 40\n",
            "Non-trainable params: 2\n",
            "__________________________________________________________________________________________________\n"
          ],
          "name": "stdout"
        }
      ]
    },
    {
      "cell_type": "code",
      "metadata": {
        "colab": {
          "base_uri": "https://localhost:8080/",
          "height": 312
        },
        "id": "aLJr47LXlL0g",
        "outputId": "957284a4-2dd5-4519-a1a3-58cdfd245e70"
      },
      "source": [
        "keras.utils.plot_model(model = model, to_file = 'mymn.png', show_shapes = True)"
      ],
      "execution_count": 84,
      "outputs": [
        {
          "output_type": "execute_result",
          "data": {
            "image/png": "[encoded data removed]",
            "text/plain": [
              "<IPython.core.display.Image object>"
            ]
          },
          "metadata": {
            "tags": []
          },
          "execution_count": 84
        }
      ]
    },
    {
      "cell_type": "code",
      "metadata": {
        "id": "Bz_hGbhll46I"
      },
      "source": [
        "mydfm = {'inputs': np.random.random(size = (3,3)),\n",
        "         'labels': np.random.random(size = (3,10))}"
      ],
      "execution_count": 86,
      "outputs": []
    },
    {
      "cell_type": "code",
      "metadata": {
        "id": "rgzSSzuZnqFc"
      },
      "source": [
        "model.compile(optimizer = 'Adam')"
      ],
      "execution_count": 87,
      "outputs": []
    },
    {
      "cell_type": "code",
      "metadata": {
        "colab": {
          "base_uri": "https://localhost:8080/"
        },
        "id": "dzAWewJ2n043",
        "outputId": "e92e30b5-3c2f-4ac4-e605-db8ef6e0312d"
      },
      "source": [
        "model.fit(mydfm, epochs = 3, verbose = 2)"
      ],
      "execution_count": 89,
      "outputs": [
        {
          "output_type": "stream",
          "text": [
            "Epoch 1/3\n",
            "1/1 - 0s - loss: 0.9721 - binary_accuracy: 0.0000e+00\n",
            "Epoch 2/3\n",
            "1/1 - 0s - loss: 0.9710 - binary_accuracy: 0.0000e+00\n",
            "Epoch 3/3\n",
            "1/1 - 0s - loss: 0.9699 - binary_accuracy: 0.0000e+00\n"
          ],
          "name": "stdout"
        },
        {
          "output_type": "execute_result",
          "data": {
            "text/plain": [
              "<tensorflow.python.keras.callbacks.History at 0x7f7acbbac710>"
            ]
          },
          "metadata": {
            "tags": []
          },
          "execution_count": 89
        }
      ]
    },
    {
      "cell_type": "code",
      "metadata": {
        "id": "4nAF81IIn6jh"
      },
      "source": [
        ""
      ],
      "execution_count": null,
      "outputs": []
    }
  ]
}