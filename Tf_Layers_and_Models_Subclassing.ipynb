{
  "nbformat": 4,
  "nbformat_minor": 0,
  "metadata": {
    "colab": {
      "name": "Tf Layers and Models Subclassing.ipynb",
      "provenance": [],
      "authorship_tag": "ABX9TyOfP8CuMamf42tNE3UrJdPk",
      "include_colab_link": true
    },
    "kernelspec": {
      "name": "python3",
      "display_name": "Python 3"
    }
  },
  "cells": [
    {
      "cell_type": "markdown",
      "metadata": {
        "id": "view-in-github",
        "colab_type": "text"
      },
      "source": [
        "<a href=\"https://colab.research.google.com/github/martinpius/Behind-Keras-Layers-and-Models/blob/main/Tf_Layers_and_Models_Subclassing.ipynb\" target=\"_parent\"><img src=\"https://colab.research.google.com/assets/colab-badge.svg\" alt=\"Open In Colab\"/></a>"
      ]
    },
    {
      "cell_type": "code",
      "metadata": {
        "colab": {
          "base_uri": "https://localhost:8080/"
        },
        "id": "wKgyj-CvwcUY",
        "outputId": "8dba5b1b-233f-4476-ea62-fb40cea95693"
      },
      "source": [
        "from google.colab import drive\n",
        "drive.mount(\"/content/drive/\", force_remount = True)\n",
        "try:\n",
        "  COLAB = True\n",
        "  import tensorflow as tf\n",
        "  print(f\"You are using google colab with tensorflow vaersion: {tf.__version__}\")\n",
        "except Exception as e:\n",
        "  COLAB = False\n",
        "  print(f\"{type(e)}: {e}\\n....please load your drive....\")\n",
        "def time_fmt(t:float = 123.45654)->float:\n",
        "  h = int(t / (60 * 60))\n",
        "  m = int(t % (60 * 60)/60)\n",
        "  s = int(t % 60)\n",
        "  return f\"{h}: {m:>03}: {s:>05.2f}\"\n",
        "print(f\".....testing.....testing....testing......\\ntime elapsed: {time_fmt()}\")"
      ],
      "execution_count": null,
      "outputs": [
        {
          "output_type": "stream",
          "text": [
            "Mounted at /content/drive/\n",
            "You are using google colab with tensorflow vaersion: 2.4.1\n",
            ".....testing.....testing....testing......\n",
            "time elapsed: 0: 002: 03.00\n"
          ],
          "name": "stdout"
        }
      ]
    },
    {
      "cell_type": "code",
      "metadata": {
        "id": "kol0EHspz2-r"
      },
      "source": [
        "import numpy as np\n",
        "import tensorflow as tf\n",
        "import pandas as pd\n",
        "import time, os\n",
        "import matplotlib.pyplot as plt\n",
        "%matplotlib inline\n",
        "pd.set_option('max_rows', 8)\n",
        "pd.set_option('max_columns', 0)\n",
        "plt.style.use('fivethirtyeight')"
      ],
      "execution_count": null,
      "outputs": []
    },
    {
      "cell_type": "code",
      "metadata": {
        "id": "HuQZI7rV0_uQ"
      },
      "source": [
        "#Defining the dense layer from the scratch using layer subclassing:\n",
        "#We first use the shortcut method of ussing self.add_weight"
      ],
      "execution_count": null,
      "outputs": []
    },
    {
      "cell_type": "code",
      "metadata": {
        "id": "wJy1YamS7YLd"
      },
      "source": [
        "class DenseLayer(tf.keras.layers.Layer):\n",
        "  def __init__(self, units = 32, input_dim = 32, name = 'dense_layer', *args, **kwargs):\n",
        "    super(DenseLayer, self).__init__(name = name, *args, **kwargs)\n",
        "    self.w = self.add_weight(shape = (units, input_dim), initializer = 'random_normal', name = 'weights', trainable = True)\n",
        "    self.b = self.add_weight(shape = (units,), initializer = 'zeros', trainable = True, name = 'bias')\n",
        "  \n",
        "  def call(self, inputs):\n",
        "    result = tf.matmul(inputs, self.w) + self.b\n",
        "    return tf.nn.relu(result)"
      ],
      "execution_count": null,
      "outputs": []
    },
    {
      "cell_type": "code",
      "metadata": {
        "id": "OCgclwsY_qfV"
      },
      "source": [
        "x = tf.ones(shape = (2,2), dtype = tf.float32)\n",
        "dense_layer = DenseLayer(2,1)\n",
        "out = dense_layer(x)"
      ],
      "execution_count": null,
      "outputs": []
    },
    {
      "cell_type": "code",
      "metadata": {
        "colab": {
          "base_uri": "https://localhost:8080/"
        },
        "id": "6esugZQbAbdk",
        "outputId": "a1399fd5-31ca-4c17-b86f-3ab44eaf272c"
      },
      "source": [
        "print(out)"
      ],
      "execution_count": null,
      "outputs": [
        {
          "output_type": "stream",
          "text": [
            "tf.Tensor(\n",
            "[[0.06454325 0.06454325]\n",
            " [0.06454325 0.06454325]], shape=(2, 2), dtype=float32)\n"
          ],
          "name": "stdout"
        }
      ]
    },
    {
      "cell_type": "code",
      "metadata": {
        "id": "DYuRucblDEVL"
      },
      "source": [
        "#We can also define the same layer using the long way format as follow (here we return the sigmoid)\n",
        "class MyLayer(tf.keras.layers.Layer):\n",
        "  def __init__(self, units: int = 32, input_dim: int = 32, name = 'dense_layer',*args, **kwargs):\n",
        "    super(MyLayer, self).__init__(name = name, *args, **kwargs)\n",
        "    init_wts = tf.random_normal_initializer()\n",
        "    init_b = tf.zeros_initializer()\n",
        "    self.w = tf.Variable(initial_value = init_wts(shape = (units, input_dim)), trainable = True, name = 'weights')\n",
        "    self.b = tf.Variable(initial_value = init_b(shape = (units,)), trainable = True, name = 'bias')\n",
        "  \n",
        "  def call(self, inputs):\n",
        "    result = tf.matmul(inputs, self.w) + self.b\n",
        "    return tf.nn.sigmoid(result)"
      ],
      "execution_count": null,
      "outputs": []
    },
    {
      "cell_type": "code",
      "metadata": {
        "colab": {
          "base_uri": "https://localhost:8080/"
        },
        "id": "ZJhBZoxbF8gh",
        "outputId": "8ee11975-86c4-4b47-cd3e-17c5de431729"
      },
      "source": [
        "layer_dense = MyLayer(4,1)\n",
        "x = tf.ones(shape = (2,4))\n",
        "out = layer_dense(x)\n",
        "print(out)"
      ],
      "execution_count": null,
      "outputs": [
        {
          "output_type": "stream",
          "text": [
            "tf.Tensor(\n",
            "[[0.47845197 0.47845197 0.47845197 0.47845197]\n",
            " [0.47845197 0.47845197 0.47845197 0.47845197]], shape=(2, 4), dtype=float32)\n"
          ],
          "name": "stdout"
        }
      ]
    },
    {
      "cell_type": "code",
      "metadata": {
        "id": "intfZUbtGOM7"
      },
      "source": [
        "assert layer_dense.weights ==[layer_dense.w, layer_dense.b] #tracking/accessing the weights in this layer"
      ],
      "execution_count": null,
      "outputs": []
    },
    {
      "cell_type": "code",
      "metadata": {
        "id": "HkoypYNVGwe8"
      },
      "source": [
        "#Adding a none-trainable weight to a layer:"
      ],
      "execution_count": null,
      "outputs": []
    },
    {
      "cell_type": "code",
      "metadata": {
        "id": "sqlU6-4sHgw6"
      },
      "source": [
        "class MixedLayer(tf.keras.layers.Layer):\n",
        "  def __init__(self, units: int = 32, input_dim: int = 32, name = 'mixture weights', *args, **kwargs)->None:\n",
        "    super(MixedLayer, self).__init__(name = name, *args, **kwargs)\n",
        "    self.w = self.add_weight(shape = (units, input_dim), initializer = 'random_normal', trainable = True, name = 'wt_trainable')\n",
        "    self.w_u = self.add_weight(shape = (units,), initializer = 'random_normal', trainable = False, name = 'untrainable_wts')\n",
        "    self.b = self.add_weight(shape = (units,), initializer = 'zeros', trainable = True, name = 'bias')\n",
        "  \n",
        "  def call(self, inputs):\n",
        "    opt = self.w_u.assign_add(tf.reduce_sum((tf.matmul(inputs, self.w) + self.b),axis = 0))\n",
        "    return tf.nn.relu(opt)\n"
      ],
      "execution_count": null,
      "outputs": []
    },
    {
      "cell_type": "code",
      "metadata": {
        "id": "zsHwxq14KN-b"
      },
      "source": [
        "mixedlayer = MixedLayer()"
      ],
      "execution_count": null,
      "outputs": []
    },
    {
      "cell_type": "code",
      "metadata": {
        "id": "ajMfljpnKgdE"
      },
      "source": [
        "x = tf.ones(shape = (10,32), dtype = float)\n",
        "out = mixedlayer(x)"
      ],
      "execution_count": null,
      "outputs": []
    },
    {
      "cell_type": "code",
      "metadata": {
        "colab": {
          "base_uri": "https://localhost:8080/"
        },
        "id": "te9tZldqK0fL",
        "outputId": "c5b7653b-6015-4bbb-d6b6-3a82d513c4d8"
      },
      "source": [
        "print(out)"
      ],
      "execution_count": null,
      "outputs": [
        {
          "output_type": "stream",
          "text": [
            "tf.Tensor(\n",
            "[0.         0.         0.         1.8673167  2.3526785  3.455099\n",
            " 0.         4.5461836  0.7618844  0.         0.         1.7038126\n",
            " 0.         0.         0.         0.         0.         0.\n",
            " 0.17043029 2.751229   0.         0.         0.         0.\n",
            " 0.         0.         0.         0.62663645 0.31510958 0.44988236\n",
            " 0.         0.33857644], shape=(32,), dtype=float32)\n"
          ],
          "name": "stdout"
        }
      ]
    },
    {
      "cell_type": "code",
      "metadata": {
        "id": "cM9HWRPoK4_i"
      },
      "source": [
        "assert mixedlayer.non_trainable_weights == [mixedlayer.w_u]"
      ],
      "execution_count": null,
      "outputs": []
    },
    {
      "cell_type": "code",
      "metadata": {
        "id": "q81s7kVOLCjX"
      },
      "source": [
        "#print out all the weights in the model"
      ],
      "execution_count": null,
      "outputs": []
    },
    {
      "cell_type": "code",
      "metadata": {
        "colab": {
          "base_uri": "https://localhost:8080/"
        },
        "id": "NOvgzTFrLTIa",
        "outputId": "bdfcb2c0-1eb1-4f93-caae-31ddfc615357"
      },
      "source": [
        "print(mixedlayer.weights)"
      ],
      "execution_count": null,
      "outputs": [
        {
          "output_type": "stream",
          "text": [
            "[<tf.Variable 'wt_trainable:0' shape=(32, 32) dtype=float32, numpy=\n",
            "array([[ 0.05411708,  0.02875854,  0.03101063, ...,  0.00322311,\n",
            "        -0.01329252, -0.00714218],\n",
            "       [ 0.03507769, -0.00203639, -0.02372039, ..., -0.01165989,\n",
            "         0.15007246, -0.04453201],\n",
            "       [ 0.03252315,  0.00105371,  0.01346861, ...,  0.00253847,\n",
            "        -0.06718918, -0.03090009],\n",
            "       ...,\n",
            "       [ 0.02033764,  0.00769625,  0.04484361, ...,  0.00372322,\n",
            "        -0.0269817 ,  0.02565583],\n",
            "       [ 0.04258398, -0.0187911 ,  0.01430888, ...,  0.02457965,\n",
            "        -0.01576806,  0.07027715],\n",
            "       [-0.06853613, -0.01856445,  0.05765331, ..., -0.00902725,\n",
            "        -0.11704353, -0.08243842]], dtype=float32)>, <tf.Variable 'bias:0' shape=(32,) dtype=float32, numpy=\n",
            "array([0., 0., 0., 0., 0., 0., 0., 0., 0., 0., 0., 0., 0., 0., 0., 0., 0.,\n",
            "       0., 0., 0., 0., 0., 0., 0., 0., 0., 0., 0., 0., 0., 0., 0.],\n",
            "      dtype=float32)>, <tf.Variable 'untrainable_wts:0' shape=(32,) dtype=float32, numpy=\n",
            "array([-0.4268122 , -5.01058   , -2.399412  ,  1.8673167 ,  2.3526785 ,\n",
            "        3.455099  , -1.8143741 ,  4.5461836 ,  0.7618844 , -1.0205851 ,\n",
            "       -0.8216677 ,  1.7038126 , -0.5128687 , -0.9864387 , -1.0173516 ,\n",
            "       -2.188936  , -3.0239277 , -3.2779741 ,  0.17043029,  2.751229  ,\n",
            "       -5.87692   , -1.5487642 , -2.0391133 , -4.7743196 , -0.5635786 ,\n",
            "       -0.12112473, -0.3538298 ,  0.62663645,  0.31510958,  0.44988236,\n",
            "       -0.73083806,  0.33857644], dtype=float32)>]\n"
          ],
          "name": "stdout"
        }
      ]
    },
    {
      "cell_type": "code",
      "metadata": {
        "id": "ud-b8LTQLYVX"
      },
      "source": [
        "#Differing weights creation to be defined later during training the model(since we may not be sure of batch sizes to read-in)"
      ],
      "execution_count": null,
      "outputs": []
    },
    {
      "cell_type": "code",
      "metadata": {
        "id": "KLTA0bbAMEX0"
      },
      "source": [
        "class MyDenseLayer(tf.keras.layers.Layer):\n",
        "  def __init__(self, units: int = 32, name = 'dense_layer', *args, **kwargs)->None:\n",
        "    super(MyDenseLayer, self).__init__(name = name, *args, **kwargs)\n",
        "    self.units = units\n",
        "  \n",
        "  def build(self, input_dim):\n",
        "    self.w = self.add_weight(shape = (self.units, input_dim[-1]), initializer = 'random_normal', trainable = True, name = 'weights')\n",
        "    self.b = self.add_weight(shape = (self.units,), initializer = 'zeros', trainable = True, name = 'bias')\n",
        "  \n",
        "  def call(self, inputs):\n",
        "    result = tf.matmul(inputs, self.w) + self.b\n",
        "    return tf.nn.relu(result)"
      ],
      "execution_count": null,
      "outputs": []
    },
    {
      "cell_type": "code",
      "metadata": {
        "id": "qMTLcHXCOhND"
      },
      "source": [
        "mydense = MyDenseLayer(32)"
      ],
      "execution_count": null,
      "outputs": []
    },
    {
      "cell_type": "code",
      "metadata": {
        "id": "Sg4mGJBjOlw3"
      },
      "source": [
        "x = tf.ones(shape = (10,32), dtype = tf.float32)"
      ],
      "execution_count": null,
      "outputs": []
    },
    {
      "cell_type": "code",
      "metadata": {
        "id": "-T7C1cDZO2DT"
      },
      "source": [
        "out = mydense(x)"
      ],
      "execution_count": null,
      "outputs": []
    },
    {
      "cell_type": "code",
      "metadata": {
        "colab": {
          "base_uri": "https://localhost:8080/"
        },
        "id": "Ve6rIx0zO5dh",
        "outputId": "7d16365d-8103-4a30-eee7-6be4b7a4a893"
      },
      "source": [
        "print(out.shape)"
      ],
      "execution_count": null,
      "outputs": [
        {
          "output_type": "stream",
          "text": [
            "(10, 32)\n"
          ],
          "name": "stdout"
        }
      ]
    },
    {
      "cell_type": "code",
      "metadata": {
        "id": "Ho7FgUecPNNX"
      },
      "source": [
        "assert mydense.trainable_weights == [mydense.w, mydense.b]"
      ],
      "execution_count": null,
      "outputs": []
    },
    {
      "cell_type": "code",
      "metadata": {
        "id": "FfbHksRpPYJ-"
      },
      "source": [
        "#Model subclassing: A simple multi-layer perceptron using model subclassing"
      ],
      "execution_count": null,
      "outputs": []
    },
    {
      "cell_type": "code",
      "metadata": {
        "id": "1sCqmGYnbCH1"
      },
      "source": [
        "class MLP(tf.keras.models.Model):\n",
        "  def __init__(self, name = 'mlp', *args, **kwargs):\n",
        "    super(MLP, self).__init__(name = name, *args, **kwargs)\n",
        "    self.dense1 = tf.keras.layers.Dense(units = 32, activation = 'relu', name = 'dense1')\n",
        "    self.dense2 = tf.keras.layers.Dense(units = 16, activation = 'relu', name = 'dense2')\n",
        "    self.outputs = tf.keras.layers.Dense(units = 1, activation = 'linear', name = 'outputs')\n",
        "  \n",
        "  def call(self, inputs_shape):\n",
        "    inputs = tf.keras.Input(shape = inputs_shape)\n",
        "    x = self.dense1(inputs)\n",
        "    x = self.dense2(x)\n",
        "    outputs = self.outputs(x)\n",
        "    model = tf.keras.Model(inputs = inputs, outputs = outputs)\n",
        "    return model"
      ],
      "execution_count": null,
      "outputs": []
    },
    {
      "cell_type": "code",
      "metadata": {
        "id": "iuuX84CXhnwB"
      },
      "source": [
        "mymodel = MLP(name = 'mlp')"
      ],
      "execution_count": null,
      "outputs": []
    },
    {
      "cell_type": "code",
      "metadata": {
        "id": "ZKwIl-5ih2Qe"
      },
      "source": [
        "mlp = mymodel((10,))"
      ],
      "execution_count": null,
      "outputs": []
    },
    {
      "cell_type": "code",
      "metadata": {
        "colab": {
          "base_uri": "https://localhost:8080/"
        },
        "id": "5cpesI7MkRax",
        "outputId": "fdbb8207-d9b7-4d7a-bfce-701e87f51da4"
      },
      "source": [
        "mlp.summary()"
      ],
      "execution_count": null,
      "outputs": [
        {
          "output_type": "stream",
          "text": [
            "Model: \"model_3\"\n",
            "_________________________________________________________________\n",
            "Layer (type)                 Output Shape              Param #   \n",
            "=================================================================\n",
            "input_9 (InputLayer)         [(None, 10)]              0         \n",
            "_________________________________________________________________\n",
            "dense1 (Dense)               (None, 32)                352       \n",
            "_________________________________________________________________\n",
            "dense2 (Dense)               (None, 16)                528       \n",
            "_________________________________________________________________\n",
            "outputs (Dense)              (None, 1)                 17        \n",
            "=================================================================\n",
            "Total params: 897\n",
            "Trainable params: 897\n",
            "Non-trainable params: 0\n",
            "_________________________________________________________________\n"
          ],
          "name": "stdout"
        }
      ]
    },
    {
      "cell_type": "code",
      "metadata": {
        "colab": {
          "base_uri": "https://localhost:8080/",
          "height": 422
        },
        "id": "6at9wycJlqYT",
        "outputId": "2e2ffe54-73ae-4ab7-fb66-fdb0ea9cb2bc"
      },
      "source": [
        "tf.keras.utils.plot_model(model = mlp, to_file = 'mlp.png', show_shapes = True)"
      ],
      "execution_count": null,
      "outputs": [
        {
          "output_type": "execute_result",
          "data": {
            "image/png": "[encoded data removed]",
            "text/plain": [
              "<IPython.core.display.Image object>"
            ]
          },
          "metadata": {
            "tags": []
          },
          "execution_count": 134
        }
      ]
    },
    {
      "cell_type": "code",
      "metadata": {
        "id": "yjK1InZpnx1H"
      },
      "source": [
        "#CNN using model subclassing: We construct a simple cnn architecture using model subclassing"
      ],
      "execution_count": null,
      "outputs": []
    },
    {
      "cell_type": "code",
      "metadata": {
        "id": "Cvt1nxgFoKwg"
      },
      "source": [
        "class CNNSimple(tf.keras.models.Model):\n",
        "  def __init__(self, name = 'cnn_simple', *args, **kwargs):\n",
        "    super(CNNSimple, self).__init__(name = name, *args, **kwargs)\n",
        "    self.conv1 = tf.keras.layers.Conv2D(filters = 32, kernel_size = (3,3), activation = 'relu')\n",
        "    self.conv2 = tf.keras.layers.Conv2D(filters = 16, kernel_size = (3,3), activation = 'relu')\n",
        "    self.drop_out = tf.keras.layers.Dropout(rate = 0.5)\n",
        "    self.flat = tf.keras.layers.Flatten()\n",
        "    self.dens1 = tf.keras.layers.Dense(units = 32, activation = 'relu')\n",
        "    self.outputs = tf.keras.layers.Dense(units = 5, activation = 'softmax')\n",
        "  def call(self, input_shape):\n",
        "    inputs = tf.keras.Input(shape = input_shape)\n",
        "    x = self.conv1(inputs)\n",
        "    x = self.conv2(x)\n",
        "    x = self.drop_out(x)\n",
        "    x = self.flat(x)\n",
        "    x = self.dens1(x)\n",
        "    outputs = self.outputs(x)\n",
        "    model = tf.keras.Model(inputs = inputs, outputs = outputs, name = 'cnn_simple')\n",
        "    return model"
      ],
      "execution_count": null,
      "outputs": []
    },
    {
      "cell_type": "code",
      "metadata": {
        "id": "UyqyK-9aqVA6"
      },
      "source": [
        "cnn_simple = CNNSimple(name = 'cnn_simple')"
      ],
      "execution_count": null,
      "outputs": []
    },
    {
      "cell_type": "code",
      "metadata": {
        "id": "JovaZF01qami"
      },
      "source": [
        "model = cnn_simple((28,28,1))"
      ],
      "execution_count": null,
      "outputs": []
    },
    {
      "cell_type": "code",
      "metadata": {
        "colab": {
          "base_uri": "https://localhost:8080/"
        },
        "id": "8aeupKepqlbZ",
        "outputId": "a826b201-74d5-4438-c7fe-877521e40647"
      },
      "source": [
        "model.summary()"
      ],
      "execution_count": null,
      "outputs": [
        {
          "output_type": "stream",
          "text": [
            "Model: \"cnn_simple\"\n",
            "_________________________________________________________________\n",
            "Layer (type)                 Output Shape              Param #   \n",
            "=================================================================\n",
            "input_13 (InputLayer)        [(None, 28, 28, 1)]       0         \n",
            "_________________________________________________________________\n",
            "conv2d_6 (Conv2D)            (None, 26, 26, 32)        320       \n",
            "_________________________________________________________________\n",
            "conv2d_7 (Conv2D)            (None, 24, 24, 16)        4624      \n",
            "_________________________________________________________________\n",
            "dropout_3 (Dropout)          (None, 24, 24, 16)        0         \n",
            "_________________________________________________________________\n",
            "flatten (Flatten)            (None, 9216)              0         \n",
            "_________________________________________________________________\n",
            "dense_6 (Dense)              (None, 32)                294944    \n",
            "_________________________________________________________________\n",
            "dense_7 (Dense)              (None, 5)                 165       \n",
            "=================================================================\n",
            "Total params: 300,053\n",
            "Trainable params: 300,053\n",
            "Non-trainable params: 0\n",
            "_________________________________________________________________\n"
          ],
          "name": "stdout"
        }
      ]
    },
    {
      "cell_type": "code",
      "metadata": {
        "colab": {
          "base_uri": "https://localhost:8080/",
          "height": 754
        },
        "id": "GQbmnNJDrbxi",
        "outputId": "63dcbbdd-2dd4-468f-c2d3-e789dfd96d11"
      },
      "source": [
        "tf.keras.utils.plot_model(model = model, to_file = 'cnn_simple.png', show_shapes = True)"
      ],
      "execution_count": null,
      "outputs": [
        {
          "output_type": "execute_result",
          "data": {
            "image/png": "[encoded data removed]",
            "text/plain": [
              "<IPython.core.display.Image object>"
            ]
          },
          "metadata": {
            "tags": []
          },
          "execution_count": 149
        }
      ]
    },
    {
      "cell_type": "code",
      "metadata": {
        "id": "GvlfPoM3sCNw"
      },
      "source": [
        ""
      ],
      "execution_count": null,
      "outputs": []
    }
  ]
}