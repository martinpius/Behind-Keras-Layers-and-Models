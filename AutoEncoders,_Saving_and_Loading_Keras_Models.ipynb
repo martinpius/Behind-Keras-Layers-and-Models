{
  "nbformat": 4,
  "nbformat_minor": 0,
  "metadata": {
    "colab": {
      "name": "AutoEncoders, Saving and Loading Keras Models.ipynb",
      "provenance": [],
      "authorship_tag": "ABX9TyP370EULLLappRn5xlIlwew",
      "include_colab_link": true
    },
    "kernelspec": {
      "name": "python3",
      "display_name": "Python 3"
    },
    "accelerator": "GPU"
  },
  "cells": [
    {
      "cell_type": "markdown",
      "metadata": {
        "id": "view-in-github",
        "colab_type": "text"
      },
      "source": [
        "<a href=\"https://colab.research.google.com/github/martinpius/Behind-Keras-Layers-and-Models/blob/main/AutoEncoders%2C_Saving_and_Loading_Keras_Models.ipynb\" target=\"_parent\"><img src=\"https://colab.research.google.com/assets/colab-badge.svg\" alt=\"Open In Colab\"/></a>"
      ]
    },
    {
      "cell_type": "code",
      "metadata": {
        "colab": {
          "base_uri": "https://localhost:8080/"
        },
        "id": "Y5AE7HUoIpKu",
        "outputId": "111580c2-95ed-42f2-f8cc-647dcb602b8e"
      },
      "source": [
        "from google.colab import drive\n",
        "drive.mount(\"/content/drive\", force_remount = True)\n",
        "try:\n",
        "  COLAB = True\n",
        "  import tensorflow as tf\n",
        "  print(f\"You are in Colab with tensorflow version: {tf.__version__}\")\n",
        "except Exception as e:\n",
        "  COLAB = False\n",
        "  print(f\"{type(e)}: {e}\\...Load Your Drive Please...\")"
      ],
      "execution_count": 3,
      "outputs": [
        {
          "output_type": "stream",
          "text": [
            "Mounted at /content/drive\n",
            "You are in Colab with tensorflow version: 2.4.0\n"
          ],
          "name": "stdout"
        }
      ]
    },
    {
      "cell_type": "code",
      "metadata": {
        "colab": {
          "base_uri": "https://localhost:8080/",
          "height": 35
        },
        "id": "A_4BkWkZJoHH",
        "outputId": "0e3b3475-c8c7-4d4b-d41d-3f6d301d27b6"
      },
      "source": [
        "def time_fmt(t):\n",
        "  h = int(t / (60 * 60))\n",
        "  m = int(t % (60 * 60) / 60)\n",
        "  s = int(t % 60)\n",
        "  return f\"{h}: {m:>02}: {s:>05.2f}\"\n",
        "\n",
        "time_fmt(124.293809)"
      ],
      "execution_count": 4,
      "outputs": [
        {
          "output_type": "execute_result",
          "data": {
            "application/vnd.google.colaboratory.intrinsic+json": {
              "type": "string"
            },
            "text/plain": [
              "'0: 02: 04.00'"
            ]
          },
          "metadata": {
            "tags": []
          },
          "execution_count": 4
        }
      ]
    },
    {
      "cell_type": "code",
      "metadata": {
        "id": "VHyLHgnoKerh"
      },
      "source": [
        "import tensorflow as tf\n",
        "import numpy as np\n",
        "import time"
      ],
      "execution_count": 2,
      "outputs": []
    },
    {
      "cell_type": "code",
      "metadata": {
        "id": "WtbgPaE4KrcI"
      },
      "source": [
        "#We build an auto-encoder's model for cifar10 data.\n",
        "inputs = tf.keras.Input(shape = (32,32,3), name = 'img-dim')\n",
        "x = tf.keras.layers.Conv2D(filters = 128, kernel_size = (3,3), padding = 'valid', activation = 'relu')(inputs)\n",
        "x = tf.keras.layers.Conv2D(filters = 64, kernel_size = (3,3), padding = 'valid', activation = 'relu')(x)\n",
        "x = tf.keras.layers.MaxPooling2D(pool_size = 2)(x)\n",
        "x = tf.keras.layers.Conv2D(filters = 128, kernel_size = (3,3), padding = 'valid', activation = 'relu')(x)\n",
        "x = tf.keras.layers.Conv2D(filters = 64, activation = 'relu', kernel_size = (3,3), padding = 'valid')(x)\n",
        "x = tf.keras.layers.MaxPooling2D(pool_size = 2)(x)\n",
        "x = tf.keras.layers.Conv2D(filters = 128, kernel_size = (3,3), activation = 'relu', padding = 'valid')(x)\n",
        "enc_out = tf.keras.layers.Conv2D(filters = 64,kernel_size = (3,3),activation= 'relu', padding = 'valid')(x)\n",
        "\n",
        "x = tf.keras.layers.Reshape((8,8,1))(enc_out)\n",
        "x = tf.keras.layers.Conv2DTranspose(filters = 64, kernel_size = (3,3), activation = 'relu', padding = 'valid')(x)\n",
        "x = tf.keras.layers.Conv2DTranspose(filters = 128, kernel_size = (3,3), activation = 'relu', padding = 'valid')(x)\n",
        "x = tf.keras.layers.UpSampling2D(size = (2,2))(x)\n",
        "x = tf.keras.layers.Conv2DTranspose(filters = 64, kernel_size = (3,3), activation = 'relu', padding = 'valid')(x)\n",
        "x = tf.keras.layers.Conv2DTranspose(filters = 128, kernel_size = (3,3), activation = 'relu', padding = 'valid')(x)\n",
        "x = tf.keras.layers.Conv2DTranspose(filters = 64, kernel_size = (3,3), activation = 'relu', padding = 'valid')(x)\n",
        "dec_out = tf.keras.layers.Conv2DTranspose(filters = 3, kernel_size = (3,3), name = 'dec_out')(x)\n",
        "\n",
        "model = tf.keras.Model(inputs = inputs, outputs =  dec_out, name = 'autoencoder')\n",
        "\n",
        "\n"
      ],
      "execution_count": 6,
      "outputs": []
    },
    {
      "cell_type": "code",
      "metadata": {
        "colab": {
          "base_uri": "https://localhost:8080/"
        },
        "id": "4aEJNkUGPxbb",
        "outputId": "3eba4638-4899-4c57-9848-a207d8222aed"
      },
      "source": [
        "model.summary()"
      ],
      "execution_count": 7,
      "outputs": [
        {
          "output_type": "stream",
          "text": [
            "Model: \"autoencoder\"\n",
            "_________________________________________________________________\n",
            "Layer (type)                 Output Shape              Param #   \n",
            "=================================================================\n",
            "img-dim (InputLayer)         [(None, 32, 32, 3)]       0         \n",
            "_________________________________________________________________\n",
            "conv2d (Conv2D)              (None, 30, 30, 128)       3584      \n",
            "_________________________________________________________________\n",
            "conv2d_1 (Conv2D)            (None, 28, 28, 64)        73792     \n",
            "_________________________________________________________________\n",
            "max_pooling2d (MaxPooling2D) (None, 14, 14, 64)        0         \n",
            "_________________________________________________________________\n",
            "conv2d_2 (Conv2D)            (None, 12, 12, 128)       73856     \n",
            "_________________________________________________________________\n",
            "conv2d_3 (Conv2D)            (None, 10, 10, 64)        73792     \n",
            "_________________________________________________________________\n",
            "max_pooling2d_1 (MaxPooling2 (None, 5, 5, 64)          0         \n",
            "_________________________________________________________________\n",
            "conv2d_4 (Conv2D)            (None, 3, 3, 128)         73856     \n",
            "_________________________________________________________________\n",
            "conv2d_5 (Conv2D)            (None, 1, 1, 64)          73792     \n",
            "_________________________________________________________________\n",
            "reshape (Reshape)            (None, 8, 8, 1)           0         \n",
            "_________________________________________________________________\n",
            "conv2d_transpose (Conv2DTran (None, 10, 10, 64)        640       \n",
            "_________________________________________________________________\n",
            "conv2d_transpose_1 (Conv2DTr (None, 12, 12, 128)       73856     \n",
            "_________________________________________________________________\n",
            "up_sampling2d (UpSampling2D) (None, 24, 24, 128)       0         \n",
            "_________________________________________________________________\n",
            "conv2d_transpose_2 (Conv2DTr (None, 26, 26, 64)        73792     \n",
            "_________________________________________________________________\n",
            "conv2d_transpose_3 (Conv2DTr (None, 28, 28, 128)       73856     \n",
            "_________________________________________________________________\n",
            "conv2d_transpose_4 (Conv2DTr (None, 30, 30, 64)        73792     \n",
            "_________________________________________________________________\n",
            "dec_out (Conv2DTranspose)    (None, 32, 32, 3)         1731      \n",
            "=================================================================\n",
            "Total params: 670,339\n",
            "Trainable params: 670,339\n",
            "Non-trainable params: 0\n",
            "_________________________________________________________________\n"
          ],
          "name": "stdout"
        }
      ]
    },
    {
      "cell_type": "code",
      "metadata": {
        "colab": {
          "base_uri": "https://localhost:8080/",
          "height": 1000
        },
        "id": "-CK-emcFQs_1",
        "outputId": "c8399289-7bbb-4041-e42b-b81244f7bbbe"
      },
      "source": [
        "tf.keras.utils.plot_model(model = model, to_file = 'autoencoder.png', show_shapes = True)"
      ],
      "execution_count": 8,
      "outputs": [
        {
          "output_type": "execute_result",
          "data": {
            "image/png": "[encoded data removed]",
            "text/plain": [
              "<IPython.core.display.Image object>"
            ]
          },
          "metadata": {
            "tags": []
          },
          "execution_count": 8
        }
      ]
    },
    {
      "cell_type": "code",
      "metadata": {
        "colab": {
          "base_uri": "https://localhost:8080/"
        },
        "id": "xviosDIyUiOH",
        "outputId": "70198212-cdd7-4730-b54f-261aa7f5cfe7"
      },
      "source": [
        "(x_train, _),(_, _) = tf.keras.datasets.cifar10.load_data()"
      ],
      "execution_count": 9,
      "outputs": [
        {
          "output_type": "stream",
          "text": [
            "Downloading data from https://www.cs.toronto.edu/~kriz/cifar-10-python.tar.gz\n",
            "170500096/170498071 [==============================] - 2s 0us/step\n"
          ],
          "name": "stdout"
        }
      ]
    },
    {
      "cell_type": "code",
      "metadata": {
        "colab": {
          "base_uri": "https://localhost:8080/",
          "height": 34
        },
        "id": "nMPlRYUkU3Bo",
        "outputId": "1c562212-8478-4cb7-c6bc-82af383de4f4"
      },
      "source": [
        "display(x_train.shape)"
      ],
      "execution_count": 10,
      "outputs": [
        {
          "output_type": "display_data",
          "data": {
            "text/plain": [
              "(50000, 32, 32, 3)"
            ]
          },
          "metadata": {
            "tags": []
          }
        }
      ]
    },
    {
      "cell_type": "code",
      "metadata": {
        "id": "qQA8ND4zU7Le"
      },
      "source": [
        "x_train = x_train.astype('float32')/255"
      ],
      "execution_count": 11,
      "outputs": []
    },
    {
      "cell_type": "code",
      "metadata": {
        "id": "CJezy5_OVJ-3"
      },
      "source": [
        "train_dfm = tf.data.Dataset.from_tensor_slices(x_train)"
      ],
      "execution_count": 12,
      "outputs": []
    },
    {
      "cell_type": "code",
      "metadata": {
        "id": "fFyQ8byaefxq"
      },
      "source": [
        ""
      ],
      "execution_count": 12,
      "outputs": []
    },
    {
      "cell_type": "code",
      "metadata": {
        "id": "Td5WtQ0XVbV9"
      },
      "source": [
        "train_dfm = train_dfm.shuffle(buffer_size = 1024).batch(64)"
      ],
      "execution_count": 13,
      "outputs": []
    },
    {
      "cell_type": "code",
      "metadata": {
        "id": "QJpZzQ2TVmH8"
      },
      "source": [
        "#The training loop"
      ],
      "execution_count": 14,
      "outputs": []
    },
    {
      "cell_type": "code",
      "metadata": {
        "id": "ia_yXN7WVpQb"
      },
      "source": [
        "epochs = 10"
      ],
      "execution_count": 15,
      "outputs": []
    },
    {
      "cell_type": "code",
      "metadata": {
        "id": "dSYHxv8zVzy_"
      },
      "source": [
        "lossfn = tf.keras.losses.MeanSquaredError()\n",
        "metricfn = tf.keras.metrics.Mean()\n",
        "optimizer = tf.keras.optimizers.Adam(learning_rate = 1e-3)\n"
      ],
      "execution_count": 16,
      "outputs": []
    },
    {
      "cell_type": "code",
      "metadata": {
        "colab": {
          "base_uri": "https://localhost:8080/"
        },
        "id": "E9fJPMGAWapu",
        "outputId": "05481f3b-c463-4f73-bf16-195282d1ba41"
      },
      "source": [
        "start_time = time.time()\n",
        "for epoch in range(epochs):\n",
        "  print(f\"The begining of epoch: {epoch}\")\n",
        "  for step, x_train_batch in enumerate(train_dfm):\n",
        "    with tf.GradientTape() as tape:\n",
        "      dec_out = model(x_train_batch)\n",
        "      loss = lossfn(x_train_batch, dec_out)\n",
        "      loss+=loss\n",
        "    grads = tape.gradient(loss, model.trainable_weights)\n",
        "    optimizer.apply_gradients(zip(grads, model.trainable_weights))\n",
        "    metricfn(loss)\n",
        "    if step % 100 == 0:\n",
        "      print(\"step %d: mean loss = %.4f\" % (step, metricfn.result()))\n",
        "  \n",
        "end_time = time.time()"
      ],
      "execution_count": 17,
      "outputs": [
        {
          "output_type": "stream",
          "text": [
            "The begining of epoch: 0\n",
            "step 0: mean loss = 0.6056\n",
            "step 100: mean loss = 0.1572\n",
            "step 200: mean loss = 0.1126\n",
            "step 300: mean loss = 0.0932\n",
            "step 400: mean loss = 0.0828\n",
            "step 500: mean loss = 0.0753\n",
            "step 600: mean loss = 0.0698\n",
            "step 700: mean loss = 0.0656\n",
            "The begining of epoch: 1\n",
            "step 0: mean loss = 0.0631\n",
            "step 100: mean loss = 0.0604\n",
            "step 200: mean loss = 0.0581\n",
            "step 300: mean loss = 0.0561\n",
            "step 400: mean loss = 0.0544\n",
            "step 500: mean loss = 0.0530\n",
            "step 600: mean loss = 0.0517\n",
            "step 700: mean loss = 0.0506\n",
            "The begining of epoch: 2\n",
            "step 0: mean loss = 0.0497\n",
            "step 100: mean loss = 0.0487\n",
            "step 200: mean loss = 0.0479\n",
            "step 300: mean loss = 0.0472\n",
            "step 400: mean loss = 0.0465\n",
            "step 500: mean loss = 0.0458\n",
            "step 600: mean loss = 0.0452\n",
            "step 700: mean loss = 0.0447\n",
            "The begining of epoch: 3\n",
            "step 0: mean loss = 0.0442\n",
            "step 100: mean loss = 0.0437\n",
            "step 200: mean loss = 0.0432\n",
            "step 300: mean loss = 0.0427\n",
            "step 400: mean loss = 0.0423\n",
            "step 500: mean loss = 0.0419\n",
            "step 600: mean loss = 0.0415\n",
            "step 700: mean loss = 0.0411\n",
            "The begining of epoch: 4\n",
            "step 0: mean loss = 0.0407\n",
            "step 100: mean loss = 0.0404\n",
            "step 200: mean loss = 0.0400\n",
            "step 300: mean loss = 0.0397\n",
            "step 400: mean loss = 0.0394\n",
            "step 500: mean loss = 0.0391\n",
            "step 600: mean loss = 0.0388\n",
            "step 700: mean loss = 0.0385\n",
            "The begining of epoch: 5\n",
            "step 0: mean loss = 0.0383\n",
            "step 100: mean loss = 0.0380\n",
            "step 200: mean loss = 0.0378\n",
            "step 300: mean loss = 0.0376\n",
            "step 400: mean loss = 0.0373\n",
            "step 500: mean loss = 0.0371\n",
            "step 600: mean loss = 0.0369\n",
            "step 700: mean loss = 0.0367\n",
            "The begining of epoch: 6\n",
            "step 0: mean loss = 0.0365\n",
            "step 100: mean loss = 0.0364\n",
            "step 200: mean loss = 0.0362\n",
            "step 300: mean loss = 0.0360\n",
            "step 400: mean loss = 0.0358\n",
            "step 500: mean loss = 0.0357\n",
            "step 600: mean loss = 0.0355\n",
            "step 700: mean loss = 0.0353\n",
            "The begining of epoch: 7\n",
            "step 0: mean loss = 0.0352\n",
            "step 100: mean loss = 0.0351\n",
            "step 200: mean loss = 0.0349\n",
            "step 300: mean loss = 0.0348\n",
            "step 400: mean loss = 0.0347\n",
            "step 500: mean loss = 0.0345\n",
            "step 600: mean loss = 0.0344\n",
            "step 700: mean loss = 0.0343\n",
            "The begining of epoch: 8\n",
            "step 0: mean loss = 0.0342\n",
            "step 100: mean loss = 0.0340\n",
            "step 200: mean loss = 0.0339\n",
            "step 300: mean loss = 0.0338\n",
            "step 400: mean loss = 0.0337\n",
            "step 500: mean loss = 0.0336\n",
            "step 600: mean loss = 0.0335\n",
            "step 700: mean loss = 0.0334\n",
            "The begining of epoch: 9\n",
            "step 0: mean loss = 0.0333\n",
            "step 100: mean loss = 0.0332\n",
            "step 200: mean loss = 0.0331\n",
            "step 300: mean loss = 0.0330\n",
            "step 400: mean loss = 0.0330\n",
            "step 500: mean loss = 0.0329\n",
            "step 600: mean loss = 0.0328\n",
            "step 700: mean loss = 0.0327\n",
            "time_elapse:0: 55: 29.00\n"
          ],
          "name": "stdout"
        }
      ]
    },
    {
      "cell_type": "code",
      "metadata": {
        "colab": {
          "base_uri": "https://localhost:8080/"
        },
        "id": "CO7Q7HgUZuR2",
        "outputId": "726b72a9-563f-4be6-dfca-cff260c045e0"
      },
      "source": [
        "print(f\"time_elapse:{time_fmt(start_time - end_time)}\")"
      ],
      "execution_count": 18,
      "outputs": [
        {
          "output_type": "stream",
          "text": [
            "time_elapse:0: 55: 29.00\n"
          ],
          "name": "stdout"
        }
      ]
    },
    {
      "cell_type": "code",
      "metadata": {
        "id": "eUzmpp90kq65"
      },
      "source": [
        "#Saving and loading the model"
      ],
      "execution_count": 19,
      "outputs": []
    },
    {
      "cell_type": "code",
      "metadata": {
        "colab": {
          "base_uri": "https://localhost:8080/"
        },
        "id": "7vXvZHDqk0ng",
        "outputId": "aa6ade7e-e6fe-43a3-e55d-0fbe37c4d2d8"
      },
      "source": [
        "model.save('autoencoder')"
      ],
      "execution_count": 20,
      "outputs": [
        {
          "output_type": "stream",
          "text": [
            "INFO:tensorflow:Assets written to: autoencoder/assets\n"
          ],
          "name": "stdout"
        }
      ]
    },
    {
      "cell_type": "code",
      "metadata": {
        "colab": {
          "base_uri": "https://localhost:8080/"
        },
        "id": "eVBXYRF8ld1L",
        "outputId": "1d9b1254-bde0-4beb-e7f4-f285eebcc7fd"
      },
      "source": [
        "#We can load back the model as follow:\n",
        "autoencoder_reloaded = tf.keras.models.load_model('autoencoder')"
      ],
      "execution_count": 21,
      "outputs": [
        {
          "output_type": "stream",
          "text": [
            "WARNING:tensorflow:No training configuration found in save file, so the model was *not* compiled. Compile it manually.\n"
          ],
          "name": "stdout"
        }
      ]
    },
    {
      "cell_type": "code",
      "metadata": {
        "colab": {
          "base_uri": "https://localhost:8080/"
        },
        "id": "JBcax14Cl0uY",
        "outputId": "5ac1f969-71da-462e-fefa-99f9f38d8202"
      },
      "source": [
        "autoencoder_reloaded.summary()"
      ],
      "execution_count": 22,
      "outputs": [
        {
          "output_type": "stream",
          "text": [
            "Model: \"autoencoder\"\n",
            "_________________________________________________________________\n",
            "Layer (type)                 Output Shape              Param #   \n",
            "=================================================================\n",
            "img-dim (InputLayer)         [(None, 32, 32, 3)]       0         \n",
            "_________________________________________________________________\n",
            "conv2d (Conv2D)              (None, 30, 30, 128)       3584      \n",
            "_________________________________________________________________\n",
            "conv2d_1 (Conv2D)            (None, 28, 28, 64)        73792     \n",
            "_________________________________________________________________\n",
            "max_pooling2d (MaxPooling2D) (None, 14, 14, 64)        0         \n",
            "_________________________________________________________________\n",
            "conv2d_2 (Conv2D)            (None, 12, 12, 128)       73856     \n",
            "_________________________________________________________________\n",
            "conv2d_3 (Conv2D)            (None, 10, 10, 64)        73792     \n",
            "_________________________________________________________________\n",
            "max_pooling2d_1 (MaxPooling2 (None, 5, 5, 64)          0         \n",
            "_________________________________________________________________\n",
            "conv2d_4 (Conv2D)            (None, 3, 3, 128)         73856     \n",
            "_________________________________________________________________\n",
            "conv2d_5 (Conv2D)            (None, 1, 1, 64)          73792     \n",
            "_________________________________________________________________\n",
            "reshape (Reshape)            (None, 8, 8, 1)           0         \n",
            "_________________________________________________________________\n",
            "conv2d_transpose (Conv2DTran (None, 10, 10, 64)        640       \n",
            "_________________________________________________________________\n",
            "conv2d_transpose_1 (Conv2DTr (None, 12, 12, 128)       73856     \n",
            "_________________________________________________________________\n",
            "up_sampling2d (UpSampling2D) (None, 24, 24, 128)       0         \n",
            "_________________________________________________________________\n",
            "conv2d_transpose_2 (Conv2DTr (None, 26, 26, 64)        73792     \n",
            "_________________________________________________________________\n",
            "conv2d_transpose_3 (Conv2DTr (None, 28, 28, 128)       73856     \n",
            "_________________________________________________________________\n",
            "conv2d_transpose_4 (Conv2DTr (None, 30, 30, 64)        73792     \n",
            "_________________________________________________________________\n",
            "dec_out (Conv2DTranspose)    (None, 32, 32, 3)         1731      \n",
            "=================================================================\n",
            "Total params: 670,339\n",
            "Trainable params: 670,339\n",
            "Non-trainable params: 0\n",
            "_________________________________________________________________\n"
          ],
          "name": "stdout"
        }
      ]
    },
    {
      "cell_type": "code",
      "metadata": {
        "id": "OsF35a4Xl963"
      },
      "source": [
        "#Get the model configuration\n",
        "auto_config = autoencoder_reloaded.get_config()"
      ],
      "execution_count": 23,
      "outputs": []
    },
    {
      "cell_type": "code",
      "metadata": {
        "colab": {
          "base_uri": "https://localhost:8080/"
        },
        "id": "6lFqbjWGp1PF",
        "outputId": "f7efa0fa-3b24-4006-9a90-d4cd7adfc682"
      },
      "source": [
        "auto_config.values #This is a detailed dictionary of the model's configuration"
      ],
      "execution_count": 26,
      "outputs": [
        {
          "output_type": "execute_result",
          "data": {
            "text/plain": [
              "<function dict.values>"
            ]
          },
          "metadata": {
            "tags": []
          },
          "execution_count": 26
        }
      ]
    },
    {
      "cell_type": "code",
      "metadata": {
        "id": "ueW4WmJAp352"
      },
      "source": [
        "#We can use the above configuration to re-create the same model\n",
        "new_autoencoder = tf.keras.Model.from_config(auto_config)"
      ],
      "execution_count": 28,
      "outputs": []
    },
    {
      "cell_type": "code",
      "metadata": {
        "colab": {
          "base_uri": "https://localhost:8080/"
        },
        "id": "67x_VxA4q7RV",
        "outputId": "e17f0e31-bdb3-4a0b-f4bf-8dde7579318b"
      },
      "source": [
        "new_autoencoder.summary()"
      ],
      "execution_count": 29,
      "outputs": [
        {
          "output_type": "stream",
          "text": [
            "Model: \"autoencoder\"\n",
            "_________________________________________________________________\n",
            "Layer (type)                 Output Shape              Param #   \n",
            "=================================================================\n",
            "img-dim (InputLayer)         [(None, 32, 32, 3)]       0         \n",
            "_________________________________________________________________\n",
            "conv2d (Conv2D)              (None, 30, 30, 128)       3584      \n",
            "_________________________________________________________________\n",
            "conv2d_1 (Conv2D)            (None, 28, 28, 64)        73792     \n",
            "_________________________________________________________________\n",
            "max_pooling2d (MaxPooling2D) (None, 14, 14, 64)        0         \n",
            "_________________________________________________________________\n",
            "conv2d_2 (Conv2D)            (None, 12, 12, 128)       73856     \n",
            "_________________________________________________________________\n",
            "conv2d_3 (Conv2D)            (None, 10, 10, 64)        73792     \n",
            "_________________________________________________________________\n",
            "max_pooling2d_1 (MaxPooling2 (None, 5, 5, 64)          0         \n",
            "_________________________________________________________________\n",
            "conv2d_4 (Conv2D)            (None, 3, 3, 128)         73856     \n",
            "_________________________________________________________________\n",
            "conv2d_5 (Conv2D)            (None, 1, 1, 64)          73792     \n",
            "_________________________________________________________________\n",
            "reshape (Reshape)            (None, 8, 8, 1)           0         \n",
            "_________________________________________________________________\n",
            "conv2d_transpose (Conv2DTran (None, 10, 10, 64)        640       \n",
            "_________________________________________________________________\n",
            "conv2d_transpose_1 (Conv2DTr (None, 12, 12, 128)       73856     \n",
            "_________________________________________________________________\n",
            "up_sampling2d (UpSampling2D) (None, 24, 24, 128)       0         \n",
            "_________________________________________________________________\n",
            "conv2d_transpose_2 (Conv2DTr (None, 26, 26, 64)        73792     \n",
            "_________________________________________________________________\n",
            "conv2d_transpose_3 (Conv2DTr (None, 28, 28, 128)       73856     \n",
            "_________________________________________________________________\n",
            "conv2d_transpose_4 (Conv2DTr (None, 30, 30, 64)        73792     \n",
            "_________________________________________________________________\n",
            "dec_out (Conv2DTranspose)    (None, 32, 32, 3)         1731      \n",
            "=================================================================\n",
            "Total params: 670,339\n",
            "Trainable params: 670,339\n",
            "Non-trainable params: 0\n",
            "_________________________________________________________________\n"
          ],
          "name": "stdout"
        }
      ]
    },
    {
      "cell_type": "code",
      "metadata": {
        "id": "PA62a93hrA03"
      },
      "source": [
        "#Save keras models created through layer's and model's subclassing\n",
        "#Here we over-write the get_config() and from_config() methods"
      ],
      "execution_count": 1,
      "outputs": []
    },
    {
      "cell_type": "code",
      "metadata": {
        "id": "XFOXatd2CXcZ"
      },
      "source": [
        "#We can register our customized kerals models as part of the inbuild"
      ],
      "execution_count": 1,
      "outputs": []
    },
    {
      "cell_type": "code",
      "metadata": {
        "id": "ShZje8AyMrts"
      },
      "source": [
        "class DenseLayer(tf.keras.layers.Layer):\n",
        "  def __init__(self, units = 64, name = 'Customized_dense_layer'):\n",
        "    super(DenseLayer, self).__init__(name = name)\n",
        "    self.units = units\n",
        "  \n",
        "  def build(self, inputs_shape):\n",
        "    self.w = self.add_weight(shape = (inputs_shape[-1], self.units), initializer = 'random_normal', trainable = True, name = 'weight')\n",
        "    self.b = self.add_weight(shape = (self.units,), trainable = True, initializer = 'zeros', name = 'bias')\n",
        "  \n",
        "  def call(self, inputs):\n",
        "    return tf.matmul(inputs, self.w) + self.b\n",
        "  \n",
        "  def get_config(self):\n",
        "    config = super(DenseLayer, self).get_config()\n",
        "    config.update({'units': self.units})\n",
        "    return config\n",
        "\n",
        "    "
      ],
      "execution_count": 3,
      "outputs": []
    },
    {
      "cell_type": "code",
      "metadata": {
        "id": "6N7gUjHzPWME"
      },
      "source": [
        "def my_activation(a):\n",
        "  act = tf.nn.relu(a)**2\n",
        "  return act"
      ],
      "execution_count": 16,
      "outputs": []
    },
    {
      "cell_type": "code",
      "metadata": {
        "id": "WufWyrJ7P9uw"
      },
      "source": [
        "x = tf.keras.Input(shape = (10,))\n",
        "dense = DenseLayer(128)\n",
        "out = dense(x)"
      ],
      "execution_count": 17,
      "outputs": []
    },
    {
      "cell_type": "code",
      "metadata": {
        "id": "t_DCxN0jQu3V"
      },
      "source": [
        "outputs = tf.keras.layers.Activation(my_activation)(out)"
      ],
      "execution_count": 18,
      "outputs": []
    },
    {
      "cell_type": "code",
      "metadata": {
        "id": "EqAsjmKURIKq"
      },
      "source": [
        "model = tf.keras.Model(inputs = x, outputs = outputs)"
      ],
      "execution_count": 19,
      "outputs": []
    },
    {
      "cell_type": "code",
      "metadata": {
        "colab": {
          "base_uri": "https://localhost:8080/"
        },
        "id": "X3dBQhPcSkAl",
        "outputId": "07362922-bd61-43ae-dd22-08e33d0429b2"
      },
      "source": [
        "model.summary()"
      ],
      "execution_count": 20,
      "outputs": [
        {
          "output_type": "stream",
          "text": [
            "Model: \"model\"\n",
            "_________________________________________________________________\n",
            "Layer (type)                 Output Shape              Param #   \n",
            "=================================================================\n",
            "input_4 (InputLayer)         [(None, 10)]              0         \n",
            "_________________________________________________________________\n",
            "Customized_dense_layer (Dens (None, 128)               1408      \n",
            "_________________________________________________________________\n",
            "activation_2 (Activation)    (None, 128)               0         \n",
            "=================================================================\n",
            "Total params: 1,408\n",
            "Trainable params: 1,408\n",
            "Non-trainable params: 0\n",
            "_________________________________________________________________\n"
          ],
          "name": "stdout"
        }
      ]
    },
    {
      "cell_type": "code",
      "metadata": {
        "id": "3IY-D3c4Sl8j"
      },
      "source": [
        "#Get the model's configurations\n",
        "myconfig = model.get_config()"
      ],
      "execution_count": 21,
      "outputs": []
    },
    {
      "cell_type": "code",
      "metadata": {
        "colab": {
          "base_uri": "https://localhost:8080/"
        },
        "id": "QUmY_7BhS1rE",
        "outputId": "8256c857-2930-4c95-e99d-828eafb0005e"
      },
      "source": [
        "myconfig"
      ],
      "execution_count": 22,
      "outputs": [
        {
          "output_type": "execute_result",
          "data": {
            "text/plain": [
              "{'input_layers': [['input_4', 0, 0]],\n",
              " 'layers': [{'class_name': 'InputLayer',\n",
              "   'config': {'batch_input_shape': (None, 10),\n",
              "    'dtype': 'float32',\n",
              "    'name': 'input_4',\n",
              "    'ragged': False,\n",
              "    'sparse': False},\n",
              "   'inbound_nodes': [],\n",
              "   'name': 'input_4'},\n",
              "  {'class_name': 'DenseLayer',\n",
              "   'config': {'dtype': 'float32',\n",
              "    'name': 'Customized_dense_layer',\n",
              "    'trainable': True,\n",
              "    'units': 128},\n",
              "   'inbound_nodes': [[['input_4', 0, 0, {}]]],\n",
              "   'name': 'Customized_dense_layer'},\n",
              "  {'class_name': 'Activation',\n",
              "   'config': {'activation': 'my_activation',\n",
              "    'dtype': 'float32',\n",
              "    'name': 'activation_2',\n",
              "    'trainable': True},\n",
              "   'inbound_nodes': [[['Customized_dense_layer', 0, 0, {}]]],\n",
              "   'name': 'activation_2'}],\n",
              " 'name': 'model',\n",
              " 'output_layers': [['activation_2', 0, 0]]}"
            ]
          },
          "metadata": {
            "tags": []
          },
          "execution_count": 22
        }
      ]
    },
    {
      "cell_type": "code",
      "metadata": {
        "id": "UJ3TrqxBS3-U"
      },
      "source": [
        "#Weight transfer's between layers in memory"
      ],
      "execution_count": 1,
      "outputs": []
    },
    {
      "cell_type": "code",
      "metadata": {
        "id": "HoXTSkGj_xCN"
      },
      "source": [
        "import tensorflow as tf"
      ],
      "execution_count": 2,
      "outputs": []
    },
    {
      "cell_type": "code",
      "metadata": {
        "id": "zpT-K0Rx_WN6"
      },
      "source": [
        "def wt_trans():\n",
        "  layer = tf.keras.layers.Dense(units = 32, kernel_initializer = 'random_normal', activation = 'relu')\n",
        "  layer.build((10,))\n",
        "  return layer"
      ],
      "execution_count": 3,
      "outputs": []
    },
    {
      "cell_type": "code",
      "metadata": {
        "id": "wlfldPfn_2-H"
      },
      "source": [
        "layer1 = wt_trans()\n",
        "layer2 = wt_trans()"
      ],
      "execution_count": 4,
      "outputs": []
    },
    {
      "cell_type": "code",
      "metadata": {
        "id": "chQDuCdi_-SO"
      },
      "source": [
        "layer1.set_weights(layer2.get_weights())#copy layer1's weights into layer2"
      ],
      "execution_count": 5,
      "outputs": []
    },
    {
      "cell_type": "code",
      "metadata": {
        "colab": {
          "base_uri": "https://localhost:8080/"
        },
        "id": "jxzrNeiKARRA",
        "outputId": "d50a0db5-f34f-47da-ca9f-df7f4b47fa68"
      },
      "source": [
        "layer1.weights[0]"
      ],
      "execution_count": 7,
      "outputs": [
        {
          "output_type": "execute_result",
          "data": {
            "text/plain": [
              "<tf.Variable 'kernel:0' shape=(10, 32) dtype=float32, numpy=\n",
              "array([[-1.80564187e-02,  9.80987996e-02, -4.65300903e-02,\n",
              "        -3.82264517e-02, -2.45631989e-02, -5.09849191e-02,\n",
              "         7.76119484e-03,  1.67045966e-02,  2.11789422e-02,\n",
              "        -5.63174598e-02,  1.06346667e-01, -3.80355343e-02,\n",
              "        -1.04816565e-02,  2.64813900e-02, -3.15379240e-02,\n",
              "         2.36817785e-02,  5.95539473e-02, -8.20489153e-02,\n",
              "        -5.10776043e-02, -2.21742615e-02,  1.02136090e-01,\n",
              "         1.42987091e-02, -1.10738210e-01, -6.17266778e-05,\n",
              "         4.53371704e-02, -7.25475419e-03,  2.38637701e-02,\n",
              "        -2.58406494e-02,  2.20270809e-02,  8.27933848e-02,\n",
              "         2.57290099e-02,  1.09184481e-01],\n",
              "       [ 8.39367807e-02, -2.73569506e-02, -5.71526960e-02,\n",
              "         3.41296718e-02, -2.16250923e-02,  3.02796718e-02,\n",
              "        -6.60806103e-03, -5.34130298e-02,  7.15756714e-02,\n",
              "        -7.49688363e-03,  5.70349768e-02,  1.89121914e-04,\n",
              "         1.89387165e-02,  1.98363066e-02, -4.92539965e-02,\n",
              "        -2.22647507e-02, -8.41800496e-02, -1.18749579e-02,\n",
              "        -5.16692409e-03, -6.67575300e-02, -3.33145224e-02,\n",
              "         2.50043720e-02,  2.27297228e-02, -3.78740928e-03,\n",
              "         7.01916963e-02, -4.71070297e-02,  3.84640181e-03,\n",
              "         4.98787723e-02,  3.42090391e-02,  7.57218227e-02,\n",
              "        -1.41179143e-02,  6.83329999e-02],\n",
              "       [ 1.83924455e-02, -6.68054149e-02, -2.28258297e-02,\n",
              "        -6.45674169e-02,  2.36463305e-02, -1.47119886e-03,\n",
              "        -8.35632458e-02,  7.43848309e-02,  5.52861765e-02,\n",
              "         8.35263431e-02,  4.28070091e-02,  1.81990433e-02,\n",
              "        -3.19722891e-02, -5.17601483e-02, -4.48911078e-02,\n",
              "         2.90758163e-02, -1.37125095e-02,  9.17645618e-02,\n",
              "         1.74042787e-02, -5.59151929e-04,  2.23647933e-02,\n",
              "        -1.41659919e-02,  2.30337661e-02,  3.31385322e-02,\n",
              "        -1.53588755e-02,  4.00675200e-02,  2.65355650e-02,\n",
              "        -2.34068651e-02, -1.54795227e-04, -7.60667175e-02,\n",
              "        -8.63830075e-02,  6.09808341e-02],\n",
              "       [-1.62321683e-02, -1.21271387e-02, -1.52453482e-02,\n",
              "         5.09936642e-03, -8.44720230e-02, -3.49701755e-02,\n",
              "        -6.63139522e-02,  1.28706265e-02,  8.16365108e-02,\n",
              "         3.45159061e-02,  3.49009149e-02,  3.52204591e-02,\n",
              "         1.81848591e-03,  2.08061095e-02, -2.01368108e-02,\n",
              "         7.13223070e-02,  4.29232307e-02, -3.90241519e-02,\n",
              "         1.38864651e-01, -6.14767103e-03,  3.91355641e-02,\n",
              "         2.05326173e-02,  1.84868164e-02,  2.25276612e-02,\n",
              "        -1.74331311e-02, -4.03548628e-02,  2.59882193e-02,\n",
              "        -7.68389031e-02,  2.66734753e-02, -7.74766132e-03,\n",
              "        -5.98145500e-02,  4.50771824e-02],\n",
              "       [ 8.40108842e-02,  1.08779132e-01, -9.40200686e-02,\n",
              "         1.86842401e-02,  5.65296831e-03,  1.02567580e-02,\n",
              "        -6.40514120e-02, -6.75499365e-02,  1.72860995e-01,\n",
              "         1.24991715e-01, -4.16091047e-02,  4.76299785e-02,\n",
              "        -8.36031884e-02, -7.28022978e-02,  1.44102157e-03,\n",
              "        -3.86106484e-02,  5.97861223e-02,  2.67031342e-02,\n",
              "         3.92314047e-02, -4.14085165e-02,  9.06847510e-03,\n",
              "         6.68159425e-02,  1.76857021e-02, -4.70933728e-02,\n",
              "        -2.69278176e-02, -3.36753801e-02, -5.69455735e-02,\n",
              "         1.65787712e-02,  6.83033932e-03,  1.74940526e-02,\n",
              "         1.49614294e-03,  4.80447933e-02],\n",
              "       [ 6.32299408e-02, -6.87431023e-02,  5.14888726e-02,\n",
              "        -5.39155565e-02, -1.41620552e-02, -1.33291874e-02,\n",
              "        -4.54737060e-02, -2.80171223e-02, -7.15747625e-02,\n",
              "         1.03951944e-02,  4.66388240e-02,  1.07271019e-02,\n",
              "         3.07644047e-02,  6.41575083e-02, -4.75986712e-02,\n",
              "         2.37340182e-02, -5.40769752e-03, -1.01236359e-03,\n",
              "        -4.98858979e-03,  4.20321748e-02, -3.05703916e-02,\n",
              "        -7.09575042e-02,  8.89617112e-03, -5.75572848e-02,\n",
              "        -1.15072262e-02, -5.43558784e-02, -2.43063327e-02,\n",
              "         2.21988428e-02, -2.28405055e-02,  9.02750567e-02,\n",
              "         8.18166435e-02,  1.55893089e-02],\n",
              "       [ 1.24969520e-01,  5.00376895e-02,  2.95791533e-02,\n",
              "         6.32748902e-02,  7.24336458e-03,  5.54196127e-02,\n",
              "        -1.25102118e-01,  3.10410261e-02,  3.59087586e-02,\n",
              "         6.03502057e-02,  3.46320868e-02, -6.97798729e-02,\n",
              "        -4.05426063e-02,  3.42333200e-03,  5.78567572e-02,\n",
              "        -8.20725784e-02,  4.40518297e-02,  4.91009168e-02,\n",
              "         3.55656072e-02,  1.86567064e-02,  4.65262942e-02,\n",
              "         1.28788641e-02,  2.33276263e-02,  6.27451465e-02,\n",
              "         1.06025441e-03, -1.82015523e-02, -7.51442416e-03,\n",
              "         5.06945001e-03,  3.94231342e-02, -2.05151252e-02,\n",
              "        -2.08976623e-02, -2.38636583e-02],\n",
              "       [ 6.36823708e-03,  8.62739459e-02, -2.68555321e-02,\n",
              "         4.39356677e-02, -7.18676671e-02, -1.67537574e-02,\n",
              "        -2.56704669e-02,  4.05305699e-02, -9.73202288e-03,\n",
              "         4.69072163e-02,  1.17223049e-02, -4.35047112e-02,\n",
              "        -3.30420397e-02,  4.91573699e-02,  6.38636872e-02,\n",
              "        -8.35956112e-02,  6.85956180e-02, -1.02633797e-01,\n",
              "        -4.47279029e-02, -4.29964997e-02, -7.69020393e-02,\n",
              "        -1.47380820e-02,  1.24362698e-02, -3.18574607e-02,\n",
              "        -4.81779873e-02,  5.98313101e-02,  5.52989207e-02,\n",
              "         9.91846696e-02,  1.18512819e-02, -5.95729239e-02,\n",
              "        -1.03509523e-01, -6.85315430e-02],\n",
              "       [-8.47034156e-03, -3.75050865e-02,  3.84931192e-02,\n",
              "         2.43690368e-02, -1.37368394e-02,  4.25338820e-02,\n",
              "         3.09800096e-02, -1.34440484e-02, -1.39696077e-02,\n",
              "        -1.61220264e-02,  5.36849303e-03,  1.60839688e-02,\n",
              "        -6.08080141e-02, -2.81280857e-02,  4.92238365e-02,\n",
              "        -1.86572503e-02, -3.98280136e-02,  4.45253663e-02,\n",
              "        -2.69397236e-02, -4.58451174e-02, -1.37632536e-02,\n",
              "         3.54871564e-02,  1.98292192e-02, -5.06395288e-02,\n",
              "         3.00225411e-02, -9.54275578e-03, -2.83443965e-02,\n",
              "         6.16416149e-02, -5.04011996e-02,  3.26707549e-02,\n",
              "        -4.59357202e-02, -1.08019018e-03],\n",
              "       [ 1.58966873e-02, -1.94677729e-02, -7.22474093e-03,\n",
              "        -1.42133040e-02, -5.70994755e-03,  2.43014563e-02,\n",
              "        -1.24576269e-02, -4.79667597e-02,  9.34438035e-03,\n",
              "         4.18950891e-04,  1.78929176e-02, -1.66809168e-02,\n",
              "         4.93851155e-02,  2.32216828e-02,  4.91170399e-02,\n",
              "        -4.50403243e-02,  3.47592495e-02, -3.51954140e-02,\n",
              "         8.03417861e-02, -7.02223682e-04,  3.02228164e-02,\n",
              "        -4.24274447e-04, -1.45060467e-02, -2.27727499e-02,\n",
              "        -5.01312502e-02, -2.11215131e-02, -5.98850325e-02,\n",
              "         5.38619757e-02,  4.72598113e-02, -2.59896927e-03,\n",
              "        -9.54573881e-03, -8.24998170e-02]], dtype=float32)>"
            ]
          },
          "metadata": {
            "tags": []
          },
          "execution_count": 7
        }
      ]
    },
    {
      "cell_type": "code",
      "metadata": {
        "id": "eyfig7vsAU5q"
      },
      "source": [
        "#Weights transfer from one model to another in the memory\n",
        "#Sometimes we might like to transers the weights from one model to the other if we train problems of same domains"
      ],
      "execution_count": 10,
      "outputs": []
    },
    {
      "cell_type": "code",
      "metadata": {
        "id": "6SxBZS63Aqy1"
      },
      "source": [
        "#Model1\n",
        "inputs = tf.keras.Input(shape = (10,), name = 'inputs_1')\n",
        "x = tf.keras.layers.Dense(units = 32, activation = 'relu', kernel_initializer = 'random_normal')(inputs)\n",
        "x = tf.keras.layers.Dense(units = 64, kernel_initializer = 'random_normal', activation = 'relu')(x)\n",
        "outputs = tf.keras.layers.Dense(units = 10, activation = 'softmax')(x)\n",
        "model1 = tf.keras.Model(inputs = inputs, outputs = outputs, name = 'model1')"
      ],
      "execution_count": 13,
      "outputs": []
    },
    {
      "cell_type": "code",
      "metadata": {
        "id": "pkhV_jZlB99N"
      },
      "source": [
        "#Model2\n",
        "\n",
        "class Model2(tf.keras.Model):\n",
        "  def __init__(self, output_dim, name = 'model2', **kwargs):\n",
        "    super(Model2, self).__init__(name = None, **kwargs)\n",
        "    self.output_dim = output_dim\n",
        "    self.dense1 = tf.keras.layers.Dense(32, activation = 'relu', kernel_initializer= 'random_normal')\n",
        "    self.dense2 = tf.keras.layers.Dense(64, kernel_initializer = 'random_normal', activation = 'relu')\n",
        "    self.out = tf.keras.layers.Dense(output_dim, activation = 'softmax')\n",
        "  \n",
        "  def call(self, inputs):\n",
        "    x = self.dense1(inputs)\n",
        "    x = self.dense2(x)\n",
        "    return self.out(x)\n",
        "  \n",
        "  def get_config(self):\n",
        "    config = super(Model2, self).get_config()\n",
        "    config.update({'output_dim': self.output_dim, 'name':self.name})\n"
      ],
      "execution_count": 36,
      "outputs": []
    },
    {
      "cell_type": "code",
      "metadata": {
        "id": "FG6UNFFKCKOX"
      },
      "source": [
        "model2 = Model2(10)"
      ],
      "execution_count": 37,
      "outputs": []
    },
    {
      "cell_type": "code",
      "metadata": {
        "id": "Xs3rDaSTFG7P"
      },
      "source": [
        "out = model2(tf.keras.Input(shape = (10,)))"
      ],
      "execution_count": 38,
      "outputs": []
    },
    {
      "cell_type": "code",
      "metadata": {
        "colab": {
          "base_uri": "https://localhost:8080/"
        },
        "id": "0KKH5cqOGJrr",
        "outputId": "cc686b32-8176-4b3d-db02-33188640cdb6"
      },
      "source": [
        "out.shape"
      ],
      "execution_count": 39,
      "outputs": [
        {
          "output_type": "execute_result",
          "data": {
            "text/plain": [
              "TensorShape([None, 10])"
            ]
          },
          "metadata": {
            "tags": []
          },
          "execution_count": 39
        }
      ]
    },
    {
      "cell_type": "code",
      "metadata": {
        "id": "vTPUXz-yGLlF"
      },
      "source": [
        "#Copy the weights of model2 into model1"
      ],
      "execution_count": 40,
      "outputs": []
    },
    {
      "cell_type": "code",
      "metadata": {
        "id": "ZlAKli5gGXvl"
      },
      "source": [
        "model1.set_weights(model2.get_weights())"
      ],
      "execution_count": 41,
      "outputs": []
    },
    {
      "cell_type": "code",
      "metadata": {
        "colab": {
          "base_uri": "https://localhost:8080/"
        },
        "id": "NPHCvhgOGjtK",
        "outputId": "63c39a8a-3c43-4ae8-d407-1c49f1e3227c"
      },
      "source": [
        "model1.get_weights()[-1]"
      ],
      "execution_count": 47,
      "outputs": [
        {
          "output_type": "execute_result",
          "data": {
            "text/plain": [
              "array([0., 0., 0., 0., 0., 0., 0., 0., 0., 0.], dtype=float32)"
            ]
          },
          "metadata": {
            "tags": []
          },
          "execution_count": 47
        }
      ]
    },
    {
      "cell_type": "code",
      "metadata": {
        "colab": {
          "base_uri": "https://localhost:8080/"
        },
        "id": "IlV4_s17HGjD",
        "outputId": "9bee8d2a-b523-4359-9747-da57ecb8de4f"
      },
      "source": [
        "model2.get_weights()[-1]"
      ],
      "execution_count": 48,
      "outputs": [
        {
          "output_type": "execute_result",
          "data": {
            "text/plain": [
              "array([0., 0., 0., 0., 0., 0., 0., 0., 0., 0.], dtype=float32)"
            ]
          },
          "metadata": {
            "tags": []
          },
          "execution_count": 48
        }
      ]
    },
    {
      "cell_type": "code",
      "metadata": {
        "id": "6ThWv3r-HUAk"
      },
      "source": [
        ""
      ],
      "execution_count": null,
      "outputs": []
    }
  ]
}