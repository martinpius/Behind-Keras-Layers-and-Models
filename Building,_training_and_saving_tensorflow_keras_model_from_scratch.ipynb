{
  "nbformat": 4,
  "nbformat_minor": 0,
  "metadata": {
    "colab": {
      "name": "Building, training and saving tensorflow-keras model from scratch.ipynb",
      "provenance": [],
      "authorship_tag": "ABX9TyOQpJoOfT9ZPadtTGxXEs5F",
      "include_colab_link": true
    },
    "kernelspec": {
      "name": "python3",
      "display_name": "Python 3"
    },
    "accelerator": "GPU"
  },
  "cells": [
    {
      "cell_type": "markdown",
      "metadata": {
        "id": "view-in-github",
        "colab_type": "text"
      },
      "source": [
        "<a href=\"https://colab.research.google.com/github/martinpius/Behind-Keras-Layers-and-Models/blob/main/Building%2C_training_and_saving_tensorflow_keras_model_from_scratch.ipynb\" target=\"_parent\"><img src=\"https://colab.research.google.com/assets/colab-badge.svg\" alt=\"Open In Colab\"/></a>"
      ]
    },
    {
      "cell_type": "code",
      "metadata": {
        "colab": {
          "base_uri": "https://localhost:8080/"
        },
        "id": "iiSQbj3QoIMY",
        "outputId": "da17d0cc-ab3c-4cee-86bb-739a1cc5d0c2"
      },
      "source": [
        "from google.colab import drive\n",
        "drive.mount('/content/drive', force_remount = True)\n",
        "try:\n",
        "  COLAB = True\n",
        "  import tensorflow as tf\n",
        "  print(f\"You are on CoLab with tensorflow version: {tf.__version__}\")\n",
        "except Exception as e:\n",
        "  print(f\"{type(e)}: {e}/n...please load your drive...\")\n",
        "  COLAB = False\n",
        "def time_fmt(t:float = 123.728)->float:\n",
        "  h = int(t / (60 * 60))\n",
        "  m = int(t % (60 * 60) / 60)\n",
        "  s = int(t % 60)\n",
        "  return f\"{h}: {m:>02}: {s:>05.2f}\"\n",
        "print(f\"...time testing....\\n<<<time elapse: {time_fmt()}>>>\")"
      ],
      "execution_count": null,
      "outputs": [
        {
          "output_type": "stream",
          "text": [
            "Mounted at /content/drive\n",
            "You are on CoLab with tensorflow version: 2.4.1\n",
            "...time testing....\n",
            "<<<time elapse: 0: 02: 03.00>>>\n"
          ],
          "name": "stdout"
        }
      ]
    },
    {
      "cell_type": "code",
      "metadata": {
        "id": "x7XSwhlErBsi"
      },
      "source": [
        "#We construct our model from scratch as follows:\n",
        "import time, os\n",
        "import numpy as np\n",
        "import tensorflow as tf\n",
        "import tensorflow_hub as hub\n"
      ],
      "execution_count": 92,
      "outputs": []
    },
    {
      "cell_type": "code",
      "metadata": {
        "id": "xRP9SypkugCT"
      },
      "source": [
        "#Defining the activation functions (relu and softmax)\n",
        "class MyActivation(tf.keras.layers.Layer):\n",
        "  def __init__(self, *args, **kwargs):\n",
        "    super(MyActivation, self).__init__(*args, **kwargs)\n",
        "  def my_relu(self, inputs_tensor):\n",
        "    return tf.math.maximum(inputs_tensor, 0)\n"
      ],
      "execution_count": null,
      "outputs": []
    },
    {
      "cell_type": "code",
      "metadata": {
        "id": "-F2-T9lgr-4O"
      },
      "source": [
        "class DenseLayer(tf.keras.layers.Layer):\n",
        "  '''This class construct our dense layer'''\n",
        "  def __init__(self, units, *args, **kwargs):\n",
        "    super(DenseLayer, self).__init__(*args, **kwargs)\n",
        "    self.units = units\n",
        "  def build(self, inputs_shape):\n",
        "    self.w = self.add_weight(shape = (inputs_shape[-1], self.units),\n",
        "                             name = 'weights', initializer = 'random_normal',\n",
        "                             trainable = True)\n",
        "    self.b = self.add_weight(shape = (self.units,), name = 'bias',\n",
        "                             initializer = 'zeros',\n",
        "                             trainable = True)\n",
        "  def call(self, inputs_tensor):\n",
        "    x = tf.matmul(inputs_tensor, self.w) + self.b\n",
        "    return x"
      ],
      "execution_count": null,
      "outputs": []
    },
    {
      "cell_type": "code",
      "metadata": {
        "id": "2BlcJJBdya_z"
      },
      "source": [
        "class MyMLP(tf.keras.models.Model):\n",
        "  '''This class is responsible to build our \n",
        "  simple multilayer perceptron'''\n",
        "  def __init__(self, num_classes = 10, *args, **kwargs):\n",
        "    super(MyMLP, self).__init__(*args, **kwargs)\n",
        "    self.dense1 = DenseLayer(128, name = 'dense1')\n",
        "    self.dense2 = DenseLayer(64, name = 'dense2')\n",
        "    self.outputs = DenseLayer(10, name = 'outputs')\n",
        "    self.act = MyActivation()\n",
        "\n",
        "  def call(self, inputs_tensor, training = False):\n",
        "    x = self.dense1(inputs_tensor, training = training)\n",
        "    x = self.act(x)\n",
        "    x = self.dense2(x, training = training)\n",
        "    x = self.act(x)\n",
        "    x = self.outputs(x, training = training)\n",
        "    return tf.nn.softmax(x)\n"
      ],
      "execution_count": null,
      "outputs": []
    },
    {
      "cell_type": "code",
      "metadata": {
        "id": "x77hT3kb4KSW"
      },
      "source": [
        "model = MyMLP(name = 'MLP')"
      ],
      "execution_count": null,
      "outputs": []
    },
    {
      "cell_type": "code",
      "metadata": {
        "colab": {
          "base_uri": "https://localhost:8080/"
        },
        "id": "5jI3CKv04V5q",
        "outputId": "84b29aae-d512-48c6-8e25-47107afa12c9"
      },
      "source": [
        "#Get the data from keras\n",
        "(x_train, y_train), (x_test, y_test) = tf.keras.datasets.mnist.load_data()\n",
        "x_train, x_test = x_train.reshape(-1, 28*28).astype(np.float32)/255.0, x_test.reshape(-1,28*28).astype(np.float32)/255.0\n",
        "y_train, y_test = tf.keras.utils.to_categorical(y_train, num_classes = 10), tf.keras.utils.to_categorical(y_test, num_classes = 10)\n",
        "print(f\"x_train shape: {x_train.shape}, x_test shape: {x_test.shape}\\ny_train_shape: {y_train.shape}, y_test shape: {y_test.shape}\")"
      ],
      "execution_count": null,
      "outputs": [
        {
          "output_type": "stream",
          "text": [
            "x_train shape: (60000, 784), x_test shape: (10000, 784)\n",
            "y_train_shape: (60000, 10), y_test shape: (10000, 10)\n"
          ],
          "name": "stdout"
        }
      ]
    },
    {
      "cell_type": "code",
      "metadata": {
        "colab": {
          "base_uri": "https://localhost:8080/"
        },
        "id": "b5wC1oC452XK",
        "outputId": "b1b1645e-7058-4f3e-adaf-2227959eb02a"
      },
      "source": [
        "#Convert to tensorflow data:\n",
        "BATCH_SIZE, EPOCHS, BUFFER = 64, 20, len(x_train)\n",
        "train_data, test_data = tf.data.Dataset.from_tensor_slices((x_train, y_train)), tf.data.Dataset.from_tensor_slices((x_test, y_test))\n",
        "train_data = train_data.shuffle(BUFFER).batch(BATCH_SIZE, drop_remainder = True)\n",
        "test_data = test_data.batch(BATCH_SIZE, drop_remainder = True)\n",
        "x_train_sample_batch, y_train_sample_batch = next(iter(train_data))\n",
        "print(f\"{x_train_sample_batch.shape}, {y_train_sample_batch.shape}\")"
      ],
      "execution_count": null,
      "outputs": [
        {
          "output_type": "stream",
          "text": [
            "(64, 784), (64, 10)\n"
          ],
          "name": "stdout"
        }
      ]
    },
    {
      "cell_type": "code",
      "metadata": {
        "id": "f08qWOLC7vVV"
      },
      "source": [
        "#The train step from scratch:"
      ],
      "execution_count": null,
      "outputs": []
    },
    {
      "cell_type": "code",
      "metadata": {
        "colab": {
          "base_uri": "https://localhost:8080/"
        },
        "id": "lJeo_TQk78da",
        "outputId": "94fe3ad1-0ba1-482b-b953-932079f0b656"
      },
      "source": [
        "tic = time.time()\n",
        "optimizer = tf.keras.optimizers.Adam(learning_rate = 0.001)\n",
        "loss_fn = tf.keras.losses.CategoricalCrossentropy(from_logits = False)\n",
        "train_metric = tf.keras.metrics.CategoricalAccuracy()\n",
        "val_metric = tf.keras.metrics.CategoricalAccuracy()\n",
        "for epoch in range(EPOCHS):\n",
        "  print(f\"...the start of epoch: {epoch + 1}...\\ntraining...\\nplease wait for a moment....\")\n",
        "  for (step, (x_train_batch, y_train_batch)) in enumerate(train_data):\n",
        "    with tf.GradientTape() as tape:\n",
        "      preds = model(x_train_batch, training = True)\n",
        "      train_loss = loss_fn(y_train_batch, preds)\n",
        "    grads = tape.gradient(train_loss, model.trainable_weights)\n",
        "    optimizer.apply_gradients(zip(grads, model.trainable_weights))\n",
        "    train_metric.update_state(y_train_batch, preds)\n",
        "    train_acc = train_metric.result()\n",
        "    train_metric.reset_states()\n",
        "    if step % 200 == 0:\n",
        "      print(f\"epoch: {epoch + 1}, train accuracy: {float(train_acc):.4f}\")\n",
        "      print(f\"batch number: {step}, train loss: {float(train_loss):.4f}\")\n",
        "  for (step, (x_val_batch, y_val_batch)) in enumerate(test_data):\n",
        "    preds = model(x_val_batch, training = False)\n",
        "    val_loss = loss_fn(y_val_batch, preds)\n",
        "    val_metric.update_state(y_val_batch, preds)\n",
        "    val_acc = val_metric.result()\n",
        "    val_metric.reset_states()\n",
        "    if step % 200 == 0:\n",
        "      print(f\"epoch: {epoch + 1}, validation accuracy: {float(val_acc):.4f}\")\n",
        "      print(f\"batch number: {step}, validation loss: {float(val_loss):.4f}\")\n",
        "print(f\"{model.summary()}\")\n",
        "toc = time.time()\n",
        "print(f\"\\nthis model takes a total time of: {time_fmt(toc - tic)} to train and evaluate\")\n",
        "\n",
        "#saving the model:"
      ],
      "execution_count": null,
      "outputs": [
        {
          "output_type": "stream",
          "text": [
            "...the start of epoch: 1...\n",
            "training...\n",
            "please wait for a moment....\n",
            "epoch: 1, train accuracy: 0.1250\n",
            "batch number: 0, train loss: 2.2870\n",
            "epoch: 1, train accuracy: 0.8281\n",
            "batch number: 200, train loss: 0.6822\n",
            "epoch: 1, train accuracy: 0.9062\n",
            "batch number: 400, train loss: 0.2579\n",
            "epoch: 1, train accuracy: 0.8594\n",
            "batch number: 600, train loss: 0.7246\n",
            "epoch: 1, train accuracy: 0.9531\n",
            "batch number: 800, train loss: 0.2144\n",
            "epoch: 1, validation accuracy: 0.9531\n",
            "batch number: 0, validation loss: 0.2051\n",
            "...the start of epoch: 2...\n",
            "training...\n",
            "please wait for a moment....\n",
            "epoch: 2, train accuracy: 0.9375\n",
            "batch number: 0, train loss: 0.1723\n",
            "epoch: 2, train accuracy: 0.9219\n",
            "batch number: 200, train loss: 0.2157\n",
            "epoch: 2, train accuracy: 0.9062\n",
            "batch number: 400, train loss: 0.2137\n",
            "epoch: 2, train accuracy: 0.8906\n",
            "batch number: 600, train loss: 0.4188\n",
            "epoch: 2, train accuracy: 0.9062\n",
            "batch number: 800, train loss: 0.2743\n",
            "epoch: 2, validation accuracy: 0.9531\n",
            "batch number: 0, validation loss: 0.2331\n",
            "...the start of epoch: 3...\n",
            "training...\n",
            "please wait for a moment....\n",
            "epoch: 3, train accuracy: 0.9688\n",
            "batch number: 0, train loss: 0.2254\n",
            "epoch: 3, train accuracy: 0.9062\n",
            "batch number: 200, train loss: 0.4429\n",
            "epoch: 3, train accuracy: 0.9531\n",
            "batch number: 400, train loss: 0.2318\n",
            "epoch: 3, train accuracy: 0.9062\n",
            "batch number: 600, train loss: 0.3004\n",
            "epoch: 3, train accuracy: 0.9219\n",
            "batch number: 800, train loss: 0.2118\n",
            "epoch: 3, validation accuracy: 0.9688\n",
            "batch number: 0, validation loss: 0.2335\n",
            "...the start of epoch: 4...\n",
            "training...\n",
            "please wait for a moment....\n",
            "epoch: 4, train accuracy: 0.9219\n",
            "batch number: 0, train loss: 0.3430\n",
            "epoch: 4, train accuracy: 0.9531\n",
            "batch number: 200, train loss: 0.1579\n",
            "epoch: 4, train accuracy: 0.8906\n",
            "batch number: 400, train loss: 0.4030\n",
            "epoch: 4, train accuracy: 0.9375\n",
            "batch number: 600, train loss: 0.4136\n",
            "epoch: 4, train accuracy: 0.9375\n",
            "batch number: 800, train loss: 0.1821\n",
            "epoch: 4, validation accuracy: 0.9375\n",
            "batch number: 0, validation loss: 0.1892\n",
            "...the start of epoch: 5...\n",
            "training...\n",
            "please wait for a moment....\n",
            "epoch: 5, train accuracy: 0.8906\n",
            "batch number: 0, train loss: 0.4361\n",
            "epoch: 5, train accuracy: 0.9375\n",
            "batch number: 200, train loss: 0.1803\n",
            "epoch: 5, train accuracy: 0.9062\n",
            "batch number: 400, train loss: 0.2146\n",
            "epoch: 5, train accuracy: 0.9375\n",
            "batch number: 600, train loss: 0.2693\n",
            "epoch: 5, train accuracy: 0.9219\n",
            "batch number: 800, train loss: 0.4432\n",
            "epoch: 5, validation accuracy: 0.9531\n",
            "batch number: 0, validation loss: 0.2495\n",
            "...the start of epoch: 6...\n",
            "training...\n",
            "please wait for a moment....\n",
            "epoch: 6, train accuracy: 0.9375\n",
            "batch number: 0, train loss: 0.2120\n",
            "epoch: 6, train accuracy: 0.9219\n",
            "batch number: 200, train loss: 0.2471\n",
            "epoch: 6, train accuracy: 0.9375\n",
            "batch number: 400, train loss: 0.2433\n",
            "epoch: 6, train accuracy: 0.9375\n",
            "batch number: 600, train loss: 0.2224\n",
            "epoch: 6, train accuracy: 0.8594\n",
            "batch number: 800, train loss: 0.3143\n",
            "epoch: 6, validation accuracy: 0.9531\n",
            "batch number: 0, validation loss: 0.2582\n",
            "...the start of epoch: 7...\n",
            "training...\n",
            "please wait for a moment....\n",
            "epoch: 7, train accuracy: 0.9062\n",
            "batch number: 0, train loss: 0.4996\n",
            "epoch: 7, train accuracy: 0.9688\n",
            "batch number: 200, train loss: 0.1873\n",
            "epoch: 7, train accuracy: 0.8906\n",
            "batch number: 400, train loss: 0.3673\n",
            "epoch: 7, train accuracy: 0.9688\n",
            "batch number: 600, train loss: 0.1557\n",
            "epoch: 7, train accuracy: 0.9219\n",
            "batch number: 800, train loss: 0.1584\n",
            "epoch: 7, validation accuracy: 0.9531\n",
            "batch number: 0, validation loss: 0.2506\n",
            "...the start of epoch: 8...\n",
            "training...\n",
            "please wait for a moment....\n",
            "epoch: 8, train accuracy: 0.9531\n",
            "batch number: 0, train loss: 0.1308\n",
            "epoch: 8, train accuracy: 0.9375\n",
            "batch number: 200, train loss: 0.1770\n",
            "epoch: 8, train accuracy: 0.9062\n",
            "batch number: 400, train loss: 0.2438\n",
            "epoch: 8, train accuracy: 0.9219\n",
            "batch number: 600, train loss: 0.2089\n",
            "epoch: 8, train accuracy: 0.9062\n",
            "batch number: 800, train loss: 0.2266\n",
            "epoch: 8, validation accuracy: 0.9531\n",
            "batch number: 0, validation loss: 0.2297\n",
            "...the start of epoch: 9...\n",
            "training...\n",
            "please wait for a moment....\n",
            "epoch: 9, train accuracy: 0.9844\n",
            "batch number: 0, train loss: 0.1031\n",
            "epoch: 9, train accuracy: 0.9062\n",
            "batch number: 200, train loss: 0.3241\n",
            "epoch: 9, train accuracy: 0.9375\n",
            "batch number: 400, train loss: 0.1390\n",
            "epoch: 9, train accuracy: 0.9375\n",
            "batch number: 600, train loss: 0.2235\n",
            "epoch: 9, train accuracy: 0.9219\n",
            "batch number: 800, train loss: 0.1883\n",
            "epoch: 9, validation accuracy: 0.9531\n",
            "batch number: 0, validation loss: 0.2386\n",
            "...the start of epoch: 10...\n",
            "training...\n",
            "please wait for a moment....\n",
            "epoch: 10, train accuracy: 0.9062\n",
            "batch number: 0, train loss: 0.4166\n",
            "epoch: 10, train accuracy: 0.9219\n",
            "batch number: 200, train loss: 0.3088\n",
            "epoch: 10, train accuracy: 0.9062\n",
            "batch number: 400, train loss: 0.2597\n",
            "epoch: 10, train accuracy: 0.9219\n",
            "batch number: 600, train loss: 0.3565\n",
            "epoch: 10, train accuracy: 0.9062\n",
            "batch number: 800, train loss: 0.2968\n",
            "epoch: 10, validation accuracy: 0.9531\n",
            "batch number: 0, validation loss: 0.2238\n",
            "...the start of epoch: 11...\n",
            "training...\n",
            "please wait for a moment....\n",
            "epoch: 11, train accuracy: 0.9531\n",
            "batch number: 0, train loss: 0.1343\n",
            "epoch: 11, train accuracy: 0.9219\n",
            "batch number: 200, train loss: 0.3387\n",
            "epoch: 11, train accuracy: 0.9375\n",
            "batch number: 400, train loss: 0.3490\n",
            "epoch: 11, train accuracy: 0.8906\n",
            "batch number: 600, train loss: 0.3354\n",
            "epoch: 11, train accuracy: 0.9062\n",
            "batch number: 800, train loss: 0.3292\n",
            "epoch: 11, validation accuracy: 0.9375\n",
            "batch number: 0, validation loss: 0.2907\n",
            "...the start of epoch: 12...\n",
            "training...\n",
            "please wait for a moment....\n",
            "epoch: 12, train accuracy: 0.9531\n",
            "batch number: 0, train loss: 0.1833\n",
            "epoch: 12, train accuracy: 0.9375\n",
            "batch number: 200, train loss: 0.2362\n",
            "epoch: 12, train accuracy: 0.9688\n",
            "batch number: 400, train loss: 0.2123\n",
            "epoch: 12, train accuracy: 0.8750\n",
            "batch number: 600, train loss: 0.3050\n",
            "epoch: 12, train accuracy: 0.9531\n",
            "batch number: 800, train loss: 0.1300\n",
            "epoch: 12, validation accuracy: 0.9375\n",
            "batch number: 0, validation loss: 0.2020\n",
            "...the start of epoch: 13...\n",
            "training...\n",
            "please wait for a moment....\n",
            "epoch: 13, train accuracy: 0.9531\n",
            "batch number: 0, train loss: 0.1141\n",
            "epoch: 13, train accuracy: 0.9531\n",
            "batch number: 200, train loss: 0.1715\n",
            "epoch: 13, train accuracy: 0.8438\n",
            "batch number: 400, train loss: 0.4008\n",
            "epoch: 13, train accuracy: 0.8906\n",
            "batch number: 600, train loss: 0.3261\n",
            "epoch: 13, train accuracy: 0.8750\n",
            "batch number: 800, train loss: 0.3930\n",
            "epoch: 13, validation accuracy: 0.9531\n",
            "batch number: 0, validation loss: 0.2766\n",
            "...the start of epoch: 14...\n",
            "training...\n",
            "please wait for a moment....\n",
            "epoch: 14, train accuracy: 0.8750\n",
            "batch number: 0, train loss: 0.6101\n",
            "epoch: 14, train accuracy: 0.9688\n",
            "batch number: 200, train loss: 0.1345\n",
            "epoch: 14, train accuracy: 0.9219\n",
            "batch number: 400, train loss: 0.2159\n",
            "epoch: 14, train accuracy: 0.8906\n",
            "batch number: 600, train loss: 0.2978\n",
            "epoch: 14, train accuracy: 0.9531\n",
            "batch number: 800, train loss: 0.1731\n",
            "epoch: 14, validation accuracy: 0.9375\n",
            "batch number: 0, validation loss: 0.2598\n",
            "...the start of epoch: 15...\n",
            "training...\n",
            "please wait for a moment....\n",
            "epoch: 15, train accuracy: 0.9375\n",
            "batch number: 0, train loss: 0.2260\n",
            "epoch: 15, train accuracy: 0.9219\n",
            "batch number: 200, train loss: 0.2079\n",
            "epoch: 15, train accuracy: 0.9219\n",
            "batch number: 400, train loss: 0.2964\n",
            "epoch: 15, train accuracy: 0.9531\n",
            "batch number: 600, train loss: 0.2283\n",
            "epoch: 15, train accuracy: 0.9219\n",
            "batch number: 800, train loss: 0.1840\n",
            "epoch: 15, validation accuracy: 0.9531\n",
            "batch number: 0, validation loss: 0.2586\n",
            "...the start of epoch: 16...\n",
            "training...\n",
            "please wait for a moment....\n",
            "epoch: 16, train accuracy: 1.0000\n",
            "batch number: 0, train loss: 0.0831\n",
            "epoch: 16, train accuracy: 0.9062\n",
            "batch number: 200, train loss: 0.5062\n",
            "epoch: 16, train accuracy: 0.9375\n",
            "batch number: 400, train loss: 0.2059\n",
            "epoch: 16, train accuracy: 0.9531\n",
            "batch number: 600, train loss: 0.2655\n",
            "epoch: 16, train accuracy: 0.9375\n",
            "batch number: 800, train loss: 0.2242\n",
            "epoch: 16, validation accuracy: 0.9375\n",
            "batch number: 0, validation loss: 0.2421\n",
            "...the start of epoch: 17...\n",
            "training...\n",
            "please wait for a moment....\n",
            "epoch: 17, train accuracy: 0.9531\n",
            "batch number: 0, train loss: 0.2274\n",
            "epoch: 17, train accuracy: 0.9219\n",
            "batch number: 200, train loss: 0.1379\n",
            "epoch: 17, train accuracy: 0.9219\n",
            "batch number: 400, train loss: 0.2359\n",
            "epoch: 17, train accuracy: 0.8750\n",
            "batch number: 600, train loss: 0.3571\n",
            "epoch: 17, train accuracy: 0.9219\n",
            "batch number: 800, train loss: 0.3689\n",
            "epoch: 17, validation accuracy: 0.9531\n",
            "batch number: 0, validation loss: 0.2804\n",
            "...the start of epoch: 18...\n",
            "training...\n",
            "please wait for a moment....\n",
            "epoch: 18, train accuracy: 0.9688\n",
            "batch number: 0, train loss: 0.1215\n",
            "epoch: 18, train accuracy: 0.9375\n",
            "batch number: 200, train loss: 0.3341\n",
            "epoch: 18, train accuracy: 0.9375\n",
            "batch number: 400, train loss: 0.2322\n",
            "epoch: 18, train accuracy: 0.8906\n",
            "batch number: 600, train loss: 0.3515\n",
            "epoch: 18, train accuracy: 0.9688\n",
            "batch number: 800, train loss: 0.0794\n",
            "epoch: 18, validation accuracy: 0.9375\n",
            "batch number: 0, validation loss: 0.2902\n",
            "...the start of epoch: 19...\n",
            "training...\n",
            "please wait for a moment....\n",
            "epoch: 19, train accuracy: 0.8906\n",
            "batch number: 0, train loss: 0.5101\n",
            "epoch: 19, train accuracy: 0.9219\n",
            "batch number: 200, train loss: 0.2605\n",
            "epoch: 19, train accuracy: 0.9531\n",
            "batch number: 400, train loss: 0.1799\n",
            "epoch: 19, train accuracy: 0.9062\n",
            "batch number: 600, train loss: 0.5613\n",
            "epoch: 19, train accuracy: 0.9062\n",
            "batch number: 800, train loss: 0.4758\n",
            "epoch: 19, validation accuracy: 0.9531\n",
            "batch number: 0, validation loss: 0.2686\n",
            "...the start of epoch: 20...\n",
            "training...\n",
            "please wait for a moment....\n",
            "epoch: 20, train accuracy: 0.9375\n",
            "batch number: 0, train loss: 0.1302\n",
            "epoch: 20, train accuracy: 0.9219\n",
            "batch number: 200, train loss: 0.2590\n",
            "epoch: 20, train accuracy: 1.0000\n",
            "batch number: 400, train loss: 0.0656\n",
            "epoch: 20, train accuracy: 0.9844\n",
            "batch number: 600, train loss: 0.1158\n",
            "epoch: 20, train accuracy: 0.9219\n",
            "batch number: 800, train loss: 0.2339\n",
            "epoch: 20, validation accuracy: 0.9531\n",
            "batch number: 0, validation loss: 0.2296\n",
            "Model: \"MLP\"\n",
            "_________________________________________________________________\n",
            "Layer (type)                 Output Shape              Param #   \n",
            "=================================================================\n",
            "dense1 (DenseLayer)          multiple                  100480    \n",
            "_________________________________________________________________\n",
            "dense2 (DenseLayer)          multiple                  8256      \n",
            "_________________________________________________________________\n",
            "outputs (DenseLayer)         multiple                  650       \n",
            "_________________________________________________________________\n",
            "my_activation_1 (MyActivatio multiple                  0         \n",
            "=================================================================\n",
            "Total params: 109,386\n",
            "Trainable params: 109,386\n",
            "Non-trainable params: 0\n",
            "_________________________________________________________________\n",
            "None\n",
            "\n",
            "this model takes a total time of: 0: 03: 11.00 to train and evaluate\n"
          ],
          "name": "stdout"
        }
      ]
    },
    {
      "cell_type": "code",
      "metadata": {
        "id": "IYW3iyLbOE7-"
      },
      "source": [
        "class CnnBlock(tf.keras.layers.Layer):\n",
        "  def __init__(self, num_filters, kernels = 3, *args, **kwargs):\n",
        "    super(CnnBlock, self).__init__(self, *args, **kwargs)\n",
        "    self.layer1 = tf.keras.layers.Conv2D(filters = num_filters, \n",
        "                                         padding = 'same',\n",
        "                                         kernel_size = kernels,\n",
        "                                         activation = 'relu', \n",
        "                                         kernel_initializer = 'random_normal')\n",
        "    self.bn = tf.keras.layers.BatchNormalization()\n",
        "  \n",
        "  def call(self, inputs_tensor, training = False):\n",
        "    x = self.layer1(inputs_tensor, training = training)\n",
        "    x = self.bn(x)\n",
        "    return x\n"
      ],
      "execution_count": 93,
      "outputs": []
    },
    {
      "cell_type": "code",
      "metadata": {
        "id": "g5bKrzIMQwMa"
      },
      "source": [
        "class ResBlock(tf.keras.layers.Layer):\n",
        "  def __init__(self, num_filters, *args, **kwargs):\n",
        "    super(ResBlock, self).__init__(*args, **kwargs)\n",
        "    self.block1 = CnnBlock(num_filters = num_filters[0])\n",
        "    self.block2 = CnnBlock(num_filters = num_filters[1])\n",
        "    self.block3 = CnnBlock(num_filters = num_filters[2])\n",
        "    self.maxpool = tf.keras.layers.MaxPooling2D()\n",
        "    self.id_map = tf.keras.layers.Conv2D(filters = num_filters[1], kernel_size = 3, padding = 'same', activation = 'relu')\n",
        "\n",
        "  def call(self, inputs_tensor, training = False):\n",
        "    x = self.block1(inputs_tensor, training = training)\n",
        "    x = self.block2(x, training = training)\n",
        "    x = self.block3(x + self.id_map(inputs_tensor), training = training)\n",
        "    x = self.maxpool(x)\n",
        "    return x"
      ],
      "execution_count": 94,
      "outputs": []
    },
    {
      "cell_type": "code",
      "metadata": {
        "id": "ArykJ8YEcjx7"
      },
      "source": [
        "class MyModel(tf.keras.models.Model):\n",
        "  def __init__(self, classes = 10, *args, **kwargs):\n",
        "    super(MyModel, self).__init__(*args, **kwargs)\n",
        "    self.resblock1 = ResBlock([32,64,128], name = 'resblock1')\n",
        "    self.resblock2 = ResBlock([64,128,256], name = 'resblock2')\n",
        "    self.resblock3 = ResBlock([128,256,512], name = 'resblock3')\n",
        "    self.glb = tf.keras.layers.GlobalAveragePooling2D()\n",
        "    self.dense1 = tf.keras.layers.Dense(units = 512, activation = 'relu')\n",
        "    self.drp = tf.keras.layers.Dropout(rate = 0.5)\n",
        "    self.dense2 = tf.keras.layers.Dense(units = 256, activation = 'relu')\n",
        "    self.out = tf.keras.layers.Dense(units = 10, activation = 'softmax')\n",
        "  \n",
        "  def call(self, inputs_tensor, training = False):\n",
        "    x = self.resblock1(inputs_tensor, training = training)\n",
        "    x = self.resblock2(x, training = training)\n",
        "    x = self.resblock3(x, training = training)\n",
        "    x = self.glb(x)\n",
        "    x = self.dense1(x, training = training)\n",
        "    x = self.dense2(x, training = training)\n",
        "    x = self.out(x, training = training)\n",
        "    return x"
      ],
      "execution_count": 95,
      "outputs": []
    },
    {
      "cell_type": "code",
      "metadata": {
        "id": "yF3aB9caT6bx"
      },
      "source": [
        "model2 = MyModel()"
      ],
      "execution_count": 96,
      "outputs": []
    },
    {
      "cell_type": "code",
      "metadata": {
        "id": "1hm9C83dT-hs"
      },
      "source": [
        "model2.compile(loss = tf.keras.losses.CategoricalCrossentropy(from_logits = False),\n",
        "               optimizer = 'Adam', metrics = ['accuracy'])"
      ],
      "execution_count": 97,
      "outputs": []
    },
    {
      "cell_type": "code",
      "metadata": {
        "id": "9lWFtv38U2pL",
        "colab": {
          "base_uri": "https://localhost:8080/"
        },
        "outputId": "68a38b31-47f3-4ff0-a620-54f326033452"
      },
      "source": [
        "(x_train, y_train), (x_test, y_test) = tf.keras.datasets.cifar10.load_data()\n",
        "x_train, x_test = x_train.astype(np.float32)/255.0, x_test.astype(np.float32)/255.0\n",
        "y_train, y_test = tf.keras.utils.to_categorical(y_train, num_classes = 10), tf.keras.utils.to_categorical(y_test, num_classes = 10)\n",
        "print(f\"x_train shape: {x_train.shape}, x_test shape: {x_test.shape}\\ny_train_shape: {y_train.shape}, y_test shape: {y_test.shape}\")"
      ],
      "execution_count": 98,
      "outputs": [
        {
          "output_type": "stream",
          "text": [
            "x_train shape: (50000, 32, 32, 3), x_test shape: (10000, 32, 32, 3)\n",
            "y_train_shape: (50000, 10), y_test shape: (10000, 10)\n"
          ],
          "name": "stdout"
        }
      ]
    },
    {
      "cell_type": "code",
      "metadata": {
        "id": "7974zPADidKD"
      },
      "source": [
        "BUFFER = len(x_train)\n",
        "BATCH_SIZE = 64\n",
        "train_data = tf.data.Dataset.from_tensor_slices((x_train, y_train))\n",
        "train_data = train_data.shuffle(BUFFER).batch(batch_size = BATCH_SIZE, drop_remainder = True)\n",
        "test_data = tf.data.Dataset.from_tensor_slices((x_test, y_test))\n",
        "test_data = test_data.shuffle(BUFFER).batch(batch_size = BATCH_SIZE, drop_remainder = True)"
      ],
      "execution_count": 100,
      "outputs": []
    },
    {
      "cell_type": "code",
      "metadata": {
        "colab": {
          "base_uri": "https://localhost:8080/"
        },
        "id": "qVKUAzPHVRO7",
        "outputId": "a5cc6685-ce8f-4497-bdbb-4f46ca9769a3"
      },
      "source": [
        "model2.fit(train_data, epochs = 20,verbose = 2)\n",
        "model2.evaluate(test_data, verbose = 2)"
      ],
      "execution_count": 101,
      "outputs": [
        {
          "output_type": "stream",
          "text": [
            "Epoch 1/20\n",
            "781/781 - 25s - loss: 1.1943 - accuracy: 0.5693\n",
            "Epoch 2/20\n",
            "781/781 - 24s - loss: 0.7169 - accuracy: 0.7499\n",
            "Epoch 3/20\n",
            "781/781 - 24s - loss: 0.5197 - accuracy: 0.8207\n",
            "Epoch 4/20\n",
            "781/781 - 24s - loss: 0.3959 - accuracy: 0.8620\n",
            "Epoch 5/20\n",
            "781/781 - 24s - loss: 0.3006 - accuracy: 0.8966\n",
            "Epoch 6/20\n",
            "781/781 - 24s - loss: 0.2268 - accuracy: 0.9221\n",
            "Epoch 7/20\n",
            "781/781 - 24s - loss: 0.1684 - accuracy: 0.9417\n",
            "Epoch 8/20\n",
            "781/781 - 25s - loss: 0.1254 - accuracy: 0.9569\n",
            "Epoch 9/20\n",
            "781/781 - 25s - loss: 0.1065 - accuracy: 0.9625\n",
            "Epoch 10/20\n",
            "781/781 - 25s - loss: 0.0920 - accuracy: 0.9685\n",
            "Epoch 11/20\n",
            "781/781 - 25s - loss: 0.0757 - accuracy: 0.9737\n",
            "Epoch 12/20\n",
            "781/781 - 25s - loss: 0.0701 - accuracy: 0.9762\n",
            "Epoch 13/20\n",
            "781/781 - 25s - loss: 0.0642 - accuracy: 0.9785\n",
            "Epoch 14/20\n",
            "781/781 - 25s - loss: 0.0576 - accuracy: 0.9804\n",
            "Epoch 15/20\n",
            "781/781 - 25s - loss: 0.0530 - accuracy: 0.9819\n",
            "Epoch 16/20\n",
            "781/781 - 25s - loss: 0.0555 - accuracy: 0.9807\n",
            "Epoch 17/20\n",
            "781/781 - 25s - loss: 0.0508 - accuracy: 0.9832\n",
            "Epoch 18/20\n",
            "781/781 - 25s - loss: 0.0441 - accuracy: 0.9860\n",
            "Epoch 19/20\n",
            "781/781 - 25s - loss: 0.0417 - accuracy: 0.9863\n",
            "Epoch 20/20\n",
            "781/781 - 25s - loss: 0.0446 - accuracy: 0.9850\n",
            "156/156 - 2s - loss: 0.8441 - accuracy: 0.8355\n"
          ],
          "name": "stdout"
        },
        {
          "output_type": "execute_result",
          "data": {
            "text/plain": [
              "[0.8441156148910522, 0.8355368375778198]"
            ]
          },
          "metadata": {
            "tags": []
          },
          "execution_count": 101
        }
      ]
    },
    {
      "cell_type": "code",
      "metadata": {
        "id": "Xt5FS8u3nUMK"
      },
      "source": [
        ""
      ],
      "execution_count": null,
      "outputs": []
    }
  ]
}