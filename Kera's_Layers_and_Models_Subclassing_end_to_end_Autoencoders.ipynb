{
  "nbformat": 4,
  "nbformat_minor": 0,
  "metadata": {
    "colab": {
      "name": "Kera's Layers and Models Subclassing_end_to_end_Autoencoders.ipynb",
      "provenance": [],
      "authorship_tag": "ABX9TyObZeLGJg+h1V1AwsBP4NGX",
      "include_colab_link": true
    },
    "kernelspec": {
      "name": "python3",
      "display_name": "Python 3"
    }
  },
  "cells": [
    {
      "cell_type": "markdown",
      "metadata": {
        "id": "view-in-github",
        "colab_type": "text"
      },
      "source": [
        "<a href=\"https://colab.research.google.com/github/martinpius/Behind-Keras-Layers-and-Models/blob/main/Kera's_Layers_and_Models_Subclassing_end_to_end_Autoencoders.ipynb\" target=\"_parent\"><img src=\"https://colab.research.google.com/assets/colab-badge.svg\" alt=\"Open In Colab\"/></a>"
      ]
    },
    {
      "cell_type": "code",
      "metadata": {
        "colab": {
          "base_uri": "https://localhost:8080/",
          "height": 69
        },
        "id": "VvhBjZ8nwIoQ",
        "outputId": "782549c4-9369-4633-dfb2-fed514b16b8b"
      },
      "source": [
        "from google.colab import drive\n",
        "drive.mount(\"/content/drive/\", force_remount = True)\n",
        "try:\n",
        "  COLAB = True\n",
        "  import tensorflow as tf\n",
        "  print(f\"You are running on Colab with tensorflow version: {tf.__version__}\")\n",
        "except Exception as e:\n",
        "  COLAB = False\n",
        "  print(f\"{type(e)}{e}\\n...Please Load Your Drive...\")\n",
        "\n",
        "def time_setter(t):\n",
        "  h = int(t / (60 * 60))\n",
        "  m = int(t % (60 * 60)/ 60)\n",
        "  s = int(t % 60)\n",
        "  return f\"{h}: {m:>02}: {s:>05.2f}\"\n",
        "time_setter(123.8972)"
      ],
      "execution_count": 1,
      "outputs": [
        {
          "output_type": "stream",
          "text": [
            "Mounted at /content/drive/\n",
            "You are running on Colab with tensorflow version: 2.4.0\n"
          ],
          "name": "stdout"
        },
        {
          "output_type": "execute_result",
          "data": {
            "application/vnd.google.colaboratory.intrinsic+json": {
              "type": "string"
            },
            "text/plain": [
              "'0: 02: 03.00'"
            ]
          },
          "metadata": {
            "tags": []
          },
          "execution_count": 1
        }
      ]
    },
    {
      "cell_type": "code",
      "metadata": {
        "id": "nKEKfxkJyhf7"
      },
      "source": [
        "import tensorflow as tf\n",
        "from tensorflow import keras\n",
        "import numpy as np\n"
      ],
      "execution_count": 13,
      "outputs": []
    },
    {
      "cell_type": "code",
      "metadata": {
        "id": "2Q6EYrpAy3h-"
      },
      "source": [
        "#Layer's subclassing with add_loss and add_metrics methods for a binary logistic"
      ],
      "execution_count": 3,
      "outputs": []
    },
    {
      "cell_type": "code",
      "metadata": {
        "id": "l78xCT7mzFnq"
      },
      "source": [
        "class BinLog(keras.layers.Layer):\n",
        "  def __init__(self, name = None):\n",
        "    super(BinLog, self).__init__(name = name)\n",
        "    self.los_fn = keras.losses.BinaryCrossentropy(from_logits=True)\n",
        "    self.metric_fn = keras.metrics.BinaryAccuracy()\n",
        "  \n",
        "  def call(self, y_real, y_hat, sample_weights = None):\n",
        "    my_loss = self.los_fn(y_real, y_hat, sample_weights)\n",
        "    self.add_loss(my_loss)\n",
        "    my_acc = self.metric_fn(y_real, y_hat, sample_weights)\n",
        "    self.add_metric(my_acc, name ='accuracy_bin')\n",
        "    return tf.nn.softmax(y_hat)\n",
        "\n"
      ],
      "execution_count": 4,
      "outputs": []
    },
    {
      "cell_type": "code",
      "metadata": {
        "id": "Xp7bLMFm00SS"
      },
      "source": [
        "#Tracking the above metrics using fit()"
      ],
      "execution_count": 5,
      "outputs": []
    },
    {
      "cell_type": "code",
      "metadata": {
        "id": "m5mxbRWP07DT"
      },
      "source": [
        "inputs = keras.Input(shape = (15,), name = 'inputs')\n",
        "y_real = keras.Input(shape = (10,), name = 'labels')\n",
        "y_hat = keras.layers.Dense(units = 10, activation =  'softmax')(inputs)\n",
        "preds = BinLog(name = 'my_predictions')(y_hat, y_real)\n",
        "model = keras.Model(inputs = [inputs, y_real], outputs = preds)"
      ],
      "execution_count": 6,
      "outputs": []
    },
    {
      "cell_type": "code",
      "metadata": {
        "colab": {
          "base_uri": "https://localhost:8080/",
          "height": 601
        },
        "id": "H4nXNQwR1xD3",
        "outputId": "549d8c82-e33a-44bc-cc66-75f62379f35b"
      },
      "source": [
        "model.summary()\n",
        "keras.utils.plot_model(model = model, to_file = 'binlog.png', show_shapes = True)"
      ],
      "execution_count": 7,
      "outputs": [
        {
          "output_type": "stream",
          "text": [
            "Model: \"model\"\n",
            "__________________________________________________________________________________________________\n",
            "Layer (type)                    Output Shape         Param #     Connected to                     \n",
            "==================================================================================================\n",
            "inputs (InputLayer)             [(None, 15)]         0                                            \n",
            "__________________________________________________________________________________________________\n",
            "dense (Dense)                   (None, 10)           160         inputs[0][0]                     \n",
            "__________________________________________________________________________________________________\n",
            "labels (InputLayer)             [(None, 10)]         0                                            \n",
            "__________________________________________________________________________________________________\n",
            "my_predictions (BinLog)         (None, 10)           2           dense[0][0]                      \n",
            "                                                                 labels[0][0]                     \n",
            "==================================================================================================\n",
            "Total params: 162\n",
            "Trainable params: 160\n",
            "Non-trainable params: 2\n",
            "__________________________________________________________________________________________________\n"
          ],
          "name": "stdout"
        },
        {
          "output_type": "execute_result",
          "data": {
            "image/png": "[encoded data removed]",
            "text/plain": [
              "<IPython.core.display.Image object>"
            ]
          },
          "metadata": {
            "tags": []
          },
          "execution_count": 7
        }
      ]
    },
    {
      "cell_type": "code",
      "metadata": {
        "id": "OiIBxDHe56UU"
      },
      "source": [
        "model.compile(optimizer = 'Adam') #We may train the model without the main loss but main loss inclussion may improve the performance"
      ],
      "execution_count": 8,
      "outputs": []
    },
    {
      "cell_type": "code",
      "metadata": {
        "id": "RzaGCgiX6C-E"
      },
      "source": [
        "dfm = {'inputs':np.random.random(size = (10,15)),\n",
        "       'labels': np.random.random(size = (10,10))}"
      ],
      "execution_count": 9,
      "outputs": []
    },
    {
      "cell_type": "code",
      "metadata": {
        "colab": {
          "base_uri": "https://localhost:8080/"
        },
        "id": "jUEyOwEn6YRv",
        "outputId": "ad4938db-b367-45a9-ce67-46bd8a2f6a9e"
      },
      "source": [
        "model.fit(dfm, epochs = 3)"
      ],
      "execution_count": 10,
      "outputs": [
        {
          "output_type": "stream",
          "text": [
            "Epoch 1/3\n",
            "1/1 [==============================] - 1s 521ms/step - loss: 0.9404 - binary_accuracy: 0.0000e+00\n",
            "Epoch 2/3\n",
            "1/1 [==============================] - 0s 5ms/step - loss: 0.9404 - binary_accuracy: 0.0000e+00\n",
            "Epoch 3/3\n",
            "1/1 [==============================] - 0s 4ms/step - loss: 0.9403 - binary_accuracy: 0.0000e+00\n"
          ],
          "name": "stdout"
        },
        {
          "output_type": "execute_result",
          "data": {
            "text/plain": [
              "<tensorflow.python.keras.callbacks.History at 0x7f403a5c9d30>"
            ]
          },
          "metadata": {
            "tags": []
          },
          "execution_count": 10
        }
      ]
    },
    {
      "cell_type": "code",
      "metadata": {
        "id": "ZxHT5sUY6kRM"
      },
      "source": [
        "\n",
        "#End-to End autoencoder's using layer's and model's subclassing"
      ],
      "execution_count": 11,
      "outputs": []
    },
    {
      "cell_type": "code",
      "metadata": {
        "id": "JiuoL76_7Cx4"
      },
      "source": [
        "#VAE consists of 3 main parts\n",
        "#The encoder: This encoding the data into some representation\n",
        "#The decoder: This decode the data back to its original representation (reconstruction)\n",
        "#Autoencoder: Combining the two above from end to end"
      ],
      "execution_count": 14,
      "outputs": []
    },
    {
      "cell_type": "code",
      "metadata": {
        "id": "JiKiERp16cAy"
      },
      "source": [
        "class SampleGen(keras.layers.Layer):\n",
        "  def call(self,inputs):\n",
        "    '''We sample from a normal distribution to obtain reinputs for the reconstruction of original inputs'''\n",
        "    mu, sigma = inputs\n",
        "    dim1 = tf.shape(mu)[0]\n",
        "    dim2 = tf.shape(mu)[1]\n",
        "    eps = tf.keras.backend.random_normal(shape = (dim1, dim2))\n",
        "    return mu + tf.exp(0.5 * sigma) * eps\n"
      ],
      "execution_count": 121,
      "outputs": []
    },
    {
      "cell_type": "code",
      "metadata": {
        "id": "fmrF6fNX7h5H"
      },
      "source": [
        "#We apply layer subclassing to build an encoder's which take the original inputs to some representation:\n",
        "class Encoder(keras.layers.Layer):\n",
        "  def __init__(self, hidden = 128, intermediate = 64, name = 'encoder', **kwargs):\n",
        "    super(Encoder, self).__init__(name = name, **kwargs)\n",
        "    self.dense1 = keras.layers.Dense(units = intermediate, kernel_initializer = 'random_normal', activation = 'relu')\n",
        "    self.dense_mu = keras.layers.Dense(units = hidden, kernel_initializer = 'random_normal', activation = 'relu')\n",
        "    self.sigma_dense = keras.layers.Dense(units = hidden, kernel_initializer = 'random_normal', activation = 'relu')\n",
        "    self.sample_generator = SampleGen()\n",
        "\n",
        "  def call(self, inputs):\n",
        "    x = self.dense1(inputs)\n",
        "    mu = self.dense_mu(x)\n",
        "    sigma = self.sigma_dense(x)\n",
        "    z = self.sample_generator((mu, sigma))\n",
        "    return mu, sigma, z \n"
      ],
      "execution_count": 122,
      "outputs": []
    },
    {
      "cell_type": "code",
      "metadata": {
        "id": "R14Qfhyt9suG"
      },
      "source": [
        "#We again use layer's subclassing to reconstruct our original data using the normal distributed samples.(Decoder):\n",
        "class Decoder(keras.layers.Layer):\n",
        "  def __init__(self, original_dim, hidden = 128, name = 'decoder', **kwargs):\n",
        "    super(Decoder, self).__init__(name = name, **kwargs)\n",
        "    self.dense1 = tf.keras.layers.Dense(units = hidden, kernel_initializer = 'random_normal', activation = 'relu')\n",
        "    self.out = tf.keras.layers.Dense(units = original_dim, activation = 'sigmoid')\n",
        "  \n",
        "  def call(self, inputs):\n",
        "    x = self.dense1(inputs)\n",
        "    return self.out(x)\n",
        "\n"
      ],
      "execution_count": 123,
      "outputs": []
    },
    {
      "cell_type": "code",
      "metadata": {
        "id": "gtMYFZ6yA4kY"
      },
      "source": [
        "#Using model-subclassing, we write the autoencoder which combines both of the three classes above:\n",
        "class AutoEncoder(keras.Model):\n",
        "  def __init__(self, original_dim, hidden = 128, intermediate = 64, name = 'autoencoder', **kwargs):\n",
        "    super(AutoEncoder, self).__init__(name = name, **kwargs)\n",
        "    self.original_dim = original_dim\n",
        "    self.encoder = Encoder(hidden = hidden, intermediate = intermediate)\n",
        "    self.decoder = Decoder(original_dim = original_dim, hidden = hidden)\n",
        "\n",
        "  def call(self, inputs):\n",
        "    mu, sigma, z = self.encoder(inputs)\n",
        "    dt_rec = self.decoder(z)\n",
        "    kl_loss= -0.5 * tf.reduce_mean(sigma - tf.square(mu) - tf.exp(sigma) + 1)\n",
        "    self.add_loss(kl_loss)\n",
        "    return dt_rec"
      ],
      "execution_count": 124,
      "outputs": []
    },
    {
      "cell_type": "code",
      "metadata": {
        "id": "AkEzszSeDWe4"
      },
      "source": [
        "#Training phrase: We will use the mnist data (reshape into a 2 dimensional shape and use the images as normal data)"
      ],
      "execution_count": 125,
      "outputs": []
    },
    {
      "cell_type": "code",
      "metadata": {
        "id": "PEj0bpsXDxRQ"
      },
      "source": [
        "#Instantiating our model class\n",
        "original_dim = 784 \n",
        "VAE = AutoEncoder(original_dim, 128, 64)"
      ],
      "execution_count": 126,
      "outputs": []
    },
    {
      "cell_type": "code",
      "metadata": {
        "id": "9ZbNxXVMEOwU"
      },
      "source": [
        "#Load the mnist train set"
      ],
      "execution_count": 127,
      "outputs": []
    },
    {
      "cell_type": "code",
      "metadata": {
        "id": "pdGU-zbJEuIb"
      },
      "source": [
        "(x_train,_),(_, _) = tf.keras.datasets.mnist.load_data()"
      ],
      "execution_count": 128,
      "outputs": []
    },
    {
      "cell_type": "code",
      "metadata": {
        "id": "vFrpuLmFE5Mj"
      },
      "source": [
        "x_train = x_train.reshape(60000,784).astype('float32')/255"
      ],
      "execution_count": 129,
      "outputs": []
    },
    {
      "cell_type": "code",
      "metadata": {
        "id": "KT5Im6C3FSqI"
      },
      "source": [
        "#Convert to tensoflow data and splits into batches of size 64 each"
      ],
      "execution_count": 130,
      "outputs": []
    },
    {
      "cell_type": "code",
      "metadata": {
        "id": "NX66kpX0FbaX"
      },
      "source": [
        "train_data = tf.data.Dataset.from_tensor_slices(x_train)\n",
        "train_data = train_data.shuffle(buffer_size = 1024).batch(64)"
      ],
      "execution_count": 131,
      "outputs": []
    },
    {
      "cell_type": "code",
      "metadata": {
        "id": "qFi6SCb1F1ps"
      },
      "source": [
        "optimizer = keras.optimizers.Adam(learning_rate= 1e-3)\n",
        "loss_fn = keras.losses.MeanSquaredError()\n",
        "metric_fn = keras.metrics.Mean()\n"
      ],
      "execution_count": 132,
      "outputs": []
    },
    {
      "cell_type": "code",
      "metadata": {
        "id": "ms2Qwh6JGMlP"
      },
      "source": [
        "epochs = 20"
      ],
      "execution_count": 133,
      "outputs": []
    },
    {
      "cell_type": "code",
      "metadata": {
        "colab": {
          "base_uri": "https://localhost:8080/"
        },
        "id": "GKheuS8hGOx6",
        "outputId": "48106d2f-415d-4bb5-bf02-c9e5a5165cd7"
      },
      "source": [
        "#Iterate over the epochs:\n",
        "for epoch in range(epochs):\n",
        "  print(f\"The beginining of epoch: {epoch}\")\n",
        "\n",
        "  #iterate over the training batches:\n",
        "  for step, x_batch_train, in enumerate(train_data):\n",
        "    with tf.GradientTape() as tape:\n",
        "      rec_data = VAE(x_batch_train)\n",
        "      main_loss = loss_fn(rec_data, x_batch_train)\n",
        "      main_loss+=sum(VAE.losses) #Adding KL loss to the main loss(MSE)\n",
        "    grads = tape.gradient(main_loss, VAE.trainable_weights)\n",
        "    optimizer.apply_gradients(zip(grads, VAE.trainable_weights))\n",
        "\n",
        "    metric_fn(main_loss)\n",
        "    if step % 100 == 0:\n",
        "      print(\"step %d: mean loss = %.4f\" % (step, metric_fn.result()))"
      ],
      "execution_count": 134,
      "outputs": [
        {
          "output_type": "stream",
          "text": [
            "The beginining of epoch: 0\n",
            "step 0: mean loss = 0.2423\n",
            "step 100: mean loss = 0.1072\n",
            "step 200: mean loss = 0.0889\n",
            "step 300: mean loss = 0.0821\n",
            "step 400: mean loss = 0.0788\n",
            "step 500: mean loss = 0.0766\n",
            "step 600: mean loss = 0.0751\n",
            "step 700: mean loss = 0.0740\n",
            "step 800: mean loss = 0.0732\n",
            "step 900: mean loss = 0.0725\n",
            "The beginining of epoch: 1\n",
            "step 0: mean loss = 0.0723\n",
            "step 100: mean loss = 0.0719\n",
            "step 200: mean loss = 0.0716\n",
            "step 300: mean loss = 0.0712\n",
            "step 400: mean loss = 0.0710\n",
            "step 500: mean loss = 0.0708\n",
            "step 600: mean loss = 0.0706\n",
            "step 700: mean loss = 0.0704\n",
            "step 800: mean loss = 0.0702\n",
            "step 900: mean loss = 0.0700\n",
            "The beginining of epoch: 2\n",
            "step 0: mean loss = 0.0699\n",
            "step 100: mean loss = 0.0698\n",
            "step 200: mean loss = 0.0698\n",
            "step 300: mean loss = 0.0697\n",
            "step 400: mean loss = 0.0696\n",
            "step 500: mean loss = 0.0695\n",
            "step 600: mean loss = 0.0694\n",
            "step 700: mean loss = 0.0693\n",
            "step 800: mean loss = 0.0693\n",
            "step 900: mean loss = 0.0692\n",
            "The beginining of epoch: 3\n",
            "step 0: mean loss = 0.0691\n",
            "step 100: mean loss = 0.0691\n",
            "step 200: mean loss = 0.0691\n",
            "step 300: mean loss = 0.0690\n",
            "step 400: mean loss = 0.0690\n",
            "step 500: mean loss = 0.0689\n",
            "step 600: mean loss = 0.0689\n",
            "step 700: mean loss = 0.0688\n",
            "step 800: mean loss = 0.0688\n",
            "step 900: mean loss = 0.0687\n",
            "The beginining of epoch: 4\n",
            "step 0: mean loss = 0.0687\n",
            "step 100: mean loss = 0.0687\n",
            "step 200: mean loss = 0.0687\n",
            "step 300: mean loss = 0.0687\n",
            "step 400: mean loss = 0.0687\n",
            "step 500: mean loss = 0.0686\n",
            "step 600: mean loss = 0.0686\n",
            "step 700: mean loss = 0.0686\n",
            "step 800: mean loss = 0.0685\n",
            "step 900: mean loss = 0.0685\n",
            "The beginining of epoch: 5\n",
            "step 0: mean loss = 0.0685\n",
            "step 100: mean loss = 0.0685\n",
            "step 200: mean loss = 0.0685\n",
            "step 300: mean loss = 0.0684\n",
            "step 400: mean loss = 0.0684\n",
            "step 500: mean loss = 0.0684\n",
            "step 600: mean loss = 0.0684\n",
            "step 700: mean loss = 0.0684\n",
            "step 800: mean loss = 0.0684\n",
            "step 900: mean loss = 0.0683\n",
            "The beginining of epoch: 6\n",
            "step 0: mean loss = 0.0683\n",
            "step 100: mean loss = 0.0683\n",
            "step 200: mean loss = 0.0683\n",
            "step 300: mean loss = 0.0683\n",
            "step 400: mean loss = 0.0683\n",
            "step 500: mean loss = 0.0683\n",
            "step 600: mean loss = 0.0683\n",
            "step 700: mean loss = 0.0682\n",
            "step 800: mean loss = 0.0682\n",
            "step 900: mean loss = 0.0682\n",
            "The beginining of epoch: 7\n",
            "step 0: mean loss = 0.0682\n",
            "step 100: mean loss = 0.0682\n",
            "step 200: mean loss = 0.0682\n",
            "step 300: mean loss = 0.0682\n",
            "step 400: mean loss = 0.0682\n",
            "step 500: mean loss = 0.0682\n",
            "step 600: mean loss = 0.0681\n",
            "step 700: mean loss = 0.0681\n",
            "step 800: mean loss = 0.0681\n",
            "step 900: mean loss = 0.0681\n",
            "The beginining of epoch: 8\n",
            "step 0: mean loss = 0.0681\n",
            "step 100: mean loss = 0.0681\n",
            "step 200: mean loss = 0.0681\n",
            "step 300: mean loss = 0.0681\n",
            "step 400: mean loss = 0.0681\n",
            "step 500: mean loss = 0.0681\n",
            "step 600: mean loss = 0.0681\n",
            "step 700: mean loss = 0.0681\n",
            "step 800: mean loss = 0.0680\n",
            "step 900: mean loss = 0.0680\n",
            "The beginining of epoch: 9\n",
            "step 0: mean loss = 0.0680\n",
            "step 100: mean loss = 0.0680\n",
            "step 200: mean loss = 0.0680\n",
            "step 300: mean loss = 0.0680\n",
            "step 400: mean loss = 0.0680\n",
            "step 500: mean loss = 0.0680\n",
            "step 600: mean loss = 0.0680\n",
            "step 700: mean loss = 0.0680\n",
            "step 800: mean loss = 0.0680\n",
            "step 900: mean loss = 0.0680\n",
            "The beginining of epoch: 10\n",
            "step 0: mean loss = 0.0680\n",
            "step 100: mean loss = 0.0680\n",
            "step 200: mean loss = 0.0680\n",
            "step 300: mean loss = 0.0680\n",
            "step 400: mean loss = 0.0680\n",
            "step 500: mean loss = 0.0680\n",
            "step 600: mean loss = 0.0680\n",
            "step 700: mean loss = 0.0679\n",
            "step 800: mean loss = 0.0679\n",
            "step 900: mean loss = 0.0679\n",
            "The beginining of epoch: 11\n",
            "step 0: mean loss = 0.0679\n",
            "step 100: mean loss = 0.0679\n",
            "step 200: mean loss = 0.0679\n",
            "step 300: mean loss = 0.0679\n",
            "step 400: mean loss = 0.0679\n",
            "step 500: mean loss = 0.0679\n",
            "step 600: mean loss = 0.0679\n",
            "step 700: mean loss = 0.0679\n",
            "step 800: mean loss = 0.0679\n",
            "step 900: mean loss = 0.0679\n",
            "The beginining of epoch: 12\n",
            "step 0: mean loss = 0.0679\n",
            "step 100: mean loss = 0.0679\n",
            "step 200: mean loss = 0.0679\n",
            "step 300: mean loss = 0.0679\n",
            "step 400: mean loss = 0.0679\n",
            "step 500: mean loss = 0.0679\n",
            "step 600: mean loss = 0.0679\n",
            "step 700: mean loss = 0.0679\n",
            "step 800: mean loss = 0.0679\n",
            "step 900: mean loss = 0.0678\n",
            "The beginining of epoch: 13\n",
            "step 0: mean loss = 0.0678\n",
            "step 100: mean loss = 0.0678\n",
            "step 200: mean loss = 0.0678\n",
            "step 300: mean loss = 0.0678\n",
            "step 400: mean loss = 0.0678\n",
            "step 500: mean loss = 0.0678\n",
            "step 600: mean loss = 0.0678\n",
            "step 700: mean loss = 0.0678\n",
            "step 800: mean loss = 0.0678\n",
            "step 900: mean loss = 0.0678\n",
            "The beginining of epoch: 14\n",
            "step 0: mean loss = 0.0678\n",
            "step 100: mean loss = 0.0678\n",
            "step 200: mean loss = 0.0678\n",
            "step 300: mean loss = 0.0678\n",
            "step 400: mean loss = 0.0678\n",
            "step 500: mean loss = 0.0678\n",
            "step 600: mean loss = 0.0678\n",
            "step 700: mean loss = 0.0678\n",
            "step 800: mean loss = 0.0678\n",
            "step 900: mean loss = 0.0678\n",
            "The beginining of epoch: 15\n",
            "step 0: mean loss = 0.0678\n",
            "step 100: mean loss = 0.0678\n",
            "step 200: mean loss = 0.0678\n",
            "step 300: mean loss = 0.0678\n",
            "step 400: mean loss = 0.0678\n",
            "step 500: mean loss = 0.0678\n",
            "step 600: mean loss = 0.0678\n",
            "step 700: mean loss = 0.0678\n",
            "step 800: mean loss = 0.0678\n",
            "step 900: mean loss = 0.0678\n",
            "The beginining of epoch: 16\n",
            "step 0: mean loss = 0.0678\n",
            "step 100: mean loss = 0.0678\n",
            "step 200: mean loss = 0.0678\n",
            "step 300: mean loss = 0.0678\n",
            "step 400: mean loss = 0.0678\n",
            "step 500: mean loss = 0.0678\n",
            "step 600: mean loss = 0.0678\n",
            "step 700: mean loss = 0.0678\n",
            "step 800: mean loss = 0.0678\n",
            "step 900: mean loss = 0.0677\n",
            "The beginining of epoch: 17\n",
            "step 0: mean loss = 0.0677\n",
            "step 100: mean loss = 0.0677\n",
            "step 200: mean loss = 0.0677\n",
            "step 300: mean loss = 0.0677\n",
            "step 400: mean loss = 0.0677\n",
            "step 500: mean loss = 0.0677\n",
            "step 600: mean loss = 0.0677\n",
            "step 700: mean loss = 0.0677\n",
            "step 800: mean loss = 0.0677\n",
            "step 900: mean loss = 0.0677\n",
            "The beginining of epoch: 18\n",
            "step 0: mean loss = 0.0677\n",
            "step 100: mean loss = 0.0677\n",
            "step 200: mean loss = 0.0677\n",
            "step 300: mean loss = 0.0677\n",
            "step 400: mean loss = 0.0677\n",
            "step 500: mean loss = 0.0677\n",
            "step 600: mean loss = 0.0677\n",
            "step 700: mean loss = 0.0677\n",
            "step 800: mean loss = 0.0677\n",
            "step 900: mean loss = 0.0677\n",
            "The beginining of epoch: 19\n",
            "step 0: mean loss = 0.0677\n",
            "step 100: mean loss = 0.0677\n",
            "step 200: mean loss = 0.0677\n",
            "step 300: mean loss = 0.0677\n",
            "step 400: mean loss = 0.0677\n",
            "step 500: mean loss = 0.0677\n",
            "step 600: mean loss = 0.0677\n",
            "step 700: mean loss = 0.0677\n",
            "step 800: mean loss = 0.0677\n",
            "step 900: mean loss = 0.0677\n"
          ],
          "name": "stdout"
        }
      ]
    },
    {
      "cell_type": "code",
      "metadata": {
        "id": "KyHYAlWIIVqb"
      },
      "source": [
        ""
      ],
      "execution_count": null,
      "outputs": []
    }
  ]
}