{
  "nbformat": 4,
  "nbformat_minor": 0,
  "metadata": {
    "colab": {
      "name": "keras layers and models on the background.ipynb",
      "provenance": [],
      "authorship_tag": "ABX9TyMABI2fx6znL0CuXW/4D6cq",
      "include_colab_link": true
    },
    "kernelspec": {
      "name": "python3",
      "display_name": "Python 3"
    }
  },
  "cells": [
    {
      "cell_type": "markdown",
      "metadata": {
        "id": "view-in-github",
        "colab_type": "text"
      },
      "source": [
        "<a href=\"https://colab.research.google.com/github/martinpius/Behind-Keras-Layers-and-Models/blob/main/keras_layers_and_models_on_the_background.ipynb\" target=\"_parent\"><img src=\"https://colab.research.google.com/assets/colab-badge.svg\" alt=\"Open In Colab\"/></a>"
      ]
    },
    {
      "cell_type": "code",
      "metadata": {
        "colab": {
          "base_uri": "https://localhost:8080/"
        },
        "id": "z6J6DSstDs5a",
        "outputId": "341dd41e-0418-4d4d-a1df-6614e1d4b98a"
      },
      "source": [
        "#Setup the colab environment\n",
        "from google.colab import drive\n",
        "try:\n",
        "  drive.mount(\"/content/drive\", force_remount = True)\n",
        "  COLAB = True\n",
        "  import tensorflow as tf\n",
        "  print(f\"You are using google colab with tensorflow version: {tf.__version__}\")\n",
        "except Exception as e:\n",
        "  COLAB = False\n",
        "  print(f\"{type(e)}: {e}\\n----Import your google drive-----\")\n",
        "def timeset(x):\n",
        "  hours = int(x/(60 *60))\n",
        "  minutes = int(x % (60 *60)/60)\n",
        "  seconds = int(x % 60)"
      ],
      "execution_count": 1,
      "outputs": [
        {
          "output_type": "stream",
          "text": [
            "Mounted at /content/drive\n",
            "You are using google colab with tensorflow version: 2.3.1\n"
          ],
          "name": "stdout"
        }
      ]
    },
    {
      "cell_type": "code",
      "metadata": {
        "colab": {
          "base_uri": "https://localhost:8080/"
        },
        "id": "Yupl9MFYFdI2",
        "outputId": "eb393ef1-ceef-439f-8035-8437bd27eaeb"
      },
      "source": [
        "pip install tensorflow --upgrade #Check for new version of tensorflow if available"
      ],
      "execution_count": 2,
      "outputs": [
        {
          "output_type": "stream",
          "text": [
            "Requirement already up-to-date: tensorflow in /usr/local/lib/python3.6/dist-packages (2.3.1)\n",
            "Requirement already satisfied, skipping upgrade: google-pasta>=0.1.8 in /usr/local/lib/python3.6/dist-packages (from tensorflow) (0.2.0)\n",
            "Requirement already satisfied, skipping upgrade: wheel>=0.26 in /usr/local/lib/python3.6/dist-packages (from tensorflow) (0.35.1)\n",
            "Requirement already satisfied, skipping upgrade: astunparse==1.6.3 in /usr/local/lib/python3.6/dist-packages (from tensorflow) (1.6.3)\n",
            "Requirement already satisfied, skipping upgrade: six>=1.12.0 in /usr/local/lib/python3.6/dist-packages (from tensorflow) (1.15.0)\n",
            "Requirement already satisfied, skipping upgrade: numpy<1.19.0,>=1.16.0 in /usr/local/lib/python3.6/dist-packages (from tensorflow) (1.18.5)\n",
            "Requirement already satisfied, skipping upgrade: tensorboard<3,>=2.3.0 in /usr/local/lib/python3.6/dist-packages (from tensorflow) (2.3.0)\n",
            "Requirement already satisfied, skipping upgrade: gast==0.3.3 in /usr/local/lib/python3.6/dist-packages (from tensorflow) (0.3.3)\n",
            "Requirement already satisfied, skipping upgrade: tensorflow-estimator<2.4.0,>=2.3.0 in /usr/local/lib/python3.6/dist-packages (from tensorflow) (2.3.0)\n",
            "Requirement already satisfied, skipping upgrade: termcolor>=1.1.0 in /usr/local/lib/python3.6/dist-packages (from tensorflow) (1.1.0)\n",
            "Requirement already satisfied, skipping upgrade: absl-py>=0.7.0 in /usr/local/lib/python3.6/dist-packages (from tensorflow) (0.10.0)\n",
            "Requirement already satisfied, skipping upgrade: h5py<2.11.0,>=2.10.0 in /usr/local/lib/python3.6/dist-packages (from tensorflow) (2.10.0)\n",
            "Requirement already satisfied, skipping upgrade: keras-preprocessing<1.2,>=1.1.1 in /usr/local/lib/python3.6/dist-packages (from tensorflow) (1.1.2)\n",
            "Requirement already satisfied, skipping upgrade: grpcio>=1.8.6 in /usr/local/lib/python3.6/dist-packages (from tensorflow) (1.33.2)\n",
            "Requirement already satisfied, skipping upgrade: opt-einsum>=2.3.2 in /usr/local/lib/python3.6/dist-packages (from tensorflow) (3.3.0)\n",
            "Requirement already satisfied, skipping upgrade: protobuf>=3.9.2 in /usr/local/lib/python3.6/dist-packages (from tensorflow) (3.12.4)\n",
            "Requirement already satisfied, skipping upgrade: wrapt>=1.11.1 in /usr/local/lib/python3.6/dist-packages (from tensorflow) (1.12.1)\n",
            "Requirement already satisfied, skipping upgrade: tensorboard-plugin-wit>=1.6.0 in /usr/local/lib/python3.6/dist-packages (from tensorboard<3,>=2.3.0->tensorflow) (1.7.0)\n",
            "Requirement already satisfied, skipping upgrade: google-auth-oauthlib<0.5,>=0.4.1 in /usr/local/lib/python3.6/dist-packages (from tensorboard<3,>=2.3.0->tensorflow) (0.4.2)\n",
            "Requirement already satisfied, skipping upgrade: markdown>=2.6.8 in /usr/local/lib/python3.6/dist-packages (from tensorboard<3,>=2.3.0->tensorflow) (3.3.3)\n",
            "Requirement already satisfied, skipping upgrade: google-auth<2,>=1.6.3 in /usr/local/lib/python3.6/dist-packages (from tensorboard<3,>=2.3.0->tensorflow) (1.17.2)\n",
            "Requirement already satisfied, skipping upgrade: requests<3,>=2.21.0 in /usr/local/lib/python3.6/dist-packages (from tensorboard<3,>=2.3.0->tensorflow) (2.23.0)\n",
            "Requirement already satisfied, skipping upgrade: setuptools>=41.0.0 in /usr/local/lib/python3.6/dist-packages (from tensorboard<3,>=2.3.0->tensorflow) (50.3.2)\n",
            "Requirement already satisfied, skipping upgrade: werkzeug>=0.11.15 in /usr/local/lib/python3.6/dist-packages (from tensorboard<3,>=2.3.0->tensorflow) (1.0.1)\n",
            "Requirement already satisfied, skipping upgrade: requests-oauthlib>=0.7.0 in /usr/local/lib/python3.6/dist-packages (from google-auth-oauthlib<0.5,>=0.4.1->tensorboard<3,>=2.3.0->tensorflow) (1.3.0)\n",
            "Requirement already satisfied, skipping upgrade: importlib-metadata; python_version < \"3.8\" in /usr/local/lib/python3.6/dist-packages (from markdown>=2.6.8->tensorboard<3,>=2.3.0->tensorflow) (2.0.0)\n",
            "Requirement already satisfied, skipping upgrade: cachetools<5.0,>=2.0.0 in /usr/local/lib/python3.6/dist-packages (from google-auth<2,>=1.6.3->tensorboard<3,>=2.3.0->tensorflow) (4.1.1)\n",
            "Requirement already satisfied, skipping upgrade: rsa<5,>=3.1.4; python_version >= \"3\" in /usr/local/lib/python3.6/dist-packages (from google-auth<2,>=1.6.3->tensorboard<3,>=2.3.0->tensorflow) (4.6)\n",
            "Requirement already satisfied, skipping upgrade: pyasn1-modules>=0.2.1 in /usr/local/lib/python3.6/dist-packages (from google-auth<2,>=1.6.3->tensorboard<3,>=2.3.0->tensorflow) (0.2.8)\n",
            "Requirement already satisfied, skipping upgrade: idna<3,>=2.5 in /usr/local/lib/python3.6/dist-packages (from requests<3,>=2.21.0->tensorboard<3,>=2.3.0->tensorflow) (2.10)\n",
            "Requirement already satisfied, skipping upgrade: urllib3!=1.25.0,!=1.25.1,<1.26,>=1.21.1 in /usr/local/lib/python3.6/dist-packages (from requests<3,>=2.21.0->tensorboard<3,>=2.3.0->tensorflow) (1.24.3)\n",
            "Requirement already satisfied, skipping upgrade: chardet<4,>=3.0.2 in /usr/local/lib/python3.6/dist-packages (from requests<3,>=2.21.0->tensorboard<3,>=2.3.0->tensorflow) (3.0.4)\n",
            "Requirement already satisfied, skipping upgrade: certifi>=2017.4.17 in /usr/local/lib/python3.6/dist-packages (from requests<3,>=2.21.0->tensorboard<3,>=2.3.0->tensorflow) (2020.6.20)\n",
            "Requirement already satisfied, skipping upgrade: oauthlib>=3.0.0 in /usr/local/lib/python3.6/dist-packages (from requests-oauthlib>=0.7.0->google-auth-oauthlib<0.5,>=0.4.1->tensorboard<3,>=2.3.0->tensorflow) (3.1.0)\n",
            "Requirement already satisfied, skipping upgrade: zipp>=0.5 in /usr/local/lib/python3.6/dist-packages (from importlib-metadata; python_version < \"3.8\"->markdown>=2.6.8->tensorboard<3,>=2.3.0->tensorflow) (3.4.0)\n",
            "Requirement already satisfied, skipping upgrade: pyasn1>=0.1.3 in /usr/local/lib/python3.6/dist-packages (from rsa<5,>=3.1.4; python_version >= \"3\"->google-auth<2,>=1.6.3->tensorboard<3,>=2.3.0->tensorflow) (0.4.8)\n"
          ],
          "name": "stdout"
        }
      ]
    },
    {
      "cell_type": "code",
      "metadata": {
        "colab": {
          "base_uri": "https://localhost:8080/"
        },
        "id": "l3WWcBf1GApz",
        "outputId": "3d054db9-07cc-47e5-ba22-9ceca14b6ec2"
      },
      "source": [
        "import tensorflow as tf\n",
        "print(f\"Tensorflow Version: {tf.__version__}\")"
      ],
      "execution_count": 3,
      "outputs": [
        {
          "output_type": "stream",
          "text": [
            "Tensorflow Version: 2.3.1\n"
          ],
          "name": "stdout"
        }
      ]
    },
    {
      "cell_type": "code",
      "metadata": {
        "id": "V6vdte2XGkeU"
      },
      "source": [
        "from tensorflow import keras\n",
        "import numpy as np\n",
        "import matplotlib.pyplot as plt\n",
        "import timeit\n",
        "from datetime import datetime\n",
        "plt.style.use(\"fivethirtyeight\")\n"
      ],
      "execution_count": 4,
      "outputs": []
    },
    {
      "cell_type": "code",
      "metadata": {
        "id": "G_gxAJBvGrln"
      },
      "source": [
        "#We can easily convert tensorflow layers into keras layers by swtiching the argument (tf.Module with keras.layers.Layer)\n",
        "#We also have to use call() inplace of __call__()..everything else remain similar"
      ],
      "execution_count": 5,
      "outputs": []
    },
    {
      "cell_type": "code",
      "metadata": {
        "colab": {
          "base_uri": "https://localhost:8080/",
          "height": 34
        },
        "id": "AUaV4OOwITZl",
        "outputId": "03de9139-83e0-44f7-a338-1147a3d8acd8"
      },
      "source": [
        "#A simple keras dense layer\n",
        "class KLayer(keras.layers.Layer):\n",
        "  def __init__(self, name = None):\n",
        "    super(KLayer, self).__init__(name = name)\n",
        "    self.dense_1 = keras.layers.Dense(units = 3, activation = 'relu')\n",
        "  def call(self, inputs):\n",
        "    out = self.dense_1(inputs)\n",
        "    return out\n",
        "klayer = KLayer(name = 'Test')\n",
        "display(klayer(tf.constant([[2.,3.,2.]])))"
      ],
      "execution_count": 6,
      "outputs": [
        {
          "output_type": "display_data",
          "data": {
            "text/plain": [
              "<tf.Tensor: shape=(1, 3), dtype=float32, numpy=array([[0.       , 3.3161464, 0.       ]], dtype=float32)>"
            ]
          },
          "metadata": {
            "tags": []
          }
        }
      ]
    },
    {
      "cell_type": "code",
      "metadata": {
        "colab": {
          "base_uri": "https://localhost:8080/"
        },
        "id": "sPrVk9pzJx7Z",
        "outputId": "744087f0-618c-4abc-8b29-ade955f46287"
      },
      "source": [
        "#Altenative1 from scratch **Using add-weight\n",
        "class KLayer1(keras.layers.Layer):\n",
        "  def __init__(self, units = 32, input_shape = 28, name = None):\n",
        "    super(KLayer1, self).__init__(name = name)\n",
        "    self.w = self.add_weight(shape = (input_shape, units), initializer = 'random_normal', trainable = True)\n",
        "    self.b = self.add_weight(shape = (units, ),initializer = 'zeros', trainable = True)\n",
        "  def call(self, inputs):\n",
        "    return tf.matmul(inputs, self.w) + self.b\n",
        "\n",
        "\n",
        "x = tf.ones(shape = (10,3))\n",
        "klayer1 = KLayer1(units = 3, input_shape = 3, name = 'test')\n",
        "klayer(x)"
      ],
      "execution_count": 7,
      "outputs": [
        {
          "output_type": "execute_result",
          "data": {
            "text/plain": [
              "<tf.Tensor: shape=(10, 3), dtype=float32, numpy=\n",
              "array([[0.      , 1.268542, 0.      ],\n",
              "       [0.      , 1.268542, 0.      ],\n",
              "       [0.      , 1.268542, 0.      ],\n",
              "       [0.      , 1.268542, 0.      ],\n",
              "       [0.      , 1.268542, 0.      ],\n",
              "       [0.      , 1.268542, 0.      ],\n",
              "       [0.      , 1.268542, 0.      ],\n",
              "       [0.      , 1.268542, 0.      ],\n",
              "       [0.      , 1.268542, 0.      ],\n",
              "       [0.      , 1.268542, 0.      ]], dtype=float32)>"
            ]
          },
          "metadata": {
            "tags": []
          },
          "execution_count": 7
        }
      ]
    },
    {
      "cell_type": "code",
      "metadata": {
        "colab": {
          "base_uri": "https://localhost:8080/",
          "height": 85
        },
        "id": "H9nYx7MKTdOi",
        "outputId": "df2e1273-d0f0-47d0-a8ba-e330313b22a7"
      },
      "source": [
        "#Altenative2 from scratch using tf.Variable to add weights\n",
        "class KLayer2(keras.layers.Layer):\n",
        "  def __init__(self, units = 32, input_shape = 128, **kwargs):\n",
        "    super(KLayer2, self).__init__(**kwargs)\n",
        "    self.w = tf.Variable(initial_value = tf.random.normal(shape = (input_shape, units)),trainable = True, name  = 'w')\n",
        "    self.b = tf.Variable(initial_value = tf.zeros(shape = (units,)), trainable = True, name = 'b')\n",
        "\n",
        "  def call(self, inputs):\n",
        "    out = tf.matmul(inputs, self.w) + self.b\n",
        "    return tf.nn.relu(out)\n",
        "\n",
        "klayer2 = KLayer2(units = 3, input_shape = 3, name = 'test')\n",
        "display(klayer2(tf.ones(shape = (3,3))))\n"
      ],
      "execution_count": 8,
      "outputs": [
        {
          "output_type": "display_data",
          "data": {
            "text/plain": [
              "<tf.Tensor: shape=(3, 3), dtype=float32, numpy=\n",
              "array([[4.803815 , 2.6120744, 0.       ],\n",
              "       [4.803815 , 2.6120744, 0.       ],\n",
              "       [4.803815 , 2.6120744, 0.       ]], dtype=float32)>"
            ]
          },
          "metadata": {
            "tags": []
          }
        }
      ]
    },
    {
      "cell_type": "code",
      "metadata": {
        "colab": {
          "base_uri": "https://localhost:8080/",
          "height": 85
        },
        "id": "D5I2hqWOWeVs",
        "outputId": "719d03d1-f199-4eb8-983e-eb6e9efa3f2c"
      },
      "source": [
        "#Difered the input shape in keras layer to add it later on the process\n",
        "class KDiffer(keras.layers.Layer):\n",
        "  def __init__(self, units, **kwargs):\n",
        "    super(KDiffer, self).__init__(**kwargs)\n",
        "    self.units = units\n",
        "  def build(self, input_shape):\n",
        "    self.w = tf.Variable(initial_value = tf.random.normal(shape = (input_shape[-1],self.units)),trainable = True, name = 'w')\n",
        "    self.b = tf.Variable(initial_value = tf.zeros(shape = (self.units,)), trainable = True, name = 'b')\n",
        "  def call(self, inputs):\n",
        "    out = tf.matmul(inputs, self.w) + self.w\n",
        "    return tf.nn.relu(out)\n",
        "\n",
        "kdiffer = KDiffer(units = 3, name = 'test')\n",
        "display(kdiffer(tf.ones(shape = (3,3))))"
      ],
      "execution_count": 9,
      "outputs": [
        {
          "output_type": "display_data",
          "data": {
            "text/plain": [
              "<tf.Tensor: shape=(3, 3), dtype=float32, numpy=\n",
              "array([[0.        , 0.5085881 , 0.        ],\n",
              "       [0.        , 0.23611134, 0.        ],\n",
              "       [0.        , 0.        , 0.        ]], dtype=float32)>"
            ]
          },
          "metadata": {
            "tags": []
          }
        }
      ]
    },
    {
      "cell_type": "code",
      "metadata": {
        "id": "k_oKOK2yZOie"
      },
      "source": [
        "#Keras model is a version of keras layer with multiple additional functionality. Its literally\n",
        "#inherit everything from keras layer.\n"
      ],
      "execution_count": 10,
      "outputs": []
    },
    {
      "cell_type": "code",
      "metadata": {
        "id": "O0Iiql7ObClC"
      },
      "source": [
        "#We can produce a simple keras sequential model from the above defined layer\n",
        "class KModel(keras.Model):\n",
        "  def __init__(self, **kwargs):\n",
        "    super(KModel, self).__init__(**kwargs)\n",
        "    self.l1 = KDiffer(units = 128, name = 'layer_1')\n",
        "    self.l2 = KDiffer(units = 64, name = 'layer_2')\n",
        "    \n",
        "\n",
        "  def call(self, inputs):\n",
        "    inputs = self.l1(inputs)\n",
        "    inputs = self.l2(inputs)\n",
        "    return tf.nn.softmax(inputs)\n",
        "model_test = KModel(name = 'Sequential_test')\n",
        "x = tf.ones(shape = (128,128))"
      ],
      "execution_count": 51,
      "outputs": []
    },
    {
      "cell_type": "code",
      "metadata": {
        "colab": {
          "base_uri": "https://localhost:8080/"
        },
        "id": "-tffXnxGdKA_",
        "outputId": "d0c15861-d6a6-4ad1-a180-fda258bf34b9"
      },
      "source": [
        "model_test(x)"
      ],
      "execution_count": 52,
      "outputs": [
        {
          "output_type": "execute_result",
          "data": {
            "text/plain": [
              "<tf.Tensor: shape=(128, 64), dtype=float32, numpy=\n",
              "array([[0., 0., 0., ..., 0., 0., 0.],\n",
              "       [0., 0., 0., ..., 0., 0., 0.],\n",
              "       [0., 0., 0., ..., 0., 0., 0.],\n",
              "       ...,\n",
              "       [0., 0., 0., ..., 0., 0., 0.],\n",
              "       [0., 0., 0., ..., 0., 0., 0.],\n",
              "       [0., 0., 0., ..., 0., 0., 0.]], dtype=float32)>"
            ]
          },
          "metadata": {
            "tags": []
          },
          "execution_count": 52
        }
      ]
    },
    {
      "cell_type": "code",
      "metadata": {
        "id": "RPGz94SldTsC"
      },
      "source": [
        "#Get the same keras model using functional API (But we have already create our customized layers)\n",
        "inputs = keras.Input(shape = [32,])\n",
        "x = KDiffer(units = 128, name = 'layer_1')(inputs)\n",
        "x = KDiffer(units = 64, name = 'layer_2')(inputs)\n",
        "out = tf.nn.softmax(x)\n",
        "model = keras.Model(inputs = inputs,outputs = out)"
      ],
      "execution_count": 72,
      "outputs": []
    },
    {
      "cell_type": "code",
      "metadata": {
        "colab": {
          "base_uri": "https://localhost:8080/"
        },
        "id": "9xoZu8hGiw3_",
        "outputId": "7326815a-19f4-4b11-a24d-726237b9dcf1"
      },
      "source": [
        "model.summary()"
      ],
      "execution_count": 73,
      "outputs": [
        {
          "output_type": "stream",
          "text": [
            "Model: \"functional_7\"\n",
            "_________________________________________________________________\n",
            "Layer (type)                 Output Shape              Param #   \n",
            "=================================================================\n",
            "input_4 (InputLayer)         [(None, 32)]              0         \n",
            "_________________________________________________________________\n",
            "layer_2 (KDiffer)            (32, 64)                  2112      \n",
            "_________________________________________________________________\n",
            "tf_op_layer_Softmax_3 (Tenso [(32, 64)]                0         \n",
            "=================================================================\n",
            "Total params: 2,112\n",
            "Trainable params: 2,112\n",
            "Non-trainable params: 0\n",
            "_________________________________________________________________\n"
          ],
          "name": "stdout"
        }
      ]
    },
    {
      "cell_type": "code",
      "metadata": {
        "colab": {
          "base_uri": "https://localhost:8080/"
        },
        "id": "aJBG9Fnli0Dh",
        "outputId": "06c6c914-f2db-4c6c-fa6f-cb2b1ddc0ad8"
      },
      "source": [
        "model(tf.ones(shape = [32,32], dtype= tf.float32))"
      ],
      "execution_count": 74,
      "outputs": [
        {
          "output_type": "execute_result",
          "data": {
            "text/plain": [
              "<tf.Tensor: shape=(32, 64), dtype=float32, numpy=\n",
              "array([[8.24821313e-08, 8.24821313e-08, 8.24821313e-08, ...,\n",
              "        8.24821313e-08, 8.24821313e-08, 8.24821313e-08],\n",
              "       [3.39552351e-08, 3.39552351e-08, 3.39552351e-08, ...,\n",
              "        3.39552351e-08, 3.39552351e-08, 3.39552351e-08],\n",
              "       [6.83391077e-09, 6.83391077e-09, 6.83391077e-09, ...,\n",
              "        6.83391077e-09, 6.83391077e-09, 6.83391077e-09],\n",
              "       ...,\n",
              "       [4.81592188e-08, 4.81592188e-08, 4.81592188e-08, ...,\n",
              "        4.81592188e-08, 4.81592188e-08, 4.81592188e-08],\n",
              "       [1.49197064e-07, 1.49197064e-07, 1.49197064e-07, ...,\n",
              "        1.49197064e-07, 1.49197064e-07, 1.49197064e-07],\n",
              "       [1.04471056e-07, 1.04471056e-07, 1.04471056e-07, ...,\n",
              "        1.04471056e-07, 1.04471056e-07, 1.04471056e-07]], dtype=float32)>"
            ]
          },
          "metadata": {
            "tags": []
          },
          "execution_count": 74
        }
      ]
    },
    {
      "cell_type": "code",
      "metadata": {
        "colab": {
          "base_uri": "https://localhost:8080/"
        },
        "id": "AEtKCRL-jVJJ",
        "outputId": "e3aecb2d-1bfa-40d2-ebe6-b697db53fead"
      },
      "source": [
        "#Save and re-load keras models \n",
        "model.save('mysample_model')"
      ],
      "execution_count": 75,
      "outputs": [
        {
          "output_type": "stream",
          "text": [
            "WARNING:tensorflow:From /usr/local/lib/python3.6/dist-packages/tensorflow/python/training/tracking/tracking.py:111: Model.state_updates (from tensorflow.python.keras.engine.training) is deprecated and will be removed in a future version.\n",
            "Instructions for updating:\n",
            "This property should not be used in TensorFlow 2.0, as updates are applied automatically.\n",
            "WARNING:tensorflow:From /usr/local/lib/python3.6/dist-packages/tensorflow/python/training/tracking/tracking.py:111: Layer.updates (from tensorflow.python.keras.engine.base_layer) is deprecated and will be removed in a future version.\n",
            "Instructions for updating:\n",
            "This property should not be used in TensorFlow 2.0, as updates are applied automatically.\n",
            "INFO:tensorflow:Assets written to: mysample_model/assets\n"
          ],
          "name": "stdout"
        }
      ]
    },
    {
      "cell_type": "code",
      "metadata": {
        "colab": {
          "base_uri": "https://localhost:8080/"
        },
        "id": "vwt8K-FkldEV",
        "outputId": "eb0cd677-9e30-477b-8ee7-431e8bd246af"
      },
      "source": [
        "new_model = keras.models.load_model('mysample_model')"
      ],
      "execution_count": 77,
      "outputs": [
        {
          "output_type": "stream",
          "text": [
            "WARNING:tensorflow:No training configuration found in save file, so the model was *not* compiled. Compile it manually.\n"
          ],
          "name": "stdout"
        }
      ]
    },
    {
      "cell_type": "code",
      "metadata": {
        "colab": {
          "base_uri": "https://localhost:8080/"
        },
        "id": "wd9LFr43loEN",
        "outputId": "bb0718e3-ad19-46ed-9e65-4128f4feb74d"
      },
      "source": [
        "#Test if it works as expected\n",
        "new_model(tf.ones(shape = (32,32)))"
      ],
      "execution_count": 79,
      "outputs": [
        {
          "output_type": "execute_result",
          "data": {
            "text/plain": [
              "<tf.Tensor: shape=(32, 64), dtype=float32, numpy=\n",
              "array([[8.24821313e-08, 8.24821313e-08, 8.24821313e-08, ...,\n",
              "        8.24821313e-08, 8.24821313e-08, 8.24821313e-08],\n",
              "       [3.39552351e-08, 3.39552351e-08, 3.39552351e-08, ...,\n",
              "        3.39552351e-08, 3.39552351e-08, 3.39552351e-08],\n",
              "       [6.83391077e-09, 6.83391077e-09, 6.83391077e-09, ...,\n",
              "        6.83391077e-09, 6.83391077e-09, 6.83391077e-09],\n",
              "       ...,\n",
              "       [4.81592188e-08, 4.81592188e-08, 4.81592188e-08, ...,\n",
              "        4.81592188e-08, 4.81592188e-08, 4.81592188e-08],\n",
              "       [1.49197064e-07, 1.49197064e-07, 1.49197064e-07, ...,\n",
              "        1.49197064e-07, 1.49197064e-07, 1.49197064e-07],\n",
              "       [1.04471056e-07, 1.04471056e-07, 1.04471056e-07, ...,\n",
              "        1.04471056e-07, 1.04471056e-07, 1.04471056e-07]], dtype=float32)>"
            ]
          },
          "metadata": {
            "tags": []
          },
          "execution_count": 79
        }
      ]
    },
    {
      "cell_type": "code",
      "metadata": {
        "id": "faQnwHZhl8VS"
      },
      "source": [
        ""
      ],
      "execution_count": null,
      "outputs": []
    }
  ]
}