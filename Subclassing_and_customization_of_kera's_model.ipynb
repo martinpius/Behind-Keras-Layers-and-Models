{
  "nbformat": 4,
  "nbformat_minor": 0,
  "metadata": {
    "colab": {
      "name": "Subclassing and customization of kera's model.ipynb",
      "provenance": [],
      "authorship_tag": "ABX9TyPUf+cUE2BADD8jMWVWBgzV",
      "include_colab_link": true
    },
    "kernelspec": {
      "name": "python3",
      "display_name": "Python 3"
    }
  },
  "cells": [
    {
      "cell_type": "markdown",
      "metadata": {
        "id": "view-in-github",
        "colab_type": "text"
      },
      "source": [
        "<a href=\"https://colab.research.google.com/github/martinpius/Behind-Keras-Layers-and-Models/blob/main/Subclassing_and_customization_of_kera's_model.ipynb\" target=\"_parent\"><img src=\"https://colab.research.google.com/assets/colab-badge.svg\" alt=\"Open In Colab\"/></a>"
      ]
    },
    {
      "cell_type": "code",
      "metadata": {
        "colab": {
          "base_uri": "https://localhost:8080/"
        },
        "id": "fndJcVY4PY7Z",
        "outputId": "ebbb234e-57a3-4b2b-8fcf-2d2899508d7c"
      },
      "source": [
        "from google.colab import drive\n",
        "try:\n",
        "  drive.mount(\"/content/drive\", force_remount = True)\n",
        "  COLAB = True\n",
        "  import tensorflow as tf\n",
        "  print(f\"You are using Colab with tensorflow version {tf.__version__}\")\n",
        "except Exception as e:\n",
        "  COLAB = False\n",
        "  print(f\"{type(e)}: {e}\\n....Please Load Your Drive....\")"
      ],
      "execution_count": 66,
      "outputs": [
        {
          "output_type": "stream",
          "text": [
            "Mounted at /content/drive\n",
            "You are using Colab with tensorflow version 2.3.0\n"
          ],
          "name": "stdout"
        }
      ]
    },
    {
      "cell_type": "code",
      "metadata": {
        "id": "iOcGMOawQVuA"
      },
      "source": [
        "import tensorflow as tf\n",
        "from tensorflow import keras\n",
        "import numpy as np"
      ],
      "execution_count": 67,
      "outputs": []
    },
    {
      "cell_type": "code",
      "metadata": {
        "id": "Zk4xekuLQt6s"
      },
      "source": [
        "#Adding customized regularizer to a keras model. This will finaly added directly to the main\n",
        "#loss during training\n",
        "#We may train our model directly using regularizer as the only loss function"
      ],
      "execution_count": 68,
      "outputs": []
    },
    {
      "cell_type": "code",
      "metadata": {
        "id": "wW-Bo-tgRK0R"
      },
      "source": [
        "#Consider a simple example of a regularizer which adjust the input/weights at any layer"
      ],
      "execution_count": 69,
      "outputs": []
    },
    {
      "cell_type": "code",
      "metadata": {
        "id": "ALn5J8PrRZz8"
      },
      "source": [
        "class MyREgularizer(keras.layers.Layer):\n",
        "  '''This class will adjust the weights/inputs at any layer desired'''\n",
        "  def call(self, inputs):\n",
        "    self.add_loss(tf.reduce_sum(inputs) * 0.1)\n",
        "    return inputs"
      ],
      "execution_count": 70,
      "outputs": []
    },
    {
      "cell_type": "code",
      "metadata": {
        "id": "-7_W6ZpERsC8"
      },
      "source": [
        "#Consider a simple MLP for mnist dataset\n",
        "inputs = keras.Input(shape = (784,), name = 'mnist')\n",
        "x = keras.layers.Dense(units = 64, kernel_initializer = 'random_normal', activation = 'relu')(inputs)\n",
        "x = MyREgularizer()(x)\n",
        "x = keras.layers.Dense(units = 64, kernel_initializer = 'random_normal', activation = 'relu')(x)\n",
        "outputs = keras.layers.Dense(units = 10, activation = 'softmax')(x)"
      ],
      "execution_count": 71,
      "outputs": []
    },
    {
      "cell_type": "code",
      "metadata": {
        "id": "QPcjkVaETMxj"
      },
      "source": [
        "model = keras.Model(inputs = inputs, outputs = outputs, name = 'mlp_with_regularizer')"
      ],
      "execution_count": 72,
      "outputs": []
    },
    {
      "cell_type": "code",
      "metadata": {
        "colab": {
          "base_uri": "https://localhost:8080/"
        },
        "id": "X5YyaYwdTexP",
        "outputId": "f403cd7c-e872-4a7c-b4c3-b366a49a6371"
      },
      "source": [
        "model.summary()"
      ],
      "execution_count": 73,
      "outputs": [
        {
          "output_type": "stream",
          "text": [
            "Model: \"mlp_with_regularizer\"\n",
            "_________________________________________________________________\n",
            "Layer (type)                 Output Shape              Param #   \n",
            "=================================================================\n",
            "mnist (InputLayer)           [(None, 784)]             0         \n",
            "_________________________________________________________________\n",
            "dense_7 (Dense)              (None, 64)                50240     \n",
            "_________________________________________________________________\n",
            "my_r_egularizer_1 (MyREgular (None, 64)                0         \n",
            "_________________________________________________________________\n",
            "dense_8 (Dense)              (None, 64)                4160      \n",
            "_________________________________________________________________\n",
            "dense_9 (Dense)              (None, 10)                650       \n",
            "=================================================================\n",
            "Total params: 55,050\n",
            "Trainable params: 55,050\n",
            "Non-trainable params: 0\n",
            "_________________________________________________________________\n"
          ],
          "name": "stdout"
        }
      ]
    },
    {
      "cell_type": "code",
      "metadata": {
        "id": "DUdjV8TgUMoq"
      },
      "source": [
        "#Load mnist dataset from keras\n",
        "(x_train, y_train),(x_test,y_test) = tf.keras.datasets.mnist.load_data()"
      ],
      "execution_count": 74,
      "outputs": []
    },
    {
      "cell_type": "code",
      "metadata": {
        "colab": {
          "base_uri": "https://localhost:8080/"
        },
        "id": "6oWRoytYkdlr",
        "outputId": "d3c3af67-c20a-4ad3-f06b-3867ed1c32ef"
      },
      "source": [
        "#print out the shape\n",
        "print(f\"x_train_shape: {x_train.shape}, x_test.shape: {x_test.shape}\\ny_train.shape : {y_train.shape}, y_test.shape: {y_test.shape}\")"
      ],
      "execution_count": 75,
      "outputs": [
        {
          "output_type": "stream",
          "text": [
            "x_train_shape: (60000, 28, 28), x_test.shape: (10000, 28, 28)\n",
            "y_train.shape : (60000,), y_test.shape: (10000,)\n"
          ],
          "name": "stdout"
        }
      ]
    },
    {
      "cell_type": "code",
      "metadata": {
        "id": "ywszfPhyk9TB"
      },
      "source": [
        "#Reshape and preprocess (rescale into values between 0-1)\n",
        "x_train, x_test = x_train.reshape(60000, 784).astype('float32')/255.0, x_test.reshape(10000, 784).astype('float32')/255.0"
      ],
      "execution_count": 76,
      "outputs": []
    },
    {
      "cell_type": "code",
      "metadata": {
        "id": "FZ577OZLlmaV"
      },
      "source": [
        "#Convert the label to one-hot vector (we will use a customized loss function)\n",
        "y_train, y_test = tf.one_hot(y_train, depth = 10), tf.one_hot(y_test, depth = 10)"
      ],
      "execution_count": 77,
      "outputs": []
    },
    {
      "cell_type": "code",
      "metadata": {
        "id": "tLnkOnIYmsG9"
      },
      "source": [
        "#Customized loss\n",
        "class MyLoss(keras.losses.Loss):\n",
        "  def __init__(self, name = 'mse',**kwargs):\n",
        "    super(MyLoss, self).__init__(name = name, **kwargs)\n",
        "  def call(self, y_real, y_hat):\n",
        "    loss = tf.math.reduce_mean(tf.square(y_real - y_hat))\n",
        "    return loss\n"
      ],
      "execution_count": 78,
      "outputs": []
    },
    {
      "cell_type": "code",
      "metadata": {
        "id": "mdrXuzXfoodU"
      },
      "source": [
        "model.compile(loss = MyLoss(), optimizer = 'Adam') #We can compile our model using our custome loss"
      ],
      "execution_count": 79,
      "outputs": []
    },
    {
      "cell_type": "code",
      "metadata": {
        "colab": {
          "base_uri": "https://localhost:8080/"
        },
        "id": "oyO1s1DTqiXe",
        "outputId": "82b49301-71c5-452d-8e92-a5d927b5d520"
      },
      "source": [
        "model.fit(x_train, y_train, validation_data= (x_test, y_test), epochs = 2, verbose = 2)"
      ],
      "execution_count": 80,
      "outputs": [
        {
          "output_type": "stream",
          "text": [
            "Epoch 1/2\n",
            "1875/1875 - 3s - loss: 0.1651 - val_loss: 0.0901\n",
            "Epoch 2/2\n",
            "1875/1875 - 3s - loss: 0.0900 - val_loss: 0.0901\n"
          ],
          "name": "stdout"
        },
        {
          "output_type": "execute_result",
          "data": {
            "text/plain": [
              "<tensorflow.python.keras.callbacks.History at 0x7f9016dde828>"
            ]
          },
          "metadata": {
            "tags": []
          },
          "execution_count": 80
        }
      ]
    },
    {
      "cell_type": "code",
      "metadata": {
        "id": "U1O6SA-Nr7Fp"
      },
      "source": [
        "#Adding the loss function through add_loss prevent the need to add a loss argument during compilation\n",
        "#Consider the following binary classification problem (logistic loss)"
      ],
      "execution_count": 81,
      "outputs": []
    },
    {
      "cell_type": "code",
      "metadata": {
        "id": "wXZgjW3B5AYl"
      },
      "source": [
        "class MyLogistic(keras.layers.Layer):\n",
        "  def __init__(self, name = None):\n",
        "    super(MyLogistic, self).__init__(name = name)\n",
        "    self.loss_fn = keras.losses.BinaryCrossentropy(from_logits = True)\n",
        "    self.metric_fn = keras.metrics.BinaryAccuracy(name = 'accuracy')\n",
        "\n",
        "  def call(self, y_real, y_hat, sample_weights = None):\n",
        "    loss = self.loss_fn(y_real,y_hat, sample_weights) #get the loss\n",
        "    metric = self.metric_fn(y_real, y_hat, sample_weights)#get the metrics\n",
        "    self.add_loss(loss)# get the loss\n",
        "    self.add_metric(metric)\n",
        "    return tf.nn.softmax(y_hat)\n"
      ],
      "execution_count": 82,
      "outputs": []
    },
    {
      "cell_type": "code",
      "metadata": {
        "id": "eGj2-_tc64GL"
      },
      "source": [
        "#Using the above loss function we can train a simple MLP as follows\n",
        "inputs = keras.Input(shape = (10,), name = 'inputs')\n",
        "y_real = keras.Input(shape = (5,), name = 'labels')\n",
        "y_hat = keras.layers.Dense(units = 5)(y_real)\n",
        "preds = MyLogistic(name = 'predictions')(y_real, y_hat)\n"
      ],
      "execution_count": 83,
      "outputs": []
    },
    {
      "cell_type": "code",
      "metadata": {
        "id": "EF3Xk1ZKAtjI"
      },
      "source": [
        "model = keras.Model(inputs = [inputs, y_real], outputs = preds)"
      ],
      "execution_count": 84,
      "outputs": []
    },
    {
      "cell_type": "code",
      "metadata": {
        "colab": {
          "base_uri": "https://localhost:8080/"
        },
        "id": "I31718T5BCJN",
        "outputId": "58dfbc04-dac4-48fc-f9dc-4147573910a9"
      },
      "source": [
        "model.summary()"
      ],
      "execution_count": 85,
      "outputs": [
        {
          "output_type": "stream",
          "text": [
            "Model: \"functional_5\"\n",
            "__________________________________________________________________________________________________\n",
            "Layer (type)                    Output Shape         Param #     Connected to                     \n",
            "==================================================================================================\n",
            "labels (InputLayer)             [(None, 5)]          0                                            \n",
            "__________________________________________________________________________________________________\n",
            "dense_10 (Dense)                (None, 5)            30          labels[0][0]                     \n",
            "__________________________________________________________________________________________________\n",
            "inputs (InputLayer)             [(None, 10)]         0                                            \n",
            "__________________________________________________________________________________________________\n",
            "predictions (MyLogistic)        (None, 5)            2           labels[0][0]                     \n",
            "                                                                 dense_10[0][0]                   \n",
            "==================================================================================================\n",
            "Total params: 32\n",
            "Trainable params: 30\n",
            "Non-trainable params: 2\n",
            "__________________________________________________________________________________________________\n"
          ],
          "name": "stdout"
        }
      ]
    },
    {
      "cell_type": "code",
      "metadata": {
        "id": "V9XvKZF7BIGy"
      },
      "source": [
        "model.compile(optimizer = 'Adam')"
      ],
      "execution_count": 86,
      "outputs": []
    },
    {
      "cell_type": "code",
      "metadata": {
        "id": "6MPUmsY8BNse"
      },
      "source": [
        "#Create some toy data to try the model"
      ],
      "execution_count": 87,
      "outputs": []
    },
    {
      "cell_type": "code",
      "metadata": {
        "id": "kaSsQPTXEMlZ"
      },
      "source": [
        "dfm = {'inputs': np.random.random((5,10)),\n",
        "       'y_real': np.random.random((5, 5))}"
      ],
      "execution_count": 88,
      "outputs": []
    },
    {
      "cell_type": "code",
      "metadata": {
        "colab": {
          "base_uri": "https://localhost:8080/"
        },
        "id": "9Saif8ApEsdo",
        "outputId": "aaabdec3-9d0d-4103-b191-1e51d29cc501"
      },
      "source": [
        "model.fit(dfm, epochs = 3)"
      ],
      "execution_count": 89,
      "outputs": [
        {
          "output_type": "stream",
          "text": [
            "Epoch 1/3\n",
            "1/1 [==============================] - 0s 1ms/step - loss: 0.7247 - accuracy: 0.0000e+00\n",
            "Epoch 2/3\n",
            "1/1 [==============================] - 0s 1ms/step - loss: 0.7243 - accuracy: 0.0000e+00\n",
            "Epoch 3/3\n",
            "1/1 [==============================] - 0s 2ms/step - loss: 0.7239 - accuracy: 0.0000e+00\n"
          ],
          "name": "stdout"
        },
        {
          "output_type": "execute_result",
          "data": {
            "text/plain": [
              "<tensorflow.python.keras.callbacks.History at 0x7f9016bc1fd0>"
            ]
          },
          "metadata": {
            "tags": []
          },
          "execution_count": 89
        }
      ]
    },
    {
      "cell_type": "code",
      "metadata": {
        "id": "yH5i9l6jE5VI"
      },
      "source": [
        "#We can sometimes train our model using a very large dataset. Since we cannot fit everything in memory we \n",
        "#may want to streams in data in batches. numpy arrays are not suitable for this case and thus we need\n",
        "#to create a tensoflow dataset.\n",
        "#Consider our previous mnist example\n"
      ],
      "execution_count": 90,
      "outputs": []
    },
    {
      "cell_type": "code",
      "metadata": {
        "id": "s4AIiwPiS4BU"
      },
      "source": [
        "(x_train, y_train), (x_test, y_test) = tf.keras.datasets.mnist.load_data()"
      ],
      "execution_count": 91,
      "outputs": []
    },
    {
      "cell_type": "code",
      "metadata": {
        "id": "1DGJm5KXUbTI"
      },
      "source": [
        "#Preprocess the data\n",
        "x_train, x_test = x_train.reshape(60000, 784).astype('float32')/255.0, x_test.reshape(10000, 784).astype('float32')/255.0\n",
        "y_train, y_test = tf.keras.utils.to_categorical(y_train, num_classes = 10), tf.keras.utils.to_categorical(y_test, num_classes = 10)"
      ],
      "execution_count": 92,
      "outputs": []
    },
    {
      "cell_type": "code",
      "metadata": {
        "id": "GEB_zvn6TEa0"
      },
      "source": [
        "#Convert to tensorflow dataset\n",
        "train_dfm = tf.data.Dataset.from_tensor_slices((x_train, y_train))"
      ],
      "execution_count": 93,
      "outputs": []
    },
    {
      "cell_type": "code",
      "metadata": {
        "id": "pao18lKRTheH"
      },
      "source": [
        "test_dfm = tf.data.Dataset.from_tensor_slices((x_test, y_test))"
      ],
      "execution_count": 94,
      "outputs": []
    },
    {
      "cell_type": "code",
      "metadata": {
        "id": "TGzvWgOTTvhW"
      },
      "source": [
        "#Shuffle and splits the training dataset for streaming\n",
        "train_dfm = train_dfm.shuffle(buffer_size = 1024).batch(64) #We will stream the data in batches of size 64. we will not consider the batch argument again\n"
      ],
      "execution_count": 95,
      "outputs": []
    },
    {
      "cell_type": "code",
      "metadata": {
        "id": "lk8hdBKbYli-"
      },
      "source": [
        "test_dfm = test_dfm.batch(64)"
      ],
      "execution_count": 96,
      "outputs": []
    },
    {
      "cell_type": "code",
      "metadata": {
        "id": "IKNe77bGUoQ4"
      },
      "source": [
        "#Now we can fit our simple mlp designed  by passing the data in the tensorflow splited format\n",
        "inputs = keras.Input(shape = (784,), name = 'mnist')\n",
        "x = keras.layers.Dense(units = 64, activation = 'relu', kernel_initializer = 'random_normal')(inputs)\n",
        "x = keras.layers.Dense(units = 64, activation = 'relu', kernel_initializer = 'random_normal')(x)\n",
        "outputs = keras.layers.Dense(units = 10, activation = 'softmax')(x)\n",
        "model = keras.models.Model(inputs = inputs, outputs = outputs)\n"
      ],
      "execution_count": 97,
      "outputs": []
    },
    {
      "cell_type": "code",
      "metadata": {
        "id": "phbTS30dWV7g"
      },
      "source": [
        "model.compile(loss = 'CategoricalCrossentropy',\n",
        "              optimizer = 'Adam',\n",
        "              metrics = ['accuracy'])"
      ],
      "execution_count": 98,
      "outputs": []
    },
    {
      "cell_type": "code",
      "metadata": {
        "colab": {
          "base_uri": "https://localhost:8080/"
        },
        "id": "__A9HE-rWlk6",
        "outputId": "827f4153-a206-4912-f586-b347405eb55e"
      },
      "source": [
        "model.fit(train_dfm, epochs = 5, verbose = 2) #We dont need to pass batch argument"
      ],
      "execution_count": 99,
      "outputs": [
        {
          "output_type": "stream",
          "text": [
            "Epoch 1/5\n",
            "938/938 - 2s - loss: 0.3440 - accuracy: 0.9003\n",
            "Epoch 2/5\n",
            "938/938 - 2s - loss: 0.1561 - accuracy: 0.9538\n",
            "Epoch 3/5\n",
            "938/938 - 2s - loss: 0.1146 - accuracy: 0.9654\n",
            "Epoch 4/5\n",
            "938/938 - 2s - loss: 0.0906 - accuracy: 0.9727\n",
            "Epoch 5/5\n",
            "938/938 - 2s - loss: 0.0743 - accuracy: 0.9775\n"
          ],
          "name": "stdout"
        },
        {
          "output_type": "execute_result",
          "data": {
            "text/plain": [
              "<tensorflow.python.keras.callbacks.History at 0x7f9016c08748>"
            ]
          },
          "metadata": {
            "tags": []
          },
          "execution_count": 99
        }
      ]
    },
    {
      "cell_type": "code",
      "metadata": {
        "colab": {
          "base_uri": "https://localhost:8080/"
        },
        "id": "0Y26nuZUWyWw",
        "outputId": "9621d509-a20f-46be-c340-d04c4698f1fa"
      },
      "source": [
        "results = model.evaluate(test_dfm, verbose = 2)"
      ],
      "execution_count": 100,
      "outputs": [
        {
          "output_type": "stream",
          "text": [
            "157/157 - 0s - loss: 0.0977 - accuracy: 0.9697\n"
          ],
          "name": "stdout"
        }
      ]
    },
    {
      "cell_type": "code",
      "metadata": {
        "colab": {
          "base_uri": "https://localhost:8080/"
        },
        "id": "jBsElcHsYUPx",
        "outputId": "70106beb-80ba-4674-9a10-4623858959fe"
      },
      "source": [
        "print(f\"loss: {results[0]:.4f}, accuracy: {results[1]:.4f}\")"
      ],
      "execution_count": 101,
      "outputs": [
        {
          "output_type": "stream",
          "text": [
            "loss: 0.0977, accuracy: 0.9697\n"
          ],
          "name": "stdout"
        }
      ]
    },
    {
      "cell_type": "code",
      "metadata": {
        "id": "iuT02M3MZBlR"
      },
      "source": [
        "##Passing data to multi input-output model"
      ],
      "execution_count": 102,
      "outputs": []
    },
    {
      "cell_type": "code",
      "metadata": {
        "id": "i4kVr3JF9W6Z"
      },
      "source": [
        "#We can also passing multiple inputs to obtain multiple outputs in keras model\n",
        "#Consider the following survival problem which classify individual risks of death due to \n",
        "#particular event and also we may be interested to comput survival scores(time) of each individual"
      ],
      "execution_count": 103,
      "outputs": []
    },
    {
      "cell_type": "code",
      "metadata": {
        "id": "_oU3-mqaBrww"
      },
      "source": [
        "inputs1 = keras.Input(shape = (32,32,3), name = 'img')\n",
        "inputs2 = keras.Input(shape = (None, 10), name = 'others')\n",
        "x1 = keras.layers.Conv2D(filters = 32, kernel_size = (3,3), strides = (2,2), padding = 'same',activation = 'relu', name = 'layer_1A')(inputs1)\n",
        "x1 = keras.layers.GlobalMaxPooling2D()(x1)\n",
        "x2 = keras.layers.Conv1D(filters = 32, kernel_size = 3, activation = 'relu',name = 'layer_1B')(inputs2)\n",
        "x2 = keras.layers.GlobalMaxPooling1D()(x2)\n",
        "x = keras.layers.concatenate([x1,x2]) #Fuse the layers from different inputs\n",
        "outputs1 = keras.layers.Dense(units = 10, activation = 'softmax', name = 'risks_classes')(x)#risks classes\n",
        "outputs2 = keras.layers.Dense(units = 1, name = 'survival_scores')(x) #survival scores"
      ],
      "execution_count": 104,
      "outputs": []
    },
    {
      "cell_type": "code",
      "metadata": {
        "id": "Ivy6R0sdGOl7"
      },
      "source": [
        "model = keras.Model(inputs = [inputs1, inputs2], outputs = [outputs1, outputs2], name = 'multiple in-out')"
      ],
      "execution_count": 105,
      "outputs": []
    },
    {
      "cell_type": "code",
      "metadata": {
        "colab": {
          "base_uri": "https://localhost:8080/"
        },
        "id": "7c5-4JKFGu90",
        "outputId": "3b6aa6d1-1e0c-4d03-b66c-eb7a143ec4d5"
      },
      "source": [
        "model.summary()"
      ],
      "execution_count": 106,
      "outputs": [
        {
          "output_type": "stream",
          "text": [
            "Model: \"multiple in-out\"\n",
            "__________________________________________________________________________________________________\n",
            "Layer (type)                    Output Shape         Param #     Connected to                     \n",
            "==================================================================================================\n",
            "img (InputLayer)                [(None, 32, 32, 3)]  0                                            \n",
            "__________________________________________________________________________________________________\n",
            "others (InputLayer)             [(None, None, 10)]   0                                            \n",
            "__________________________________________________________________________________________________\n",
            "layer_1A (Conv2D)               (None, 16, 16, 32)   896         img[0][0]                        \n",
            "__________________________________________________________________________________________________\n",
            "layer_1B (Conv1D)               (None, None, 32)     992         others[0][0]                     \n",
            "__________________________________________________________________________________________________\n",
            "global_max_pooling2d_1 (GlobalM (None, 32)           0           layer_1A[0][0]                   \n",
            "__________________________________________________________________________________________________\n",
            "global_max_pooling1d_1 (GlobalM (None, 32)           0           layer_1B[0][0]                   \n",
            "__________________________________________________________________________________________________\n",
            "concatenate_1 (Concatenate)     (None, 64)           0           global_max_pooling2d_1[0][0]     \n",
            "                                                                 global_max_pooling1d_1[0][0]     \n",
            "__________________________________________________________________________________________________\n",
            "risks_classes (Dense)           (None, 10)           650         concatenate_1[0][0]              \n",
            "__________________________________________________________________________________________________\n",
            "survival_scores (Dense)         (None, 1)            65          concatenate_1[0][0]              \n",
            "==================================================================================================\n",
            "Total params: 2,603\n",
            "Trainable params: 2,603\n",
            "Non-trainable params: 0\n",
            "__________________________________________________________________________________________________\n"
          ],
          "name": "stdout"
        }
      ]
    },
    {
      "cell_type": "code",
      "metadata": {
        "colab": {
          "base_uri": "https://localhost:8080/",
          "height": 533
        },
        "id": "5pY9gqjCGwtT",
        "outputId": "e06aa3c7-c1a5-4ea6-b88d-06643c9b553b"
      },
      "source": [
        "keras.utils.plot_model(model, 'mymodel.png', show_shapes = True) #Get the vissual graph"
      ],
      "execution_count": 107,
      "outputs": [
        {
          "output_type": "execute_result",
          "data": {
            "image/png": "[encoded data removed]",
            "text/plain": [
              "<IPython.core.display.Image object>"
            ]
          },
          "metadata": {
            "tags": []
          },
          "execution_count": 107
        }
      ]
    },
    {
      "cell_type": "code",
      "metadata": {
        "id": "5GUTJj2uHBLa"
      },
      "source": [
        "#We can compile the model using multiple loss functions and list of several metrics if we can"
      ],
      "execution_count": 108,
      "outputs": []
    },
    {
      "cell_type": "code",
      "metadata": {
        "id": "lyoVfqLaMg01"
      },
      "source": [
        "model.compile(\n",
        "    loss = {'risk_classes': keras.losses.CategoricalCrossentropy(),\n",
        "            'survival_scores': keras.losses.MeanSquaredError()},\n",
        "            optimizer = 'Adam',\n",
        "            metrics = {\n",
        "                'risk_classes': keras.metrics.CategoricalAccuracy(),\n",
        "                'survival_scores': [keras.metrics.MeanAbsolutePercentageError(),\n",
        "                                    keras.metrics.MeanAbsoluteError()]\n",
        "            },\n",
        "            loss_weights = {'risk_classes':2.0, 'survival_scores': 1.0}\n",
        ")"
      ],
      "execution_count": 109,
      "outputs": []
    },
    {
      "cell_type": "code",
      "metadata": {
        "id": "YJ8R3bKcPjrE"
      },
      "source": [
        "#Appliying callbacks in keras models\n",
        "#Callbacks are necessary for various purposes such as checkpoing (when training on big data)\n",
        "# and can also imposes early stopage in case validation loss is not improving"
      ],
      "execution_count": 110,
      "outputs": []
    },
    {
      "cell_type": "code",
      "metadata": {
        "id": "MMtNsT3MpcMu"
      },
      "source": [
        "#Implimenting early stopage using the callbacks\n",
        "from tensorflow.keras.callbacks import EarlyStopping\n"
      ],
      "execution_count": 111,
      "outputs": []
    },
    {
      "cell_type": "code",
      "metadata": {
        "id": "4IUoxIgjqBYu"
      },
      "source": [
        "callback_info = EarlyStopping(monitor = 'val_loss', patience = 3, verbose = 1, min_delta = 1e-3,restore_best_weights = True, mode = 'auto')"
      ],
      "execution_count": 112,
      "outputs": []
    },
    {
      "cell_type": "code",
      "metadata": {
        "id": "8ARhkHBxqb3J"
      },
      "source": [
        "#Using the above callbacks in training\n",
        "(x_train, y_train), (x_test, y_test) = tf.keras.datasets.mnist.load_data()"
      ],
      "execution_count": 113,
      "outputs": []
    },
    {
      "cell_type": "code",
      "metadata": {
        "id": "8cGVh7ZWq2Km"
      },
      "source": [
        "x_train, x_test = x_train.reshape(60000,784).astype('float')/255.0, x_test.reshape(10000, 784).astype('float')/255.0"
      ],
      "execution_count": 114,
      "outputs": []
    },
    {
      "cell_type": "code",
      "metadata": {
        "id": "wVZZlwyarQRH"
      },
      "source": [
        "y_train, y_test = tf.keras.utils.to_categorical(y_train, num_classes = 10), tf.keras.utils.to_categorical(y_test, num_classes = 10)"
      ],
      "execution_count": 115,
      "outputs": []
    },
    {
      "cell_type": "code",
      "metadata": {
        "id": "cU_HnB6qrlkb"
      },
      "source": [
        "#Create a simple MLP for the mnist data\n",
        "def mlp_sample():\n",
        "  inputs = keras.Input(shape = (784,), name = 'mnist')\n",
        "  x = keras.layers.Dense(units = 64, activation = 'relu', kernel_initializer = 'random_normal', name = 'layer_1')(inputs)\n",
        "  x = keras.layers.Dense(units = 64, activation = 'relu', kernel_initializer = 'random_normal', name = 'layer_2')(x)\n",
        "  outputs = keras.layers.Dense(units = 10, activation = 'softmax', name = 'classes')(x)\n",
        "  model = keras.Model(inputs = inputs, outputs = outputs, name = 'mlp_with_callbacks')\n",
        "  summary = model.summary()\n",
        "  graph = tf.keras.utils.plot_model(model, 'mymodel.png', show_shapes = True)\n",
        "  return model"
      ],
      "execution_count": 116,
      "outputs": []
    },
    {
      "cell_type": "code",
      "metadata": {
        "id": "elrmyi4Fs8-u"
      },
      "source": [
        "def compiled_model():\n",
        "  model = mlp_sample()\n",
        "  model.compile(loss = 'CategoricalCrossentropy',\n",
        "              optimizer = 'Adam', metrics = ['accuracy'])\n",
        "  return model"
      ],
      "execution_count": 117,
      "outputs": []
    },
    {
      "cell_type": "code",
      "metadata": {
        "colab": {
          "base_uri": "https://localhost:8080/"
        },
        "id": "ut7jDf52tN5F",
        "outputId": "a66a8894-9523-4132-918b-41f561ea3288"
      },
      "source": [
        "model = compiled_model()\n",
        "model.fit(x_train, y_train, validation_data = (x_test, y_test), callbacks = [callback_info], epochs = 100,verbose = 2)"
      ],
      "execution_count": 119,
      "outputs": [
        {
          "output_type": "stream",
          "text": [
            "Model: \"mlp_with_callbacks\"\n",
            "_________________________________________________________________\n",
            "Layer (type)                 Output Shape              Param #   \n",
            "=================================================================\n",
            "mnist (InputLayer)           [(None, 784)]             0         \n",
            "_________________________________________________________________\n",
            "layer_1 (Dense)              (None, 64)                50240     \n",
            "_________________________________________________________________\n",
            "layer_2 (Dense)              (None, 64)                4160      \n",
            "_________________________________________________________________\n",
            "classes (Dense)              (None, 10)                650       \n",
            "=================================================================\n",
            "Total params: 55,050\n",
            "Trainable params: 55,050\n",
            "Non-trainable params: 0\n",
            "_________________________________________________________________\n",
            "Epoch 1/100\n",
            "1875/1875 - 3s - loss: 0.3032 - accuracy: 0.9121 - val_loss: 0.1593 - val_accuracy: 0.9518\n",
            "Epoch 2/100\n",
            "1875/1875 - 3s - loss: 0.1346 - accuracy: 0.9592 - val_loss: 0.1291 - val_accuracy: 0.9610\n",
            "Epoch 3/100\n",
            "1875/1875 - 3s - loss: 0.0973 - accuracy: 0.9701 - val_loss: 0.1077 - val_accuracy: 0.9679\n",
            "Epoch 4/100\n",
            "1875/1875 - 3s - loss: 0.0759 - accuracy: 0.9762 - val_loss: 0.0902 - val_accuracy: 0.9723\n",
            "Epoch 5/100\n",
            "1875/1875 - 3s - loss: 0.0615 - accuracy: 0.9808 - val_loss: 0.0925 - val_accuracy: 0.9722\n",
            "Epoch 6/100\n",
            "1875/1875 - 3s - loss: 0.0523 - accuracy: 0.9833 - val_loss: 0.0957 - val_accuracy: 0.9705\n",
            "Epoch 7/100\n",
            "Restoring model weights from the end of the best epoch.\n",
            "1875/1875 - 3s - loss: 0.0443 - accuracy: 0.9857 - val_loss: 0.0945 - val_accuracy: 0.9744\n",
            "Epoch 00007: early stopping\n"
          ],
          "name": "stdout"
        },
        {
          "output_type": "execute_result",
          "data": {
            "text/plain": [
              "<tensorflow.python.keras.callbacks.History at 0x7f9017923710>"
            ]
          },
          "metadata": {
            "tags": []
          },
          "execution_count": 119
        }
      ]
    },
    {
      "cell_type": "code",
      "metadata": {
        "id": "htV2f_pltkc8"
      },
      "source": [
        "#Checkpoing the model"
      ],
      "execution_count": 120,
      "outputs": []
    },
    {
      "cell_type": "code",
      "metadata": {
        "colab": {
          "base_uri": "https://localhost:8080/"
        },
        "id": "sI8e25A9v-qH",
        "outputId": "7c7e7e7b-6b1a-4f94-e705-34c67b316d4d"
      },
      "source": [
        "model = compiled_model()\n",
        "chekpoint = keras.callbacks.ModelCheckpoint(filepath = 'my_sample_model',monitor = 'val_loss',verbose = 1, save_best_only= True, save_freq='epoch')\n",
        "model.fit(x_train, y_train, validation_data = (x_test, y_test), verbose = 2, callbacks = [callback_info, chekpoint], epochs = 100)"
      ],
      "execution_count": 121,
      "outputs": [
        {
          "output_type": "stream",
          "text": [
            "Model: \"mlp_with_callbacks\"\n",
            "_________________________________________________________________\n",
            "Layer (type)                 Output Shape              Param #   \n",
            "=================================================================\n",
            "mnist (InputLayer)           [(None, 784)]             0         \n",
            "_________________________________________________________________\n",
            "layer_1 (Dense)              (None, 64)                50240     \n",
            "_________________________________________________________________\n",
            "layer_2 (Dense)              (None, 64)                4160      \n",
            "_________________________________________________________________\n",
            "classes (Dense)              (None, 10)                650       \n",
            "=================================================================\n",
            "Total params: 55,050\n",
            "Trainable params: 55,050\n",
            "Non-trainable params: 0\n",
            "_________________________________________________________________\n",
            "Epoch 1/100\n",
            "\n",
            "Epoch 00001: val_loss improved from inf to 0.15426, saving model to my_sample_model\n",
            "INFO:tensorflow:Assets written to: my_sample_model/assets\n",
            "1875/1875 - 3s - loss: 0.3089 - accuracy: 0.9107 - val_loss: 0.1543 - val_accuracy: 0.9531\n",
            "Epoch 2/100\n",
            "\n",
            "Epoch 00002: val_loss improved from 0.15426 to 0.11505, saving model to my_sample_model\n",
            "INFO:tensorflow:Assets written to: my_sample_model/assets\n",
            "1875/1875 - 3s - loss: 0.1370 - accuracy: 0.9585 - val_loss: 0.1151 - val_accuracy: 0.9657\n",
            "Epoch 3/100\n",
            "\n",
            "Epoch 00003: val_loss improved from 0.11505 to 0.09101, saving model to my_sample_model\n",
            "INFO:tensorflow:Assets written to: my_sample_model/assets\n",
            "1875/1875 - 3s - loss: 0.0963 - accuracy: 0.9700 - val_loss: 0.0910 - val_accuracy: 0.9726\n",
            "Epoch 4/100\n",
            "\n",
            "Epoch 00004: val_loss improved from 0.09101 to 0.08851, saving model to my_sample_model\n",
            "INFO:tensorflow:Assets written to: my_sample_model/assets\n",
            "1875/1875 - 3s - loss: 0.0753 - accuracy: 0.9767 - val_loss: 0.0885 - val_accuracy: 0.9718\n",
            "Epoch 5/100\n",
            "\n",
            "Epoch 00005: val_loss did not improve from 0.08851\n",
            "1875/1875 - 3s - loss: 0.0621 - accuracy: 0.9806 - val_loss: 0.0892 - val_accuracy: 0.9745\n",
            "Epoch 6/100\n",
            "\n",
            "Epoch 00006: val_loss did not improve from 0.08851\n",
            "1875/1875 - 3s - loss: 0.0509 - accuracy: 0.9834 - val_loss: 0.0897 - val_accuracy: 0.9746\n",
            "Epoch 7/100\n",
            "Restoring model weights from the end of the best epoch.\n",
            "\n",
            "Epoch 00007: val_loss did not improve from 0.08851\n",
            "1875/1875 - 3s - loss: 0.0452 - accuracy: 0.9860 - val_loss: 0.0907 - val_accuracy: 0.9746\n",
            "Epoch 00007: early stopping\n"
          ],
          "name": "stdout"
        },
        {
          "output_type": "execute_result",
          "data": {
            "text/plain": [
              "<tensorflow.python.keras.callbacks.History at 0x7f9016f67e10>"
            ]
          },
          "metadata": {
            "tags": []
          },
          "execution_count": 121
        }
      ]
    },
    {
      "cell_type": "code",
      "metadata": {
        "id": "6R4mQR2py3kH"
      },
      "source": [
        "#We can use checkpoint to resume training incase of any interuption  "
      ],
      "execution_count": 122,
      "outputs": []
    },
    {
      "cell_type": "code",
      "metadata": {
        "id": "ngPsw2CDI5GK"
      },
      "source": [
        "import os"
      ],
      "execution_count": 123,
      "outputs": []
    },
    {
      "cell_type": "code",
      "metadata": {
        "id": "dKnMnDApJFP0"
      },
      "source": [
        "mychek_dir = './mycheckpoint'"
      ],
      "execution_count": 124,
      "outputs": []
    },
    {
      "cell_type": "code",
      "metadata": {
        "id": "4pJB1C8ZJXqa"
      },
      "source": [
        "#Create a directory to store the checkpoints\n",
        "if not os.path.exists(mychek_dir):\n",
        "  os.makedirs(mychek_dir)"
      ],
      "execution_count": 125,
      "outputs": []
    },
    {
      "cell_type": "code",
      "metadata": {
        "id": "ZxSEx-bxJ7Ml"
      },
      "source": [
        "#We can recover our model from the directory if it is there otherwise we can build a new model\n",
        "def mymodel_recover_build():\n",
        "  chkpnt = [mychek_dir + '/' + name for name in os.listdir(mychek_dir)] #A list comprehension to return all checkpoints as a list\n",
        "  if chkpnt:\n",
        "    latest_chkpnt = max(chkpnt, key = os.path.getctime)\n",
        "    print(f\" we are recovering from the latest checkpoint {latest_chkpnt}\")\n",
        "    return keras.models.load_model(latest_chkpnt) #Load the model at the point it was before interuption\n",
        "  else:\n",
        "    print(\"There is nothing in the directory. We create the new model\")\n",
        "    return compiled_model()\n"
      ],
      "execution_count": 126,
      "outputs": []
    },
    {
      "cell_type": "code",
      "metadata": {
        "colab": {
          "base_uri": "https://localhost:8080/"
        },
        "id": "kv7COBjtMtnQ",
        "outputId": "935ac9f3-1611-4e7d-de36-28ee1586f054"
      },
      "source": [
        "#Call the above function to create or to restore the model\n",
        "model = mymodel_recover_build()\n",
        "mycallback = keras.callbacks.ModelCheckpoint(filepath = mychek_dir +\"/checkpoint_loss ={loss:.2f}\", save_freq = 60)"
      ],
      "execution_count": 127,
      "outputs": [
        {
          "output_type": "stream",
          "text": [
            "There is nothing in the directory. We create the new model\n",
            "Model: \"mlp_with_callbacks\"\n",
            "_________________________________________________________________\n",
            "Layer (type)                 Output Shape              Param #   \n",
            "=================================================================\n",
            "mnist (InputLayer)           [(None, 784)]             0         \n",
            "_________________________________________________________________\n",
            "layer_1 (Dense)              (None, 64)                50240     \n",
            "_________________________________________________________________\n",
            "layer_2 (Dense)              (None, 64)                4160      \n",
            "_________________________________________________________________\n",
            "classes (Dense)              (None, 10)                650       \n",
            "=================================================================\n",
            "Total params: 55,050\n",
            "Trainable params: 55,050\n",
            "Non-trainable params: 0\n",
            "_________________________________________________________________\n"
          ],
          "name": "stdout"
        }
      ]
    },
    {
      "cell_type": "code",
      "metadata": {
        "colab": {
          "base_uri": "https://localhost:8080/"
        },
        "id": "gpR2pfQAOAs6",
        "outputId": "9815fc27-c593-4224-d8e5-5166bff5f4f2"
      },
      "source": [
        "model.fit(x_train, y_train, validation_data = (x_test, y_test), epochs = 10, verbose = 2, callbacks = mycallback)"
      ],
      "execution_count": 128,
      "outputs": [
        {
          "output_type": "stream",
          "text": [
            "Epoch 1/10\n",
            "INFO:tensorflow:Assets written to: ./mycheckpoint/checkpoint_loss =1.53/assets\n",
            "INFO:tensorflow:Assets written to: ./mycheckpoint/checkpoint_loss =1.07/assets\n",
            "INFO:tensorflow:Assets written to: ./mycheckpoint/checkpoint_loss =0.87/assets\n",
            "INFO:tensorflow:Assets written to: ./mycheckpoint/checkpoint_loss =0.74/assets\n",
            "INFO:tensorflow:Assets written to: ./mycheckpoint/checkpoint_loss =0.66/assets\n",
            "INFO:tensorflow:Assets written to: ./mycheckpoint/checkpoint_loss =0.60/assets\n",
            "INFO:tensorflow:Assets written to: ./mycheckpoint/checkpoint_loss =0.56/assets\n",
            "INFO:tensorflow:Assets written to: ./mycheckpoint/checkpoint_loss =0.53/assets\n",
            "INFO:tensorflow:Assets written to: ./mycheckpoint/checkpoint_loss =0.50/assets\n",
            "INFO:tensorflow:Assets written to: ./mycheckpoint/checkpoint_loss =0.48/assets\n",
            "INFO:tensorflow:Assets written to: ./mycheckpoint/checkpoint_loss =0.46/assets\n",
            "INFO:tensorflow:Assets written to: ./mycheckpoint/checkpoint_loss =0.44/assets\n",
            "INFO:tensorflow:Assets written to: ./mycheckpoint/checkpoint_loss =0.43/assets\n",
            "INFO:tensorflow:Assets written to: ./mycheckpoint/checkpoint_loss =0.41/assets\n",
            "INFO:tensorflow:Assets written to: ./mycheckpoint/checkpoint_loss =0.40/assets\n",
            "INFO:tensorflow:Assets written to: ./mycheckpoint/checkpoint_loss =0.39/assets\n",
            "INFO:tensorflow:Assets written to: ./mycheckpoint/checkpoint_loss =0.38/assets\n",
            "INFO:tensorflow:Assets written to: ./mycheckpoint/checkpoint_loss =0.37/assets\n",
            "INFO:tensorflow:Assets written to: ./mycheckpoint/checkpoint_loss =0.37/assets\n",
            "INFO:tensorflow:Assets written to: ./mycheckpoint/checkpoint_loss =0.36/assets\n",
            "INFO:tensorflow:Assets written to: ./mycheckpoint/checkpoint_loss =0.35/assets\n",
            "INFO:tensorflow:Assets written to: ./mycheckpoint/checkpoint_loss =0.34/assets\n",
            "INFO:tensorflow:Assets written to: ./mycheckpoint/checkpoint_loss =0.34/assets\n",
            "INFO:tensorflow:Assets written to: ./mycheckpoint/checkpoint_loss =0.33/assets\n",
            "INFO:tensorflow:Assets written to: ./mycheckpoint/checkpoint_loss =0.32/assets\n",
            "INFO:tensorflow:Assets written to: ./mycheckpoint/checkpoint_loss =0.32/assets\n",
            "INFO:tensorflow:Assets written to: ./mycheckpoint/checkpoint_loss =0.31/assets\n",
            "INFO:tensorflow:Assets written to: ./mycheckpoint/checkpoint_loss =0.31/assets\n",
            "INFO:tensorflow:Assets written to: ./mycheckpoint/checkpoint_loss =0.30/assets\n",
            "INFO:tensorflow:Assets written to: ./mycheckpoint/checkpoint_loss =0.30/assets\n",
            "INFO:tensorflow:Assets written to: ./mycheckpoint/checkpoint_loss =0.30/assets\n",
            "1875/1875 - 18s - loss: 0.2949 - accuracy: 0.9160 - val_loss: 0.1527 - val_accuracy: 0.9527\n",
            "Epoch 2/10\n",
            "INFO:tensorflow:Assets written to: ./mycheckpoint/checkpoint_loss =0.15/assets\n",
            "INFO:tensorflow:Assets written to: ./mycheckpoint/checkpoint_loss =0.14/assets\n",
            "INFO:tensorflow:Assets written to: ./mycheckpoint/checkpoint_loss =0.14/assets\n",
            "INFO:tensorflow:Assets written to: ./mycheckpoint/checkpoint_loss =0.14/assets\n",
            "INFO:tensorflow:Assets written to: ./mycheckpoint/checkpoint_loss =0.14/assets\n",
            "INFO:tensorflow:Assets written to: ./mycheckpoint/checkpoint_loss =0.14/assets\n",
            "INFO:tensorflow:Assets written to: ./mycheckpoint/checkpoint_loss =0.14/assets\n",
            "INFO:tensorflow:Assets written to: ./mycheckpoint/checkpoint_loss =0.14/assets\n",
            "INFO:tensorflow:Assets written to: ./mycheckpoint/checkpoint_loss =0.14/assets\n",
            "INFO:tensorflow:Assets written to: ./mycheckpoint/checkpoint_loss =0.14/assets\n",
            "INFO:tensorflow:Assets written to: ./mycheckpoint/checkpoint_loss =0.14/assets\n",
            "INFO:tensorflow:Assets written to: ./mycheckpoint/checkpoint_loss =0.14/assets\n",
            "INFO:tensorflow:Assets written to: ./mycheckpoint/checkpoint_loss =0.14/assets\n",
            "INFO:tensorflow:Assets written to: ./mycheckpoint/checkpoint_loss =0.14/assets\n",
            "INFO:tensorflow:Assets written to: ./mycheckpoint/checkpoint_loss =0.14/assets\n",
            "INFO:tensorflow:Assets written to: ./mycheckpoint/checkpoint_loss =0.14/assets\n",
            "INFO:tensorflow:Assets written to: ./mycheckpoint/checkpoint_loss =0.14/assets\n",
            "INFO:tensorflow:Assets written to: ./mycheckpoint/checkpoint_loss =0.14/assets\n",
            "INFO:tensorflow:Assets written to: ./mycheckpoint/checkpoint_loss =0.14/assets\n",
            "INFO:tensorflow:Assets written to: ./mycheckpoint/checkpoint_loss =0.14/assets\n",
            "INFO:tensorflow:Assets written to: ./mycheckpoint/checkpoint_loss =0.13/assets\n",
            "INFO:tensorflow:Assets written to: ./mycheckpoint/checkpoint_loss =0.13/assets\n",
            "INFO:tensorflow:Assets written to: ./mycheckpoint/checkpoint_loss =0.13/assets\n",
            "INFO:tensorflow:Assets written to: ./mycheckpoint/checkpoint_loss =0.13/assets\n",
            "INFO:tensorflow:Assets written to: ./mycheckpoint/checkpoint_loss =0.13/assets\n",
            "INFO:tensorflow:Assets written to: ./mycheckpoint/checkpoint_loss =0.13/assets\n",
            "INFO:tensorflow:Assets written to: ./mycheckpoint/checkpoint_loss =0.13/assets\n",
            "INFO:tensorflow:Assets written to: ./mycheckpoint/checkpoint_loss =0.13/assets\n",
            "INFO:tensorflow:Assets written to: ./mycheckpoint/checkpoint_loss =0.13/assets\n",
            "INFO:tensorflow:Assets written to: ./mycheckpoint/checkpoint_loss =0.13/assets\n",
            "INFO:tensorflow:Assets written to: ./mycheckpoint/checkpoint_loss =0.13/assets\n",
            "1875/1875 - 18s - loss: 0.1296 - accuracy: 0.9609 - val_loss: 0.1247 - val_accuracy: 0.9624\n",
            "Epoch 3/10\n",
            "INFO:tensorflow:Assets written to: ./mycheckpoint/checkpoint_loss =0.10/assets\n",
            "INFO:tensorflow:Assets written to: ./mycheckpoint/checkpoint_loss =0.09/assets\n",
            "INFO:tensorflow:Assets written to: ./mycheckpoint/checkpoint_loss =0.09/assets\n",
            "INFO:tensorflow:Assets written to: ./mycheckpoint/checkpoint_loss =0.10/assets\n",
            "INFO:tensorflow:Assets written to: ./mycheckpoint/checkpoint_loss =0.10/assets\n",
            "INFO:tensorflow:Assets written to: ./mycheckpoint/checkpoint_loss =0.10/assets\n",
            "INFO:tensorflow:Assets written to: ./mycheckpoint/checkpoint_loss =0.09/assets\n",
            "INFO:tensorflow:Assets written to: ./mycheckpoint/checkpoint_loss =0.09/assets\n",
            "INFO:tensorflow:Assets written to: ./mycheckpoint/checkpoint_loss =0.09/assets\n",
            "INFO:tensorflow:Assets written to: ./mycheckpoint/checkpoint_loss =0.09/assets\n",
            "INFO:tensorflow:Assets written to: ./mycheckpoint/checkpoint_loss =0.09/assets\n",
            "INFO:tensorflow:Assets written to: ./mycheckpoint/checkpoint_loss =0.09/assets\n",
            "INFO:tensorflow:Assets written to: ./mycheckpoint/checkpoint_loss =0.09/assets\n",
            "INFO:tensorflow:Assets written to: ./mycheckpoint/checkpoint_loss =0.09/assets\n",
            "INFO:tensorflow:Assets written to: ./mycheckpoint/checkpoint_loss =0.09/assets\n",
            "INFO:tensorflow:Assets written to: ./mycheckpoint/checkpoint_loss =0.09/assets\n",
            "INFO:tensorflow:Assets written to: ./mycheckpoint/checkpoint_loss =0.09/assets\n",
            "INFO:tensorflow:Assets written to: ./mycheckpoint/checkpoint_loss =0.09/assets\n",
            "INFO:tensorflow:Assets written to: ./mycheckpoint/checkpoint_loss =0.09/assets\n",
            "INFO:tensorflow:Assets written to: ./mycheckpoint/checkpoint_loss =0.09/assets\n",
            "INFO:tensorflow:Assets written to: ./mycheckpoint/checkpoint_loss =0.09/assets\n",
            "INFO:tensorflow:Assets written to: ./mycheckpoint/checkpoint_loss =0.09/assets\n",
            "INFO:tensorflow:Assets written to: ./mycheckpoint/checkpoint_loss =0.09/assets\n",
            "INFO:tensorflow:Assets written to: ./mycheckpoint/checkpoint_loss =0.09/assets\n",
            "INFO:tensorflow:Assets written to: ./mycheckpoint/checkpoint_loss =0.09/assets\n",
            "INFO:tensorflow:Assets written to: ./mycheckpoint/checkpoint_loss =0.09/assets\n",
            "INFO:tensorflow:Assets written to: ./mycheckpoint/checkpoint_loss =0.09/assets\n",
            "INFO:tensorflow:Assets written to: ./mycheckpoint/checkpoint_loss =0.09/assets\n",
            "INFO:tensorflow:Assets written to: ./mycheckpoint/checkpoint_loss =0.09/assets\n",
            "INFO:tensorflow:Assets written to: ./mycheckpoint/checkpoint_loss =0.09/assets\n",
            "INFO:tensorflow:Assets written to: ./mycheckpoint/checkpoint_loss =0.09/assets\n",
            "1875/1875 - 18s - loss: 0.0935 - accuracy: 0.9705 - val_loss: 0.1034 - val_accuracy: 0.9665\n",
            "Epoch 4/10\n",
            "INFO:tensorflow:Assets written to: ./mycheckpoint/checkpoint_loss =0.09/assets\n",
            "INFO:tensorflow:Assets written to: ./mycheckpoint/checkpoint_loss =0.07/assets\n",
            "INFO:tensorflow:Assets written to: ./mycheckpoint/checkpoint_loss =0.07/assets\n",
            "INFO:tensorflow:Assets written to: ./mycheckpoint/checkpoint_loss =0.07/assets\n",
            "INFO:tensorflow:Assets written to: ./mycheckpoint/checkpoint_loss =0.07/assets\n",
            "INFO:tensorflow:Assets written to: ./mycheckpoint/checkpoint_loss =0.07/assets\n",
            "INFO:tensorflow:Assets written to: ./mycheckpoint/checkpoint_loss =0.07/assets\n",
            "INFO:tensorflow:Assets written to: ./mycheckpoint/checkpoint_loss =0.07/assets\n",
            "INFO:tensorflow:Assets written to: ./mycheckpoint/checkpoint_loss =0.07/assets\n",
            "INFO:tensorflow:Assets written to: ./mycheckpoint/checkpoint_loss =0.07/assets\n",
            "INFO:tensorflow:Assets written to: ./mycheckpoint/checkpoint_loss =0.07/assets\n",
            "INFO:tensorflow:Assets written to: ./mycheckpoint/checkpoint_loss =0.07/assets\n",
            "INFO:tensorflow:Assets written to: ./mycheckpoint/checkpoint_loss =0.07/assets\n",
            "INFO:tensorflow:Assets written to: ./mycheckpoint/checkpoint_loss =0.07/assets\n",
            "INFO:tensorflow:Assets written to: ./mycheckpoint/checkpoint_loss =0.07/assets\n",
            "INFO:tensorflow:Assets written to: ./mycheckpoint/checkpoint_loss =0.07/assets\n",
            "INFO:tensorflow:Assets written to: ./mycheckpoint/checkpoint_loss =0.07/assets\n",
            "INFO:tensorflow:Assets written to: ./mycheckpoint/checkpoint_loss =0.07/assets\n",
            "INFO:tensorflow:Assets written to: ./mycheckpoint/checkpoint_loss =0.07/assets\n",
            "INFO:tensorflow:Assets written to: ./mycheckpoint/checkpoint_loss =0.07/assets\n",
            "INFO:tensorflow:Assets written to: ./mycheckpoint/checkpoint_loss =0.07/assets\n",
            "INFO:tensorflow:Assets written to: ./mycheckpoint/checkpoint_loss =0.07/assets\n",
            "INFO:tensorflow:Assets written to: ./mycheckpoint/checkpoint_loss =0.07/assets\n",
            "INFO:tensorflow:Assets written to: ./mycheckpoint/checkpoint_loss =0.07/assets\n",
            "INFO:tensorflow:Assets written to: ./mycheckpoint/checkpoint_loss =0.07/assets\n",
            "INFO:tensorflow:Assets written to: ./mycheckpoint/checkpoint_loss =0.07/assets\n",
            "INFO:tensorflow:Assets written to: ./mycheckpoint/checkpoint_loss =0.07/assets\n",
            "INFO:tensorflow:Assets written to: ./mycheckpoint/checkpoint_loss =0.07/assets\n",
            "INFO:tensorflow:Assets written to: ./mycheckpoint/checkpoint_loss =0.07/assets\n",
            "INFO:tensorflow:Assets written to: ./mycheckpoint/checkpoint_loss =0.07/assets\n",
            "INFO:tensorflow:Assets written to: ./mycheckpoint/checkpoint_loss =0.07/assets\n",
            "INFO:tensorflow:Assets written to: ./mycheckpoint/checkpoint_loss =0.07/assets\n",
            "1875/1875 - 19s - loss: 0.0729 - accuracy: 0.9772 - val_loss: 0.0858 - val_accuracy: 0.9747\n",
            "Epoch 5/10\n",
            "INFO:tensorflow:Assets written to: ./mycheckpoint/checkpoint_loss =0.05/assets\n",
            "INFO:tensorflow:Assets written to: ./mycheckpoint/checkpoint_loss =0.05/assets\n",
            "INFO:tensorflow:Assets written to: ./mycheckpoint/checkpoint_loss =0.05/assets\n",
            "INFO:tensorflow:Assets written to: ./mycheckpoint/checkpoint_loss =0.06/assets\n",
            "INFO:tensorflow:Assets written to: ./mycheckpoint/checkpoint_loss =0.06/assets\n",
            "INFO:tensorflow:Assets written to: ./mycheckpoint/checkpoint_loss =0.06/assets\n",
            "INFO:tensorflow:Assets written to: ./mycheckpoint/checkpoint_loss =0.06/assets\n",
            "INFO:tensorflow:Assets written to: ./mycheckpoint/checkpoint_loss =0.06/assets\n",
            "INFO:tensorflow:Assets written to: ./mycheckpoint/checkpoint_loss =0.06/assets\n",
            "INFO:tensorflow:Assets written to: ./mycheckpoint/checkpoint_loss =0.06/assets\n",
            "INFO:tensorflow:Assets written to: ./mycheckpoint/checkpoint_loss =0.06/assets\n",
            "INFO:tensorflow:Assets written to: ./mycheckpoint/checkpoint_loss =0.06/assets\n",
            "INFO:tensorflow:Assets written to: ./mycheckpoint/checkpoint_loss =0.06/assets\n",
            "INFO:tensorflow:Assets written to: ./mycheckpoint/checkpoint_loss =0.06/assets\n",
            "INFO:tensorflow:Assets written to: ./mycheckpoint/checkpoint_loss =0.06/assets\n",
            "INFO:tensorflow:Assets written to: ./mycheckpoint/checkpoint_loss =0.06/assets\n",
            "INFO:tensorflow:Assets written to: ./mycheckpoint/checkpoint_loss =0.06/assets\n",
            "INFO:tensorflow:Assets written to: ./mycheckpoint/checkpoint_loss =0.06/assets\n",
            "INFO:tensorflow:Assets written to: ./mycheckpoint/checkpoint_loss =0.06/assets\n",
            "INFO:tensorflow:Assets written to: ./mycheckpoint/checkpoint_loss =0.06/assets\n",
            "INFO:tensorflow:Assets written to: ./mycheckpoint/checkpoint_loss =0.06/assets\n",
            "INFO:tensorflow:Assets written to: ./mycheckpoint/checkpoint_loss =0.06/assets\n",
            "INFO:tensorflow:Assets written to: ./mycheckpoint/checkpoint_loss =0.06/assets\n",
            "INFO:tensorflow:Assets written to: ./mycheckpoint/checkpoint_loss =0.06/assets\n",
            "INFO:tensorflow:Assets written to: ./mycheckpoint/checkpoint_loss =0.06/assets\n",
            "INFO:tensorflow:Assets written to: ./mycheckpoint/checkpoint_loss =0.06/assets\n",
            "INFO:tensorflow:Assets written to: ./mycheckpoint/checkpoint_loss =0.06/assets\n",
            "INFO:tensorflow:Assets written to: ./mycheckpoint/checkpoint_loss =0.06/assets\n",
            "INFO:tensorflow:Assets written to: ./mycheckpoint/checkpoint_loss =0.06/assets\n",
            "INFO:tensorflow:Assets written to: ./mycheckpoint/checkpoint_loss =0.06/assets\n",
            "INFO:tensorflow:Assets written to: ./mycheckpoint/checkpoint_loss =0.06/assets\n",
            "1875/1875 - 18s - loss: 0.0601 - accuracy: 0.9807 - val_loss: 0.0837 - val_accuracy: 0.9738\n",
            "Epoch 6/10\n",
            "INFO:tensorflow:Assets written to: ./mycheckpoint/checkpoint_loss =0.03/assets\n",
            "INFO:tensorflow:Assets written to: ./mycheckpoint/checkpoint_loss =0.03/assets\n",
            "INFO:tensorflow:Assets written to: ./mycheckpoint/checkpoint_loss =0.04/assets\n",
            "INFO:tensorflow:Assets written to: ./mycheckpoint/checkpoint_loss =0.04/assets\n",
            "INFO:tensorflow:Assets written to: ./mycheckpoint/checkpoint_loss =0.05/assets\n",
            "INFO:tensorflow:Assets written to: ./mycheckpoint/checkpoint_loss =0.05/assets\n",
            "INFO:tensorflow:Assets written to: ./mycheckpoint/checkpoint_loss =0.05/assets\n",
            "INFO:tensorflow:Assets written to: ./mycheckpoint/checkpoint_loss =0.05/assets\n",
            "INFO:tensorflow:Assets written to: ./mycheckpoint/checkpoint_loss =0.05/assets\n",
            "INFO:tensorflow:Assets written to: ./mycheckpoint/checkpoint_loss =0.05/assets\n",
            "INFO:tensorflow:Assets written to: ./mycheckpoint/checkpoint_loss =0.05/assets\n",
            "INFO:tensorflow:Assets written to: ./mycheckpoint/checkpoint_loss =0.05/assets\n",
            "INFO:tensorflow:Assets written to: ./mycheckpoint/checkpoint_loss =0.05/assets\n",
            "INFO:tensorflow:Assets written to: ./mycheckpoint/checkpoint_loss =0.05/assets\n",
            "INFO:tensorflow:Assets written to: ./mycheckpoint/checkpoint_loss =0.05/assets\n",
            "INFO:tensorflow:Assets written to: ./mycheckpoint/checkpoint_loss =0.05/assets\n",
            "INFO:tensorflow:Assets written to: ./mycheckpoint/checkpoint_loss =0.05/assets\n",
            "INFO:tensorflow:Assets written to: ./mycheckpoint/checkpoint_loss =0.05/assets\n",
            "INFO:tensorflow:Assets written to: ./mycheckpoint/checkpoint_loss =0.05/assets\n",
            "INFO:tensorflow:Assets written to: ./mycheckpoint/checkpoint_loss =0.05/assets\n",
            "INFO:tensorflow:Assets written to: ./mycheckpoint/checkpoint_loss =0.05/assets\n",
            "INFO:tensorflow:Assets written to: ./mycheckpoint/checkpoint_loss =0.05/assets\n",
            "INFO:tensorflow:Assets written to: ./mycheckpoint/checkpoint_loss =0.05/assets\n",
            "INFO:tensorflow:Assets written to: ./mycheckpoint/checkpoint_loss =0.05/assets\n",
            "INFO:tensorflow:Assets written to: ./mycheckpoint/checkpoint_loss =0.05/assets\n",
            "INFO:tensorflow:Assets written to: ./mycheckpoint/checkpoint_loss =0.05/assets\n",
            "INFO:tensorflow:Assets written to: ./mycheckpoint/checkpoint_loss =0.05/assets\n",
            "INFO:tensorflow:Assets written to: ./mycheckpoint/checkpoint_loss =0.05/assets\n",
            "INFO:tensorflow:Assets written to: ./mycheckpoint/checkpoint_loss =0.05/assets\n",
            "INFO:tensorflow:Assets written to: ./mycheckpoint/checkpoint_loss =0.05/assets\n",
            "INFO:tensorflow:Assets written to: ./mycheckpoint/checkpoint_loss =0.05/assets\n",
            "1875/1875 - 18s - loss: 0.0496 - accuracy: 0.9838 - val_loss: 0.0939 - val_accuracy: 0.9740\n",
            "Epoch 7/10\n",
            "INFO:tensorflow:Assets written to: ./mycheckpoint/checkpoint_loss =0.03/assets\n",
            "INFO:tensorflow:Assets written to: ./mycheckpoint/checkpoint_loss =0.03/assets\n",
            "INFO:tensorflow:Assets written to: ./mycheckpoint/checkpoint_loss =0.03/assets\n",
            "INFO:tensorflow:Assets written to: ./mycheckpoint/checkpoint_loss =0.03/assets\n",
            "INFO:tensorflow:Assets written to: ./mycheckpoint/checkpoint_loss =0.03/assets\n",
            "INFO:tensorflow:Assets written to: ./mycheckpoint/checkpoint_loss =0.03/assets\n",
            "INFO:tensorflow:Assets written to: ./mycheckpoint/checkpoint_loss =0.03/assets\n",
            "INFO:tensorflow:Assets written to: ./mycheckpoint/checkpoint_loss =0.04/assets\n",
            "INFO:tensorflow:Assets written to: ./mycheckpoint/checkpoint_loss =0.04/assets\n",
            "INFO:tensorflow:Assets written to: ./mycheckpoint/checkpoint_loss =0.04/assets\n",
            "INFO:tensorflow:Assets written to: ./mycheckpoint/checkpoint_loss =0.04/assets\n",
            "INFO:tensorflow:Assets written to: ./mycheckpoint/checkpoint_loss =0.04/assets\n",
            "INFO:tensorflow:Assets written to: ./mycheckpoint/checkpoint_loss =0.04/assets\n",
            "INFO:tensorflow:Assets written to: ./mycheckpoint/checkpoint_loss =0.04/assets\n",
            "INFO:tensorflow:Assets written to: ./mycheckpoint/checkpoint_loss =0.04/assets\n",
            "INFO:tensorflow:Assets written to: ./mycheckpoint/checkpoint_loss =0.04/assets\n",
            "INFO:tensorflow:Assets written to: ./mycheckpoint/checkpoint_loss =0.04/assets\n",
            "INFO:tensorflow:Assets written to: ./mycheckpoint/checkpoint_loss =0.04/assets\n",
            "INFO:tensorflow:Assets written to: ./mycheckpoint/checkpoint_loss =0.04/assets\n",
            "INFO:tensorflow:Assets written to: ./mycheckpoint/checkpoint_loss =0.04/assets\n",
            "INFO:tensorflow:Assets written to: ./mycheckpoint/checkpoint_loss =0.04/assets\n",
            "INFO:tensorflow:Assets written to: ./mycheckpoint/checkpoint_loss =0.04/assets\n",
            "INFO:tensorflow:Assets written to: ./mycheckpoint/checkpoint_loss =0.04/assets\n",
            "INFO:tensorflow:Assets written to: ./mycheckpoint/checkpoint_loss =0.04/assets\n",
            "INFO:tensorflow:Assets written to: ./mycheckpoint/checkpoint_loss =0.04/assets\n",
            "INFO:tensorflow:Assets written to: ./mycheckpoint/checkpoint_loss =0.04/assets\n",
            "INFO:tensorflow:Assets written to: ./mycheckpoint/checkpoint_loss =0.04/assets\n",
            "INFO:tensorflow:Assets written to: ./mycheckpoint/checkpoint_loss =0.04/assets\n",
            "INFO:tensorflow:Assets written to: ./mycheckpoint/checkpoint_loss =0.04/assets\n",
            "INFO:tensorflow:Assets written to: ./mycheckpoint/checkpoint_loss =0.04/assets\n",
            "INFO:tensorflow:Assets written to: ./mycheckpoint/checkpoint_loss =0.04/assets\n",
            "1875/1875 - 18s - loss: 0.0446 - accuracy: 0.9859 - val_loss: 0.0933 - val_accuracy: 0.9728\n",
            "Epoch 8/10\n",
            "INFO:tensorflow:Assets written to: ./mycheckpoint/checkpoint_loss =0.02/assets\n",
            "INFO:tensorflow:Assets written to: ./mycheckpoint/checkpoint_loss =0.03/assets\n",
            "INFO:tensorflow:Assets written to: ./mycheckpoint/checkpoint_loss =0.04/assets\n",
            "INFO:tensorflow:Assets written to: ./mycheckpoint/checkpoint_loss =0.04/assets\n",
            "INFO:tensorflow:Assets written to: ./mycheckpoint/checkpoint_loss =0.04/assets\n",
            "INFO:tensorflow:Assets written to: ./mycheckpoint/checkpoint_loss =0.04/assets\n",
            "INFO:tensorflow:Assets written to: ./mycheckpoint/checkpoint_loss =0.03/assets\n",
            "INFO:tensorflow:Assets written to: ./mycheckpoint/checkpoint_loss =0.03/assets\n",
            "INFO:tensorflow:Assets written to: ./mycheckpoint/checkpoint_loss =0.03/assets\n",
            "INFO:tensorflow:Assets written to: ./mycheckpoint/checkpoint_loss =0.03/assets\n",
            "INFO:tensorflow:Assets written to: ./mycheckpoint/checkpoint_loss =0.03/assets\n",
            "INFO:tensorflow:Assets written to: ./mycheckpoint/checkpoint_loss =0.03/assets\n",
            "INFO:tensorflow:Assets written to: ./mycheckpoint/checkpoint_loss =0.03/assets\n",
            "INFO:tensorflow:Assets written to: ./mycheckpoint/checkpoint_loss =0.03/assets\n",
            "INFO:tensorflow:Assets written to: ./mycheckpoint/checkpoint_loss =0.03/assets\n",
            "INFO:tensorflow:Assets written to: ./mycheckpoint/checkpoint_loss =0.03/assets\n",
            "INFO:tensorflow:Assets written to: ./mycheckpoint/checkpoint_loss =0.03/assets\n",
            "INFO:tensorflow:Assets written to: ./mycheckpoint/checkpoint_loss =0.03/assets\n",
            "INFO:tensorflow:Assets written to: ./mycheckpoint/checkpoint_loss =0.03/assets\n",
            "INFO:tensorflow:Assets written to: ./mycheckpoint/checkpoint_loss =0.03/assets\n",
            "INFO:tensorflow:Assets written to: ./mycheckpoint/checkpoint_loss =0.04/assets\n",
            "INFO:tensorflow:Assets written to: ./mycheckpoint/checkpoint_loss =0.04/assets\n",
            "INFO:tensorflow:Assets written to: ./mycheckpoint/checkpoint_loss =0.04/assets\n",
            "INFO:tensorflow:Assets written to: ./mycheckpoint/checkpoint_loss =0.03/assets\n",
            "INFO:tensorflow:Assets written to: ./mycheckpoint/checkpoint_loss =0.03/assets\n",
            "INFO:tensorflow:Assets written to: ./mycheckpoint/checkpoint_loss =0.03/assets\n",
            "INFO:tensorflow:Assets written to: ./mycheckpoint/checkpoint_loss =0.03/assets\n",
            "INFO:tensorflow:Assets written to: ./mycheckpoint/checkpoint_loss =0.03/assets\n",
            "INFO:tensorflow:Assets written to: ./mycheckpoint/checkpoint_loss =0.04/assets\n",
            "INFO:tensorflow:Assets written to: ./mycheckpoint/checkpoint_loss =0.04/assets\n",
            "INFO:tensorflow:Assets written to: ./mycheckpoint/checkpoint_loss =0.04/assets\n",
            "INFO:tensorflow:Assets written to: ./mycheckpoint/checkpoint_loss =0.04/assets\n",
            "1875/1875 - 19s - loss: 0.0356 - accuracy: 0.9887 - val_loss: 0.1063 - val_accuracy: 0.9714\n",
            "Epoch 9/10\n",
            "INFO:tensorflow:Assets written to: ./mycheckpoint/checkpoint_loss =0.03/assets\n",
            "INFO:tensorflow:Assets written to: ./mycheckpoint/checkpoint_loss =0.02/assets\n",
            "INFO:tensorflow:Assets written to: ./mycheckpoint/checkpoint_loss =0.02/assets\n",
            "INFO:tensorflow:Assets written to: ./mycheckpoint/checkpoint_loss =0.02/assets\n",
            "INFO:tensorflow:Assets written to: ./mycheckpoint/checkpoint_loss =0.02/assets\n",
            "INFO:tensorflow:Assets written to: ./mycheckpoint/checkpoint_loss =0.02/assets\n",
            "INFO:tensorflow:Assets written to: ./mycheckpoint/checkpoint_loss =0.02/assets\n",
            "INFO:tensorflow:Assets written to: ./mycheckpoint/checkpoint_loss =0.02/assets\n",
            "INFO:tensorflow:Assets written to: ./mycheckpoint/checkpoint_loss =0.03/assets\n",
            "INFO:tensorflow:Assets written to: ./mycheckpoint/checkpoint_loss =0.03/assets\n",
            "INFO:tensorflow:Assets written to: ./mycheckpoint/checkpoint_loss =0.03/assets\n",
            "INFO:tensorflow:Assets written to: ./mycheckpoint/checkpoint_loss =0.03/assets\n",
            "INFO:tensorflow:Assets written to: ./mycheckpoint/checkpoint_loss =0.03/assets\n",
            "INFO:tensorflow:Assets written to: ./mycheckpoint/checkpoint_loss =0.03/assets\n",
            "INFO:tensorflow:Assets written to: ./mycheckpoint/checkpoint_loss =0.03/assets\n",
            "INFO:tensorflow:Assets written to: ./mycheckpoint/checkpoint_loss =0.03/assets\n",
            "INFO:tensorflow:Assets written to: ./mycheckpoint/checkpoint_loss =0.03/assets\n",
            "INFO:tensorflow:Assets written to: ./mycheckpoint/checkpoint_loss =0.03/assets\n",
            "INFO:tensorflow:Assets written to: ./mycheckpoint/checkpoint_loss =0.03/assets\n",
            "INFO:tensorflow:Assets written to: ./mycheckpoint/checkpoint_loss =0.03/assets\n",
            "INFO:tensorflow:Assets written to: ./mycheckpoint/checkpoint_loss =0.03/assets\n",
            "INFO:tensorflow:Assets written to: ./mycheckpoint/checkpoint_loss =0.03/assets\n",
            "INFO:tensorflow:Assets written to: ./mycheckpoint/checkpoint_loss =0.03/assets\n",
            "INFO:tensorflow:Assets written to: ./mycheckpoint/checkpoint_loss =0.03/assets\n",
            "INFO:tensorflow:Assets written to: ./mycheckpoint/checkpoint_loss =0.03/assets\n",
            "INFO:tensorflow:Assets written to: ./mycheckpoint/checkpoint_loss =0.03/assets\n",
            "INFO:tensorflow:Assets written to: ./mycheckpoint/checkpoint_loss =0.03/assets\n",
            "INFO:tensorflow:Assets written to: ./mycheckpoint/checkpoint_loss =0.03/assets\n",
            "INFO:tensorflow:Assets written to: ./mycheckpoint/checkpoint_loss =0.03/assets\n",
            "INFO:tensorflow:Assets written to: ./mycheckpoint/checkpoint_loss =0.03/assets\n",
            "INFO:tensorflow:Assets written to: ./mycheckpoint/checkpoint_loss =0.03/assets\n",
            "1875/1875 - 18s - loss: 0.0326 - accuracy: 0.9891 - val_loss: 0.0976 - val_accuracy: 0.9744\n",
            "Epoch 10/10\n",
            "INFO:tensorflow:Assets written to: ./mycheckpoint/checkpoint_loss =0.02/assets\n",
            "INFO:tensorflow:Assets written to: ./mycheckpoint/checkpoint_loss =0.02/assets\n",
            "INFO:tensorflow:Assets written to: ./mycheckpoint/checkpoint_loss =0.02/assets\n",
            "INFO:tensorflow:Assets written to: ./mycheckpoint/checkpoint_loss =0.02/assets\n",
            "INFO:tensorflow:Assets written to: ./mycheckpoint/checkpoint_loss =0.02/assets\n",
            "INFO:tensorflow:Assets written to: ./mycheckpoint/checkpoint_loss =0.02/assets\n",
            "INFO:tensorflow:Assets written to: ./mycheckpoint/checkpoint_loss =0.02/assets\n",
            "INFO:tensorflow:Assets written to: ./mycheckpoint/checkpoint_loss =0.02/assets\n",
            "INFO:tensorflow:Assets written to: ./mycheckpoint/checkpoint_loss =0.02/assets\n",
            "INFO:tensorflow:Assets written to: ./mycheckpoint/checkpoint_loss =0.02/assets\n",
            "INFO:tensorflow:Assets written to: ./mycheckpoint/checkpoint_loss =0.02/assets\n",
            "INFO:tensorflow:Assets written to: ./mycheckpoint/checkpoint_loss =0.02/assets\n",
            "INFO:tensorflow:Assets written to: ./mycheckpoint/checkpoint_loss =0.02/assets\n",
            "INFO:tensorflow:Assets written to: ./mycheckpoint/checkpoint_loss =0.03/assets\n",
            "INFO:tensorflow:Assets written to: ./mycheckpoint/checkpoint_loss =0.02/assets\n",
            "INFO:tensorflow:Assets written to: ./mycheckpoint/checkpoint_loss =0.02/assets\n",
            "INFO:tensorflow:Assets written to: ./mycheckpoint/checkpoint_loss =0.02/assets\n",
            "INFO:tensorflow:Assets written to: ./mycheckpoint/checkpoint_loss =0.03/assets\n",
            "INFO:tensorflow:Assets written to: ./mycheckpoint/checkpoint_loss =0.03/assets\n",
            "INFO:tensorflow:Assets written to: ./mycheckpoint/checkpoint_loss =0.03/assets\n",
            "INFO:tensorflow:Assets written to: ./mycheckpoint/checkpoint_loss =0.03/assets\n",
            "INFO:tensorflow:Assets written to: ./mycheckpoint/checkpoint_loss =0.03/assets\n",
            "INFO:tensorflow:Assets written to: ./mycheckpoint/checkpoint_loss =0.03/assets\n",
            "INFO:tensorflow:Assets written to: ./mycheckpoint/checkpoint_loss =0.03/assets\n",
            "INFO:tensorflow:Assets written to: ./mycheckpoint/checkpoint_loss =0.03/assets\n",
            "INFO:tensorflow:Assets written to: ./mycheckpoint/checkpoint_loss =0.03/assets\n",
            "INFO:tensorflow:Assets written to: ./mycheckpoint/checkpoint_loss =0.03/assets\n",
            "INFO:tensorflow:Assets written to: ./mycheckpoint/checkpoint_loss =0.03/assets\n",
            "INFO:tensorflow:Assets written to: ./mycheckpoint/checkpoint_loss =0.03/assets\n",
            "INFO:tensorflow:Assets written to: ./mycheckpoint/checkpoint_loss =0.03/assets\n",
            "INFO:tensorflow:Assets written to: ./mycheckpoint/checkpoint_loss =0.03/assets\n",
            "1875/1875 - 18s - loss: 0.0277 - accuracy: 0.9906 - val_loss: 0.1056 - val_accuracy: 0.9755\n"
          ],
          "name": "stdout"
        },
        {
          "output_type": "execute_result",
          "data": {
            "text/plain": [
              "<tensorflow.python.keras.callbacks.History at 0x7f900f6ba860>"
            ]
          },
          "metadata": {
            "tags": []
          },
          "execution_count": 128
        }
      ]
    },
    {
      "cell_type": "code",
      "metadata": {
        "id": "BgiYlS1JOPoH"
      },
      "source": [
        ""
      ],
      "execution_count": null,
      "outputs": []
    }
  ]
}